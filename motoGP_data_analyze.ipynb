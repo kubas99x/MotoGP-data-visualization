{
 "cells": [
  {
   "cell_type": "code",
   "execution_count": 1,
   "id": "e39d4afb",
   "metadata": {
    "ExecuteTime": {
     "end_time": "2023-10-30T18:00:56.227713Z",
     "start_time": "2023-10-30T18:00:54.746715Z"
    }
   },
   "outputs": [],
   "source": [
    "import pandas as pd\n",
    "import plotly.express as px\n",
    "import sqlite3\n",
    "\n",
    "from jupyter_dash import JupyterDash\n",
    "from dash import dcc, html\n",
    "from dash import html\n",
    "import plotly.graph_objects as go\n",
    "\n",
    "from dash.dependencies import Output, Input\n",
    "from dash.exceptions import PreventUpdate\n",
    "\n",
    "# Read sqlite query results into a pandas DataFrame\n",
    "con = sqlite3.connect(r\".\\db_motogp.sqlite\")\n",
    "\n",
    "race_results_view = pd.read_sql_query(\"SELECT * from race_results_view\", con)\n",
    "rider_stats = pd.read_sql_query(\"SELECT * from rider_stats_view\", con)\n",
    "race_condition = pd.read_sql_query(\"SELECT * from race_conditions WHERE category = 'MotoGP' \", con)\n",
    "countries = pd.read_sql_query(\"SELECT * from countries\",con)\n",
    "circuits = pd.read_sql_query(\"SELECT * FROM circuits\",con)\n",
    "con.close()\n"
   ]
  },
  {
   "cell_type": "markdown",
   "metadata": {},
   "source": [
    "### Riders performance thru specific season"
   ]
  },
  {
   "cell_type": "code",
   "execution_count": 2,
   "id": "82d4943e",
   "metadata": {
    "ExecuteTime": {
     "end_time": "2023-10-30T18:00:56.970716Z",
     "start_time": "2023-10-30T18:00:56.340713Z"
    },
    "scrolled": false
   },
   "outputs": [
    {
     "name": "stdout",
     "output_type": "stream",
     "text": [
      "Dash is running on http://127.0.0.1:8111/\n",
      "\n"
     ]
    },
    {
     "data": {
      "text/html": [
       "\n",
       "        <iframe\n",
       "            width=\"100%\"\n",
       "            height=\"650\"\n",
       "            src=\"http://127.0.0.1:8111/\"\n",
       "            frameborder=\"0\"\n",
       "            allowfullscreen\n",
       "            \n",
       "        ></iframe>\n",
       "        "
      ],
      "text/plain": [
       "<IPython.lib.display.IFrame at 0x177d9ab74f0>"
      ]
     },
     "metadata": {},
     "output_type": "display_data"
    }
   ],
   "source": [
    "riders_2021 = race_results_view.loc[(race_results_view['year'] == 2021) & (race_results_view['category'] == 'MotoGP')]\n",
    "points_by_race_and_rider = riders_2021.groupby(['sequence', 'rider_name'])['points'].sum().reset_index().sort_values('rider_name')\n",
    "dummy_points = pd.DataFrame({'rider_name': points_by_race_and_rider['rider_name'].unique(), 'sequence': 0, 'points': 0})\n",
    "points_by_race_and_rider = pd.concat([dummy_points, points_by_race_and_rider], ignore_index=True)\n",
    "grouped_points = points_by_race_and_rider.sort_values('sequence').groupby('rider_name')['points'].cumsum()\n",
    "points_by_race_and_rider['cumulative_points'] = grouped_points\n",
    "\n",
    "#only to have top 3 riders:\n",
    "points_by_rider_sum = riders_2021.groupby('rider_name')['points'].sum().reset_index().sort_values('points', ascending = False)\n",
    "top_5_riders = points_by_rider_sum.head(3)\n",
    "\n",
    "app = JupyterDash(__name__)\n",
    "\n",
    "app.layout = html.Div([\n",
    "    dcc.Dropdown(\n",
    "        id = \"filter\",\n",
    "        options = [],\n",
    "        value =[],\n",
    "        multi = True\n",
    "    ),\n",
    "    dcc.Slider(\n",
    "    id = \"year_slider\",\n",
    "    min = 2000,\n",
    "    max = race_results_view['year'].max(),\n",
    "    step = 1,\n",
    "    value =  race_results_view['year'].max(),\n",
    "    marks={str(year): str(year) for year in race_results_view['year'].unique()}\n",
    "    ),\n",
    "    dcc.Graph(id = \"graph\")\n",
    "])\n",
    "\n",
    "@app.callback(\n",
    "    [Output(\"filter\", \"options\"), Output(\"filter\", \"value\")],\n",
    "    Input(\"year_slider\", \"value\"),\n",
    ")\n",
    "def update_rider_dropdown(selected_year):\n",
    "    riders = race_results_view.loc[\n",
    "        (race_results_view[\"year\"] == selected_year) & (race_results_view[\"category\"] == \"MotoGP\")\n",
    "    ][\"rider_name\"].unique()\n",
    "    rider_options = [{\"label\": rider, \"value\": rider} for rider in riders]\n",
    "    riders_2021 = race_results_view.loc[(race_results_view['year'] == selected_year) & (race_results_view['category'] == 'MotoGP')]\n",
    "    points_by_rider_sum = riders_2021.groupby('rider_name')['points'].sum().reset_index().sort_values('points', ascending = False)\n",
    "    default_values = points_by_rider_sum.head(3)['rider_name'].tolist()\n",
    "    return rider_options, default_values\n",
    "\n",
    "@app.callback(\n",
    "    Output(\"graph\", \"figure\"),\n",
    "    Input(\"filter\",\"value\"),\n",
    "    Input(\"year_slider\",\"value\")\n",
    ")\n",
    "def plot_scatter(rider_names, year):\n",
    "    \n",
    "    riders_2021 = race_results_view.loc[(race_results_view['year'] == year) & (race_results_view['category'] == 'MotoGP')]\n",
    "    points_by_race_and_rider = riders_2021.groupby(['sequence', 'rider_name'])['points'].sum().reset_index().sort_values('rider_name')\n",
    "    dummy_points = pd.DataFrame({'rider_name': points_by_race_and_rider['rider_name'].unique(), 'sequence': 0, 'points': 0})\n",
    "    points_by_race_and_rider = pd.concat([dummy_points, points_by_race_and_rider], ignore_index=True)\n",
    "    grouped_points = points_by_race_and_rider.sort_values('sequence').groupby('rider_name')['points'].cumsum()\n",
    "    points_by_race_and_rider['cumulative_points'] = grouped_points\n",
    "\n",
    "    fig = px.line(points_by_race_and_rider.sort_values('sequence').query(\"rider_name in @rider_names\"),\n",
    "                  x = 'sequence',\n",
    "                  y = 'cumulative_points',\n",
    "                  color = 'rider_name',\n",
    "                  markers=True,\n",
    "                 category_orders={'rider_name': top_5_riders['rider_name']}\n",
    "    )\n",
    "    fig.update_xaxes(\n",
    "        title = 'Number of round'\n",
    "    )\n",
    "    fig.update_yaxes(\n",
    "        title = 'Total points'\n",
    "    )\n",
    "    fig.update_layout(\n",
    "        title = 'Riders points gain in season 2021',\n",
    "        title_x = 0.5,\n",
    "        title_font_size = 20,\n",
    "        legend_title = 'Rider name',\n",
    "        yaxis=dict(rangemode='tozero'),\n",
    "        xaxis=dict(rangemode='tozero')\n",
    "\n",
    "    )\n",
    "\n",
    "    return fig\n",
    "\n",
    "if __name__ == \"__main__\":\n",
    "    app.run_server(mode=\"inline\", port = 8111)"
   ]
  },
  {
   "cell_type": "markdown",
   "metadata": {},
   "source": [
    "### Percent of finished races for riders that have started over 50 races"
   ]
  },
  {
   "cell_type": "code",
   "execution_count": 3,
   "id": "71a7e03e",
   "metadata": {
    "ExecuteTime": {
     "end_time": "2023-10-30T18:00:58.758716Z",
     "start_time": "2023-10-30T18:00:56.978716Z"
    }
   },
   "outputs": [
    {
     "data": {
      "application/vnd.plotly.v1+json": {
       "config": {
        "plotlyServerURL": "https://plot.ly"
       },
       "data": [
        {
         "alignmentgroup": "True",
         "boxpoints": "all",
         "customdata": [
          [
           "Valentino Rossi"
          ],
          [
           "Andrea Dovizioso"
          ],
          [
           "Thomas Luthi"
          ],
          [
           "Simone Corsi"
          ],
          [
           "Dani Pedrosa"
          ],
          [
           "Loris Capirossi"
          ],
          [
           "Jorge Lorenzo"
          ],
          [
           "Aleix Espargaro"
          ],
          [
           "Alvaro Bautista"
          ],
          [
           "Hector Barbera"
          ],
          [
           "Pol Espargaro"
          ],
          [
           "Alex De Angelis"
          ],
          [
           "Andrea Iannone"
          ],
          [
           "Tito Rabat"
          ],
          [
           "Bradley Smith"
          ],
          [
           "Mattia Pasini"
          ],
          [
           "Mika Kallio"
          ],
          [
           "Dominique Aegerter"
          ],
          [
           "Randy De Puniet"
          ],
          [
           "Alex Barros"
          ],
          [
           "Toni Elias"
          ],
          [
           "Anthony West"
          ],
          [
           "Julian Simon"
          ],
          [
           "Sandro Cortese"
          ],
          [
           "Johann Zarco"
          ],
          [
           "Marc Marquez"
          ],
          [
           "Karel Abraham"
          ],
          [
           "Nicky Hayden"
          ],
          [
           "Marcel Schrotter"
          ],
          [
           "Takaaki Nakagami"
          ],
          [
           "Mike Di Meglio"
          ],
          [
           "Stefan Bradl"
          ],
          [
           "Colin Edwards"
          ],
          [
           "Giacomo Agostini"
          ],
          [
           "Marco Melandri"
          ],
          [
           "Roberto Locatelli"
          ],
          [
           "Scott Redding"
          ],
          [
           "Carlos Checa"
          ],
          [
           "Jakub Kornfeil"
          ],
          [
           "Maverick Viñales"
          ],
          [
           "Max Biaggi"
          ],
          [
           "Miguel Oliveira"
          ],
          [
           "Brad Binder"
          ],
          [
           "Hiroshi Aoyama"
          ],
          [
           "Cal Crutchlow"
          ],
          [
           "Jack Miller"
          ],
          [
           "John Mcphee"
          ],
          [
           "Danilo Petrucci"
          ],
          [
           "Alex Rins"
          ],
          [
           "Alex Marquez"
          ],
          [
           "Alexis Masbou"
          ],
          [
           "Nicolas Terol"
          ],
          [
           "Casey Stoner"
          ],
          [
           "Niccolò Antonelli"
          ],
          [
           "Hector Faubel"
          ],
          [
           "Shinya Nakano"
          ],
          [
           "Jonas Folger"
          ],
          [
           "Romano Fenati"
          ],
          [
           "Luca Cadalora"
          ],
          [
           "Xavier Simeon"
          ],
          [
           "Jack Findlay"
          ],
          [
           "Joan Olive"
          ],
          [
           "Lorenzo Baldassarri"
          ],
          [
           "Francesco Bagnaia"
          ],
          [
           "Jorge Martinez"
          ],
          [
           "Gabor Talmacsi"
          ],
          [
           "Sete Gibernau"
          ],
          [
           "Randy Krummenacher"
          ],
          [
           "Ralf Waldmann"
          ],
          [
           "Efren Vazquez"
          ],
          [
           "Axel Pons"
          ],
          [
           "Alex Criville"
          ],
          [
           "Angel Nieto"
          ],
          [
           "Hafizh Syahrin"
          ],
          [
           "Alex Baldolini"
          ],
          [
           "Sam Lowes"
          ],
          [
           "Roberto Rolfo"
          ],
          [
           "Kenny Roberts Jr"
          ],
          [
           "Bruno Kneubühler"
          ],
          [
           "Enea Bastianini"
          ],
          [
           "Yuki Takahashi"
          ],
          [
           "Marco Simoncelli"
          ],
          [
           "Ratthapark Wilairot"
          ],
          [
           "Alex Debon"
          ],
          [
           "Yonny Hernandez"
          ],
          [
           "Pablo Nieto"
          ],
          [
           "Nobuatsu Aoki"
          ],
          [
           "Mike Hailwood"
          ],
          [
           "Andrea Migno"
          ],
          [
           "Jorge Navarro"
          ],
          [
           "Franco Morbidelli"
          ],
          [
           "Sergio Gadea"
          ],
          [
           "Jeremy Mcwilliams"
          ],
          [
           "Danny Kent"
          ],
          [
           "Franco Battaini"
          ],
          [
           "Anton Mang"
          ],
          [
           "Jurgen Vd Goorbergh"
          ],
          [
           "Lukas Pesek"
          ],
          [
           "Noboru Ueda"
          ],
          [
           "Phil Read"
          ],
          [
           "Isaac Viñales"
          ],
          [
           "Tetsuya Harada"
          ],
          [
           "Philipp Oettl"
          ],
          [
           "Mick Doohan"
          ],
          [
           "Randy Mamola"
          ],
          [
           "Luis Salom"
          ],
          [
           "Steve Jenkner"
          ],
          [
           "Sebastian Porto"
          ],
          [
           "Tatsuki Suzuki"
          ],
          [
           "Norick Abe"
          ],
          [
           "Imre Toth"
          ],
          [
           "Gabriel Rodrigo"
          ],
          [
           "Fabio Quartararo"
          ],
          [
           "Stefan Dörflinger"
          ],
          [
           "Darryn Binder"
          ],
          [
           "Louis Rossi"
          ],
          [
           "Niall Mackenzie"
          ],
          [
           "Eddie Lawson"
          ],
          [
           "Sylvain Guintoli"
          ],
          [
           "Eugenio Lazzarini"
          ],
          [
           "Remy Gardner"
          ],
          [
           "Hans Spaan"
          ],
          [
           "Olivier Jacque"
          ],
          [
           "Mirko Giansanti"
          ],
          [
           "Jorge Martin"
          ],
          [
           "Raffaele De Rosa"
          ],
          [
           "Manuel Poggiali"
          ],
          [
           "Tomoyoshi Koyama"
          ],
          [
           "Stefano Perugini"
          ],
          [
           "Martin Wimmer"
          ],
          [
           "Xavi Vierge"
          ],
          [
           "Arnaud Vincent"
          ],
          [
           "Carlos Lavado"
          ],
          [
           "Luigi Taveri"
          ],
          [
           "Haruchika Aoki"
          ],
          [
           "Garry Mccoy"
          ],
          [
           "Tohru Ukawa"
          ],
          [
           "Kazuto Sakata"
          ],
          [
           "Jean Philippe Ruggia"
          ],
          [
           "Jim Redman"
          ],
          [
           "Zulfahmi Khairuddin"
          ],
          [
           "Fausto Gresini"
          ],
          [
           "Fabio Di Giannantonio"
          ],
          [
           "Emilio Alzamora"
          ],
          [
           "Michele Pirro"
          ],
          [
           "Loris Reggiani"
          ],
          [
           "Andrea Locatelli"
          ],
          [
           "John Hopkins"
          ],
          [
           "Luca Marini"
          ],
          [
           "Lucio Cecchinello"
          ],
          [
           "Didier De Radigues"
          ],
          [
           "Stefano Manzi"
          ],
          [
           "Joan Mir"
          ],
          [
           "Fonsi Nieto"
          ],
          [
           "Gino Borsoi"
          ],
          [
           "Danny Webb"
          ],
          [
           "Alberto Puig"
          ],
          [
           "Jean Francois Baldé"
          ],
          [
           "Bo Bendsneyder"
          ],
          [
           "Lorenzo Dalla Porta"
          ],
          [
           "Dieter Braun"
          ],
          [
           "Aron Canet"
          ],
          [
           "Jules Cluzel"
          ],
          [
           "Juan Garriga"
          ],
          [
           "Tadayuki Okada"
          ],
          [
           "Jacques Cornu"
          ],
          [
           "Chas Mortimer"
          ],
          [
           "Christian Sarron"
          ],
          [
           "Dirk Raudies"
          ],
          [
           "Ricard Cardus"
          ],
          [
           "Nicolo Bulega"
          ],
          [
           "Alex Hofmann"
          ],
          [
           "Carlos Cardús"
          ],
          [
           "Youichi Ui"
          ],
          [
           "Marcos Ramirez"
          ],
          [
           "Alessandro Tonucci"
          ],
          [
           "Jules Danilo"
          ],
          [
           "Jasper Iwema"
          ],
          [
           "Pierpaolo Bianchi"
          ],
          [
           "Herri Torrontegui"
          ],
          [
           "Ron Haslam"
          ],
          [
           "Maurizio Vitali"
          ],
          [
           "John Kocinski"
          ],
          [
           "Marco Bezzecchi"
          ],
          [
           "Albert Arenas"
          ],
          [
           "Jose Luis Cardoso"
          ],
          [
           "Sito Pons"
          ],
          [
           "Wayne Gardner"
          ],
          [
           "Juan Francisco Guevara"
          ],
          [
           "Harald Eckl"
          ],
          [
           "Fabrizio Lai"
          ],
          [
           "Stefan Prein"
          ],
          [
           "Masao Azuma"
          ],
          [
           "Reinhold Roth"
          ],
          [
           "Lorenzo Zanetti"
          ],
          [
           "Gianluigi Scalvini"
          ],
          [
           "Kaito Toba"
          ],
          [
           "Manuel Hernandez"
          ],
          [
           "Tetsuta Nagashima"
          ],
          [
           "Tony Arbolino"
          ],
          [
           "Livio Loi"
          ],
          [
           "Ayumu Sasaki"
          ],
          [
           "Kevin Schwantz"
          ],
          [
           "Barry Sheene"
          ],
          [
           "Jochen Schmid"
          ],
          [
           "Iker Lecuona"
          ],
          [
           "Dirk Heidolf"
          ],
          [
           "Pierfrancesco Chili"
          ],
          [
           "Wayne Rainey"
          ],
          [
           "Adi Stadler"
          ],
          [
           "Kent Andersson"
          ],
          [
           "Andy Preining"
          ],
          [
           "Regis Laconi"
          ],
          [
           "Jesko Raffin"
          ],
          [
           "Masaki Tokudome"
          ],
          [
           "Naoki Matsudo"
          ],
          [
           "Makoto Tamada"
          ],
          [
           "Wilco Zeelenberg"
          ],
          [
           "Jakub Smrz"
          ],
          [
           "Patrick Fernandez"
          ],
          [
           "Gabriele Debbia"
          ],
          [
           "Niklas Ajo"
          ],
          [
           "Ezio Gianola"
          ],
          [
           "Johnny Wickstroem"
          ],
          [
           "Luis D'Antin"
          ],
          [
           "Andrea Ballerini"
          ],
          [
           "Dominique Sarron"
          ],
          [
           "Kork Ballington"
          ],
          [
           "Chris Vermeulen"
          ],
          [
           "August Auinger"
          ],
          [
           "Khairul Idham Pawi"
          ],
          [
           "Augusto Fernandez"
          ],
          [
           "Tevo Lansivuori"
          ],
          [
           "Oliver Petrucciani"
          ],
          [
           "Takazumi Katayama"
          ],
          [
           "Doriano Romboni"
          ],
          [
           "Joe Roberts"
          ],
          [
           "Helmut Bradl"
          ],
          [
           "Dennis Foggia"
          ],
          [
           "Jordi Torres"
          ],
          [
           "Simone Grotzkyj"
          ],
          [
           "Boet Van Dulmen"
          ],
          [
           "Michael Ranseder"
          ],
          [
           "Luca Boscoscuro"
          ],
          [
           "Jaume Masia"
          ],
          [
           "Claudio Corti"
          ],
          [
           "Kenny Roberts"
          ],
          [
           "Eric Granado"
          ],
          [
           "Maria Herrera"
          ],
          [
           "Tommy Robb"
          ],
          [
           "Bernard Haenggeli"
          ],
          [
           "Alberto Moncayo"
          ],
          [
           "Takeshi Tsujimura"
          ],
          [
           "Patrick Vd Goorbergh"
          ],
          [
           "Julian Miralles"
          ],
          [
           "Eugene Laverty"
          ],
          [
           "Cees Doorakkers"
          ],
          [
           "Carlo Ubbiali"
          ],
          [
           "Ivan Goi"
          ],
          [
           "John Dodds"
          ],
          [
           "Tomomi Manako"
          ],
          [
           "Chaz Davies"
          ],
          [
           "Angel Nieto Jr."
          ],
          [
           "Billie Nelson"
          ],
          [
           "Franco Uncini"
          ],
          [
           "Marco Papa"
          ],
          [
           "Jaroslav Hules"
          ],
          [
           "Frederic Protat"
          ],
          [
           "Walter Villa"
          ],
          [
           "Hans Müller"
          ],
          [
           "Edgar Pons"
          ],
          [
           "Jean Foray"
          ],
          [
           "Jean Louis Guignabodet"
          ],
          [
           "Matteo Ferrari"
          ],
          [
           "Bruno Casanova"
          ],
          [
           "Robin Appleyard"
          ],
          [
           "Alfred Waibel"
          ],
          [
           "Johan Stigefelt"
          ],
          [
           "Peter Oettl"
          ],
          [
           "Henk Van Kessel"
          ],
          [
           "Jean Michel Bayle"
          ],
          [
           "Juan Borja"
          ],
          [
           "Adam Norrodin"
          ],
          [
           "Michel Rougerie"
          ],
          [
           "Tom Herron"
          ],
          [
           "Hubert Abold"
          ],
          [
           "Eskil Suter"
          ],
          [
           "Borje Jansson"
          ],
          [
           " "
          ],
          [
           "Theo Timmer"
          ],
          [
           "Jean Michel Mattioli"
          ],
          [
           "Geoff Duke"
          ],
          [
           "Paolo Casoli"
          ],
          [
           "Jay Vincent"
          ],
          [
           "Freddie Spencer"
          ],
          [
           "Raul Fernandez"
          ],
          [
           "Gyula Marsovszky"
          ],
          [
           "Simone Sanna"
          ],
          [
           "Stefano Nepa"
          ],
          [
           "Raymond Roche"
          ],
          [
           "James Ellison"
          ],
          [
           "Bernd Kassner"
          ],
          [
           "Ben Spies"
          ],
          [
           "Frederic Petit"
          ],
          [
           "Gerhard Waibel"
          ],
          [
           "Alonso Lopez"
          ],
          [
           "Marco Lucchinelli"
          ],
          [
           "Shinichi Ito"
          ],
          [
           "Marcellino Lucchi"
          ],
          [
           "Donnie Mcleod"
          ],
          [
           "Rodney Gould"
          ],
          [
           "Adrian Martin"
          ],
          [
           "Federico Sandi"
          ],
          [
           "Thierry Espié"
          ],
          [
           "Celestino Vietti"
          ],
          [
           "Jean Claude Selini"
          ],
          [
           "Kel Carruthers"
          ],
          [
           "Rudolf Kunz"
          ],
          [
           "Taro Sekiguchi"
          ],
          [
           "Masao Shimizu"
          ],
          [
           "Steven Odendaal"
          ],
          [
           "Ai Ogura"
          ],
          [
           "Robin Mulhauser"
          ],
          [
           "Max Sabbatani"
          ],
          [
           "Hisashi Unemoto"
          ],
          [
           "Alessandro Gramigni"
          ],
          [
           "Roland Freymond"
          ],
          [
           "Penti Korhonen"
          ],
          [
           "Stefano Caracchi"
          ],
          [
           "Philippe Coulon"
          ],
          [
           "Domenico Brigaglia"
          ],
          [
           "Patrick Pons"
          ],
          [
           "Rob Mcelnea"
          ],
          [
           "Franta Stastny"
          ]
         ],
         "hovertemplate": "finishes_per_start=%{y}<br>rider_full_name=%{customdata[0]}<extra></extra>",
         "legendgroup": "",
         "marker": {
          "color": "#636efa"
         },
         "name": "",
         "notched": false,
         "offsetgroup": "",
         "orientation": "v",
         "showlegend": false,
         "type": "box",
         "x0": " ",
         "xaxis": "x",
         "y": [
          91.87192118226601,
          90.625,
          85.99348534201954,
          80.95238095238095,
          90.34482758620689,
          90.17543859649123,
          89.08450704225352,
          76.61870503597122,
          82.77153558052434,
          88.12260536398468,
          82.94573643410853,
          83.06451612903226,
          77.55102040816327,
          81.5126050420168,
          87.76371308016877,
          70.76271186440678,
          80.08658008658008,
          93.50649350649351,
          78.94736842105263,
          94.61883408071749,
          90.54054054054055,
          79.18552036199095,
          86.42533936651584,
          80.45454545454545,
          85.9090909090909,
          83.63636363636364,
          69.30232558139535,
          88.73239436619718,
          85.85365853658537,
          85.22167487684729,
          81,
          79.59183673469387,
          89.17525773195877,
          86.08247422680412,
          93.22916666666667,
          89.58333333333333,
          82.63157894736842,
          91.005291005291,
          91.97860962566845,
          88.70967741935483,
          94.44444444444444,
          83.52272727272727,
          83.42857142857143,
          89.53488372093024,
          72.67441860465117,
          74.70588235294117,
          76.64670658682634,
          80.23952095808383,
          84.93975903614458,
          79.39393939393939,
          67.87878787878788,
          89.0909090909091,
          88.34355828220859,
          77.77777777777777,
          82.71604938271605,
          88.67924528301887,
          79.48717948717949,
          82.6923076923077,
          96.7741935483871,
          71.42857142857143,
          71.42857142857143,
          86.9281045751634,
          76,
          78,
          95.97315436241611,
          92.61744966442953,
          87.75510204081633,
          91.78082191780823,
          95.89041095890411,
          75.34246575342466,
          60.95890410958904,
          95.20547945205479,
          98.62068965517241,
          84.02777777777777,
          73.57142857142857,
          67.62589928057554,
          88.48920863309353,
          97.10144927536231,
          99.27536231884058,
          84.67153284671532,
          77.94117647058823,
          83.08823529411765,
          74.6268656716418,
          85.82089552238806,
          73.6842105263158,
          84.9624060150376,
          95.45454545454545,
          92.42424242424242,
          81.6793893129771,
          68.70229007633588,
          86.25954198473282,
          81.53846153846153,
          91.47286821705427,
          76.98412698412699,
          92.85714285714286,
          97.6,
          95.2,
          68.8,
          97.5609756097561,
          100,
          76.42276422764228,
          93.44262295081967,
          92.56198347107438,
          98.34710743801652,
          95.04132231404958,
          79.16666666666667,
          91.66666666666667,
          91.59663865546219,
          64.70588235294117,
          95.7983193277311,
          86.44067796610169,
          62.93103448275862,
          84.48275862068965,
          99.1304347826087,
          72.17391304347827,
          71.30434782608695,
          93.04347826086956,
          96.49122807017544,
          89.38053097345133,
          100,
          80.53097345132744,
          94.69026548672566,
          92.85714285714286,
          98.21428571428571,
          76.57657657657657,
          65.76576576576576,
          86.48648648648648,
          80,
          92.72727272727273,
          94.54545454545455,
          71.55963302752293,
          80.73394495412845,
          92.5925925925926,
          92.5925925925926,
          95.37037037037037,
          94.39252336448598,
          98.11320754716981,
          96.22641509433963,
          95.28301886792453,
          94.33962264150944,
          81.13207547169812,
          97.16981132075472,
          80.95238095238095,
          98.0952380952381,
          73.33333333333333,
          93.33333333333333,
          79.04761904761905,
          91.34615384615384,
          78.84615384615384,
          94.1747572815534,
          94.1747572815534,
          68.62745098039215,
          83.33333333333333,
          95.09803921568627,
          96.07843137254902,
          62.745098039215684,
          99.01960784313725,
          96.07843137254902,
          85.14851485148515,
          77.22772277227723,
          100,
          72,
          65,
          91.91919191919192,
          96.96969696969697,
          98.98989898989899,
          100,
          94.89795918367346,
          96.93877551020408,
          79.38144329896907,
          76.28865979381443,
          89.58333333333333,
          89.58333333333333,
          95.78947368421052,
          83.15789473684211,
          87.23404255319149,
          74.46808510638297,
          69.14893617021276,
          96.7741935483871,
          97.84946236559139,
          86.95652173913044,
          93.47826086956522,
          93.33333333333333,
          76.66666666666667,
          66.66666666666667,
          82.22222222222223,
          95.55555555555556,
          94.44444444444444,
          71.11111111111111,
          93.25842696629213,
          86.36363636363636,
          86.36363636363636,
          100,
          100,
          76.47058823529412,
          88.23529411764706,
          74.11764705882354,
          85.88235294117646,
          84.70588235294117,
          84.70588235294117,
          90.47619047619048,
          78.57142857142857,
          96.42857142857143,
          92.85714285714286,
          95.23809523809524,
          69.87951807228916,
          84.33734939759036,
          95.18072289156626,
          97.5609756097561,
          95.06172839506173,
          100,
          91.02564102564102,
          94.87179487179488,
          97.40259740259741,
          97.40259740259741,
          96.1038961038961,
          92.20779220779221,
          98.7012987012987,
          81.81818181818181,
          100,
          97.36842105263158,
          64.47368421052632,
          94.66666666666667,
          100,
          97.29729729729729,
          82.43243243243244,
          91.89189189189189,
          95.89041095890411,
          93.15068493150685,
          97.22222222222223,
          84.72222222222223,
          81.94444444444444,
          97.22222222222223,
          94.44444444444444,
          94.44444444444444,
          90.27777777777777,
          81.69014084507042,
          95.77464788732394,
          76.05633802816901,
          87.32394366197182,
          73.2394366197183,
          98.57142857142857,
          71.42857142857143,
          97.14285714285714,
          71.42857142857143,
          86.95652173913044,
          89.85507246376811,
          85.29411764705883,
          85.29411764705883,
          91.04477611940298,
          97.01492537313433,
          83.58208955223881,
          95.5223880597015,
          92.42424242424242,
          96.96969696969697,
          81.81818181818181,
          95.45454545454545,
          100,
          96.92307692307692,
          100,
          100,
          81.53846153846153,
          96.875,
          100,
          96.875,
          89.0625,
          93.75,
          95.23809523809524,
          100,
          95.16129032258064,
          80.64516129032258,
          96.7741935483871,
          95.16129032258064,
          75.80645161290323,
          93.54838709677419,
          96.7741935483871,
          96.72131147540983,
          90.1639344262295,
          95.08196721311475,
          100,
          91.66666666666667,
          90,
          70,
          98.33333333333333,
          100,
          95,
          89.83050847457628,
          100,
          89.83050847457628,
          96.61016949152543,
          96.61016949152543,
          100,
          84.48275862068965,
          98.27586206896552,
          87.93103448275862,
          81.03448275862068,
          100,
          94.64285714285714,
          92.85714285714286,
          89.28571428571429,
          80.35714285714286,
          92.85714285714286,
          80.35714285714286,
          98.18181818181819,
          100,
          60,
          87.27272727272727,
          98.18181818181819,
          94.54545454545455,
          90.74074074074075,
          100,
          62.96296296296296,
          57.407407407407405,
          98.14814814814815,
          85.18518518518519,
          98.14814814814815,
          100,
          100,
          83.33333333333333,
          100,
          81.48148148148148,
          84.90566037735849,
          86.79245283018868,
          94.33962264150944,
          100,
          92.45283018867924,
          96.15384615384616,
          100,
          90.38461538461539,
          98.03921568627452,
          96.07843137254902,
          100,
          90.19607843137256,
          100
         ],
         "y0": " ",
         "yaxis": "y"
        }
       ],
       "layout": {
        "boxmode": "group",
        "legend": {
         "tracegroupgap": 0
        },
        "margin": {
         "t": 60
        },
        "template": {
         "data": {
          "bar": [
           {
            "error_x": {
             "color": "#2a3f5f"
            },
            "error_y": {
             "color": "#2a3f5f"
            },
            "marker": {
             "line": {
              "color": "#E5ECF6",
              "width": 0.5
             },
             "pattern": {
              "fillmode": "overlay",
              "size": 10,
              "solidity": 0.2
             }
            },
            "type": "bar"
           }
          ],
          "barpolar": [
           {
            "marker": {
             "line": {
              "color": "#E5ECF6",
              "width": 0.5
             },
             "pattern": {
              "fillmode": "overlay",
              "size": 10,
              "solidity": 0.2
             }
            },
            "type": "barpolar"
           }
          ],
          "carpet": [
           {
            "aaxis": {
             "endlinecolor": "#2a3f5f",
             "gridcolor": "white",
             "linecolor": "white",
             "minorgridcolor": "white",
             "startlinecolor": "#2a3f5f"
            },
            "baxis": {
             "endlinecolor": "#2a3f5f",
             "gridcolor": "white",
             "linecolor": "white",
             "minorgridcolor": "white",
             "startlinecolor": "#2a3f5f"
            },
            "type": "carpet"
           }
          ],
          "choropleth": [
           {
            "colorbar": {
             "outlinewidth": 0,
             "ticks": ""
            },
            "type": "choropleth"
           }
          ],
          "contour": [
           {
            "colorbar": {
             "outlinewidth": 0,
             "ticks": ""
            },
            "colorscale": [
             [
              0,
              "#0d0887"
             ],
             [
              0.1111111111111111,
              "#46039f"
             ],
             [
              0.2222222222222222,
              "#7201a8"
             ],
             [
              0.3333333333333333,
              "#9c179e"
             ],
             [
              0.4444444444444444,
              "#bd3786"
             ],
             [
              0.5555555555555556,
              "#d8576b"
             ],
             [
              0.6666666666666666,
              "#ed7953"
             ],
             [
              0.7777777777777778,
              "#fb9f3a"
             ],
             [
              0.8888888888888888,
              "#fdca26"
             ],
             [
              1,
              "#f0f921"
             ]
            ],
            "type": "contour"
           }
          ],
          "contourcarpet": [
           {
            "colorbar": {
             "outlinewidth": 0,
             "ticks": ""
            },
            "type": "contourcarpet"
           }
          ],
          "heatmap": [
           {
            "colorbar": {
             "outlinewidth": 0,
             "ticks": ""
            },
            "colorscale": [
             [
              0,
              "#0d0887"
             ],
             [
              0.1111111111111111,
              "#46039f"
             ],
             [
              0.2222222222222222,
              "#7201a8"
             ],
             [
              0.3333333333333333,
              "#9c179e"
             ],
             [
              0.4444444444444444,
              "#bd3786"
             ],
             [
              0.5555555555555556,
              "#d8576b"
             ],
             [
              0.6666666666666666,
              "#ed7953"
             ],
             [
              0.7777777777777778,
              "#fb9f3a"
             ],
             [
              0.8888888888888888,
              "#fdca26"
             ],
             [
              1,
              "#f0f921"
             ]
            ],
            "type": "heatmap"
           }
          ],
          "heatmapgl": [
           {
            "colorbar": {
             "outlinewidth": 0,
             "ticks": ""
            },
            "colorscale": [
             [
              0,
              "#0d0887"
             ],
             [
              0.1111111111111111,
              "#46039f"
             ],
             [
              0.2222222222222222,
              "#7201a8"
             ],
             [
              0.3333333333333333,
              "#9c179e"
             ],
             [
              0.4444444444444444,
              "#bd3786"
             ],
             [
              0.5555555555555556,
              "#d8576b"
             ],
             [
              0.6666666666666666,
              "#ed7953"
             ],
             [
              0.7777777777777778,
              "#fb9f3a"
             ],
             [
              0.8888888888888888,
              "#fdca26"
             ],
             [
              1,
              "#f0f921"
             ]
            ],
            "type": "heatmapgl"
           }
          ],
          "histogram": [
           {
            "marker": {
             "pattern": {
              "fillmode": "overlay",
              "size": 10,
              "solidity": 0.2
             }
            },
            "type": "histogram"
           }
          ],
          "histogram2d": [
           {
            "colorbar": {
             "outlinewidth": 0,
             "ticks": ""
            },
            "colorscale": [
             [
              0,
              "#0d0887"
             ],
             [
              0.1111111111111111,
              "#46039f"
             ],
             [
              0.2222222222222222,
              "#7201a8"
             ],
             [
              0.3333333333333333,
              "#9c179e"
             ],
             [
              0.4444444444444444,
              "#bd3786"
             ],
             [
              0.5555555555555556,
              "#d8576b"
             ],
             [
              0.6666666666666666,
              "#ed7953"
             ],
             [
              0.7777777777777778,
              "#fb9f3a"
             ],
             [
              0.8888888888888888,
              "#fdca26"
             ],
             [
              1,
              "#f0f921"
             ]
            ],
            "type": "histogram2d"
           }
          ],
          "histogram2dcontour": [
           {
            "colorbar": {
             "outlinewidth": 0,
             "ticks": ""
            },
            "colorscale": [
             [
              0,
              "#0d0887"
             ],
             [
              0.1111111111111111,
              "#46039f"
             ],
             [
              0.2222222222222222,
              "#7201a8"
             ],
             [
              0.3333333333333333,
              "#9c179e"
             ],
             [
              0.4444444444444444,
              "#bd3786"
             ],
             [
              0.5555555555555556,
              "#d8576b"
             ],
             [
              0.6666666666666666,
              "#ed7953"
             ],
             [
              0.7777777777777778,
              "#fb9f3a"
             ],
             [
              0.8888888888888888,
              "#fdca26"
             ],
             [
              1,
              "#f0f921"
             ]
            ],
            "type": "histogram2dcontour"
           }
          ],
          "mesh3d": [
           {
            "colorbar": {
             "outlinewidth": 0,
             "ticks": ""
            },
            "type": "mesh3d"
           }
          ],
          "parcoords": [
           {
            "line": {
             "colorbar": {
              "outlinewidth": 0,
              "ticks": ""
             }
            },
            "type": "parcoords"
           }
          ],
          "pie": [
           {
            "automargin": true,
            "type": "pie"
           }
          ],
          "scatter": [
           {
            "fillpattern": {
             "fillmode": "overlay",
             "size": 10,
             "solidity": 0.2
            },
            "type": "scatter"
           }
          ],
          "scatter3d": [
           {
            "line": {
             "colorbar": {
              "outlinewidth": 0,
              "ticks": ""
             }
            },
            "marker": {
             "colorbar": {
              "outlinewidth": 0,
              "ticks": ""
             }
            },
            "type": "scatter3d"
           }
          ],
          "scattercarpet": [
           {
            "marker": {
             "colorbar": {
              "outlinewidth": 0,
              "ticks": ""
             }
            },
            "type": "scattercarpet"
           }
          ],
          "scattergeo": [
           {
            "marker": {
             "colorbar": {
              "outlinewidth": 0,
              "ticks": ""
             }
            },
            "type": "scattergeo"
           }
          ],
          "scattergl": [
           {
            "marker": {
             "colorbar": {
              "outlinewidth": 0,
              "ticks": ""
             }
            },
            "type": "scattergl"
           }
          ],
          "scattermapbox": [
           {
            "marker": {
             "colorbar": {
              "outlinewidth": 0,
              "ticks": ""
             }
            },
            "type": "scattermapbox"
           }
          ],
          "scatterpolar": [
           {
            "marker": {
             "colorbar": {
              "outlinewidth": 0,
              "ticks": ""
             }
            },
            "type": "scatterpolar"
           }
          ],
          "scatterpolargl": [
           {
            "marker": {
             "colorbar": {
              "outlinewidth": 0,
              "ticks": ""
             }
            },
            "type": "scatterpolargl"
           }
          ],
          "scatterternary": [
           {
            "marker": {
             "colorbar": {
              "outlinewidth": 0,
              "ticks": ""
             }
            },
            "type": "scatterternary"
           }
          ],
          "surface": [
           {
            "colorbar": {
             "outlinewidth": 0,
             "ticks": ""
            },
            "colorscale": [
             [
              0,
              "#0d0887"
             ],
             [
              0.1111111111111111,
              "#46039f"
             ],
             [
              0.2222222222222222,
              "#7201a8"
             ],
             [
              0.3333333333333333,
              "#9c179e"
             ],
             [
              0.4444444444444444,
              "#bd3786"
             ],
             [
              0.5555555555555556,
              "#d8576b"
             ],
             [
              0.6666666666666666,
              "#ed7953"
             ],
             [
              0.7777777777777778,
              "#fb9f3a"
             ],
             [
              0.8888888888888888,
              "#fdca26"
             ],
             [
              1,
              "#f0f921"
             ]
            ],
            "type": "surface"
           }
          ],
          "table": [
           {
            "cells": {
             "fill": {
              "color": "#EBF0F8"
             },
             "line": {
              "color": "white"
             }
            },
            "header": {
             "fill": {
              "color": "#C8D4E3"
             },
             "line": {
              "color": "white"
             }
            },
            "type": "table"
           }
          ]
         },
         "layout": {
          "annotationdefaults": {
           "arrowcolor": "#2a3f5f",
           "arrowhead": 0,
           "arrowwidth": 1
          },
          "autotypenumbers": "strict",
          "coloraxis": {
           "colorbar": {
            "outlinewidth": 0,
            "ticks": ""
           }
          },
          "colorscale": {
           "diverging": [
            [
             0,
             "#8e0152"
            ],
            [
             0.1,
             "#c51b7d"
            ],
            [
             0.2,
             "#de77ae"
            ],
            [
             0.3,
             "#f1b6da"
            ],
            [
             0.4,
             "#fde0ef"
            ],
            [
             0.5,
             "#f7f7f7"
            ],
            [
             0.6,
             "#e6f5d0"
            ],
            [
             0.7,
             "#b8e186"
            ],
            [
             0.8,
             "#7fbc41"
            ],
            [
             0.9,
             "#4d9221"
            ],
            [
             1,
             "#276419"
            ]
           ],
           "sequential": [
            [
             0,
             "#0d0887"
            ],
            [
             0.1111111111111111,
             "#46039f"
            ],
            [
             0.2222222222222222,
             "#7201a8"
            ],
            [
             0.3333333333333333,
             "#9c179e"
            ],
            [
             0.4444444444444444,
             "#bd3786"
            ],
            [
             0.5555555555555556,
             "#d8576b"
            ],
            [
             0.6666666666666666,
             "#ed7953"
            ],
            [
             0.7777777777777778,
             "#fb9f3a"
            ],
            [
             0.8888888888888888,
             "#fdca26"
            ],
            [
             1,
             "#f0f921"
            ]
           ],
           "sequentialminus": [
            [
             0,
             "#0d0887"
            ],
            [
             0.1111111111111111,
             "#46039f"
            ],
            [
             0.2222222222222222,
             "#7201a8"
            ],
            [
             0.3333333333333333,
             "#9c179e"
            ],
            [
             0.4444444444444444,
             "#bd3786"
            ],
            [
             0.5555555555555556,
             "#d8576b"
            ],
            [
             0.6666666666666666,
             "#ed7953"
            ],
            [
             0.7777777777777778,
             "#fb9f3a"
            ],
            [
             0.8888888888888888,
             "#fdca26"
            ],
            [
             1,
             "#f0f921"
            ]
           ]
          },
          "colorway": [
           "#636efa",
           "#EF553B",
           "#00cc96",
           "#ab63fa",
           "#FFA15A",
           "#19d3f3",
           "#FF6692",
           "#B6E880",
           "#FF97FF",
           "#FECB52"
          ],
          "font": {
           "color": "#2a3f5f"
          },
          "geo": {
           "bgcolor": "white",
           "lakecolor": "white",
           "landcolor": "#E5ECF6",
           "showlakes": true,
           "showland": true,
           "subunitcolor": "white"
          },
          "hoverlabel": {
           "align": "left"
          },
          "hovermode": "closest",
          "mapbox": {
           "style": "light"
          },
          "paper_bgcolor": "white",
          "plot_bgcolor": "#E5ECF6",
          "polar": {
           "angularaxis": {
            "gridcolor": "white",
            "linecolor": "white",
            "ticks": ""
           },
           "bgcolor": "#E5ECF6",
           "radialaxis": {
            "gridcolor": "white",
            "linecolor": "white",
            "ticks": ""
           }
          },
          "scene": {
           "xaxis": {
            "backgroundcolor": "#E5ECF6",
            "gridcolor": "white",
            "gridwidth": 2,
            "linecolor": "white",
            "showbackground": true,
            "ticks": "",
            "zerolinecolor": "white"
           },
           "yaxis": {
            "backgroundcolor": "#E5ECF6",
            "gridcolor": "white",
            "gridwidth": 2,
            "linecolor": "white",
            "showbackground": true,
            "ticks": "",
            "zerolinecolor": "white"
           },
           "zaxis": {
            "backgroundcolor": "#E5ECF6",
            "gridcolor": "white",
            "gridwidth": 2,
            "linecolor": "white",
            "showbackground": true,
            "ticks": "",
            "zerolinecolor": "white"
           }
          },
          "shapedefaults": {
           "line": {
            "color": "#2a3f5f"
           }
          },
          "ternary": {
           "aaxis": {
            "gridcolor": "white",
            "linecolor": "white",
            "ticks": ""
           },
           "baxis": {
            "gridcolor": "white",
            "linecolor": "white",
            "ticks": ""
           },
           "bgcolor": "#E5ECF6",
           "caxis": {
            "gridcolor": "white",
            "linecolor": "white",
            "ticks": ""
           }
          },
          "title": {
           "x": 0.05
          },
          "xaxis": {
           "automargin": true,
           "gridcolor": "white",
           "linecolor": "white",
           "ticks": "",
           "title": {
            "standoff": 15
           },
           "zerolinecolor": "white",
           "zerolinewidth": 2
          },
          "yaxis": {
           "automargin": true,
           "gridcolor": "white",
           "linecolor": "white",
           "ticks": "",
           "title": {
            "standoff": 15
           },
           "zerolinecolor": "white",
           "zerolinewidth": 2
          }
         }
        },
        "title": {
         "font": {
          "size": 20
         },
         "text": "Percent of finished races, riders with more than 50 starts",
         "x": 0.5
        },
        "xaxis": {
         "anchor": "y",
         "domain": [
          0,
          1
         ]
        },
        "yaxis": {
         "anchor": "x",
         "domain": [
          0,
          1
         ],
         "title": {
          "text": "Percent of finished races"
         }
        }
       }
      }
     },
     "metadata": {},
     "output_type": "display_data"
    }
   ],
   "source": [
    "#BOX percent of finished races, riders with more than 50 starts\n",
    "rider_stats = rider_stats.sort_values('starts', ascending = False)\n",
    "#rider_stats.head()\n",
    "rider_stats['finishes_per_start'] = 100 * rider_stats['finishes'] / rider_stats['starts']\n",
    "rider_stats['rider_full_name'] = rider_stats['first_name'] + ' ' + rider_stats['last_name']\n",
    "\n",
    "fig_box = px.box(rider_stats[rider_stats['starts'] > 50], \n",
    "                 y = 'finishes_per_start', \n",
    "                 hover_data = ['rider_full_name'], \n",
    "                 points=\"all\")\n",
    "\n",
    "fig_box.update_layout(\n",
    "    title = 'Percent of finished races, riders with more than 50 starts',\n",
    "    title_x = 0.5,\n",
    "    title_font_size = 20,\n",
    ")\n",
    "fig_box.update_yaxes(\n",
    "    title = 'Percent of finished races'\n",
    ")"
   ]
  },
  {
   "cell_type": "markdown",
   "metadata": {},
   "source": [
    "### Number of started races shown on box plot"
   ]
  },
  {
   "cell_type": "code",
   "execution_count": 4,
   "id": "549d5de1",
   "metadata": {
    "ExecuteTime": {
     "end_time": "2023-10-30T18:00:58.762716Z",
     "start_time": "2023-10-30T18:00:58.729715Z"
    }
   },
   "outputs": [
    {
     "data": {
      "application/vnd.plotly.v1+json": {
       "config": {
        "plotlyServerURL": "https://plot.ly"
       },
       "data": [
        {
         "alignmentgroup": "True",
         "customdata": [
          [
           "Valentino Rossi"
          ],
          [
           "Andrea Dovizioso"
          ],
          [
           "Thomas Luthi"
          ],
          [
           "Simone Corsi"
          ],
          [
           "Dani Pedrosa"
          ],
          [
           "Loris Capirossi"
          ],
          [
           "Jorge Lorenzo"
          ],
          [
           "Aleix Espargaro"
          ],
          [
           "Alvaro Bautista"
          ],
          [
           "Hector Barbera"
          ],
          [
           "Pol Espargaro"
          ],
          [
           "Alex De Angelis"
          ],
          [
           "Andrea Iannone"
          ],
          [
           "Tito Rabat"
          ],
          [
           "Bradley Smith"
          ],
          [
           "Mattia Pasini"
          ],
          [
           "Mika Kallio"
          ],
          [
           "Dominique Aegerter"
          ],
          [
           "Randy De Puniet"
          ],
          [
           "Alex Barros"
          ],
          [
           "Toni Elias"
          ],
          [
           "Anthony West"
          ],
          [
           "Julian Simon"
          ],
          [
           "Sandro Cortese"
          ],
          [
           "Johann Zarco"
          ],
          [
           "Marc Marquez"
          ],
          [
           "Karel Abraham"
          ],
          [
           "Nicky Hayden"
          ],
          [
           "Marcel Schrotter"
          ],
          [
           "Takaaki Nakagami"
          ],
          [
           "Mike Di Meglio"
          ],
          [
           "Stefan Bradl"
          ],
          [
           "Colin Edwards"
          ],
          [
           "Giacomo Agostini"
          ],
          [
           "Marco Melandri"
          ],
          [
           "Roberto Locatelli"
          ],
          [
           "Scott Redding"
          ],
          [
           "Carlos Checa"
          ],
          [
           "Jakub Kornfeil"
          ],
          [
           "Maverick Viñales"
          ],
          [
           "Max Biaggi"
          ],
          [
           "Miguel Oliveira"
          ],
          [
           "Brad Binder"
          ],
          [
           "Hiroshi Aoyama"
          ],
          [
           "Cal Crutchlow"
          ],
          [
           "Jack Miller"
          ],
          [
           "John Mcphee"
          ],
          [
           "Danilo Petrucci"
          ],
          [
           "Alex Rins"
          ],
          [
           "Alex Marquez"
          ],
          [
           "Alexis Masbou"
          ],
          [
           "Nicolas Terol"
          ],
          [
           "Casey Stoner"
          ],
          [
           "Niccolò Antonelli"
          ],
          [
           "Hector Faubel"
          ],
          [
           "Shinya Nakano"
          ],
          [
           "Jonas Folger"
          ],
          [
           "Romano Fenati"
          ],
          [
           "Luca Cadalora"
          ],
          [
           "Xavier Simeon"
          ],
          [
           "Jack Findlay"
          ],
          [
           "Joan Olive"
          ],
          [
           "Lorenzo Baldassarri"
          ],
          [
           "Francesco Bagnaia"
          ],
          [
           "Jorge Martinez"
          ],
          [
           "Gabor Talmacsi"
          ],
          [
           "Sete Gibernau"
          ],
          [
           "Randy Krummenacher"
          ],
          [
           "Ralf Waldmann"
          ],
          [
           "Efren Vazquez"
          ],
          [
           "Axel Pons"
          ],
          [
           "Alex Criville"
          ],
          [
           "Angel Nieto"
          ],
          [
           "Hafizh Syahrin"
          ],
          [
           "Alex Baldolini"
          ],
          [
           "Sam Lowes"
          ],
          [
           "Roberto Rolfo"
          ],
          [
           "Kenny Roberts Jr"
          ],
          [
           "Bruno Kneubühler"
          ],
          [
           "Enea Bastianini"
          ],
          [
           "Yuki Takahashi"
          ],
          [
           "Marco Simoncelli"
          ],
          [
           "Ratthapark Wilairot"
          ],
          [
           "Alex Debon"
          ],
          [
           "Yonny Hernandez"
          ],
          [
           "Pablo Nieto"
          ],
          [
           "Nobuatsu Aoki"
          ],
          [
           "Mike Hailwood"
          ],
          [
           "Andrea Migno"
          ],
          [
           "Jorge Navarro"
          ],
          [
           "Franco Morbidelli"
          ],
          [
           "Sergio Gadea"
          ],
          [
           "Jeremy Mcwilliams"
          ],
          [
           "Danny Kent"
          ],
          [
           "Franco Battaini"
          ],
          [
           "Anton Mang"
          ],
          [
           "Jurgen Vd Goorbergh"
          ],
          [
           "Lukas Pesek"
          ],
          [
           "Noboru Ueda"
          ],
          [
           "Phil Read"
          ],
          [
           "Isaac Viñales"
          ],
          [
           "Tetsuya Harada"
          ],
          [
           "Philipp Oettl"
          ],
          [
           "Mick Doohan"
          ],
          [
           "Randy Mamola"
          ],
          [
           "Luis Salom"
          ],
          [
           "Steve Jenkner"
          ],
          [
           "Sebastian Porto"
          ],
          [
           "Tatsuki Suzuki"
          ],
          [
           "Norick Abe"
          ],
          [
           "Imre Toth"
          ],
          [
           "Gabriel Rodrigo"
          ],
          [
           "Fabio Quartararo"
          ],
          [
           "Stefan Dörflinger"
          ],
          [
           "Darryn Binder"
          ],
          [
           "Louis Rossi"
          ],
          [
           "Niall Mackenzie"
          ],
          [
           "Eddie Lawson"
          ],
          [
           "Sylvain Guintoli"
          ],
          [
           "Eugenio Lazzarini"
          ],
          [
           "Remy Gardner"
          ],
          [
           "Hans Spaan"
          ],
          [
           "Olivier Jacque"
          ],
          [
           "Mirko Giansanti"
          ],
          [
           "Jorge Martin"
          ],
          [
           "Raffaele De Rosa"
          ],
          [
           "Manuel Poggiali"
          ],
          [
           "Tomoyoshi Koyama"
          ],
          [
           "Stefano Perugini"
          ],
          [
           "Martin Wimmer"
          ],
          [
           "Xavi Vierge"
          ],
          [
           "Arnaud Vincent"
          ],
          [
           "Carlos Lavado"
          ],
          [
           "Luigi Taveri"
          ],
          [
           "Haruchika Aoki"
          ],
          [
           "Garry Mccoy"
          ],
          [
           "Tohru Ukawa"
          ],
          [
           "Kazuto Sakata"
          ],
          [
           "Jean Philippe Ruggia"
          ],
          [
           "Jim Redman"
          ],
          [
           "Zulfahmi Khairuddin"
          ],
          [
           "Fausto Gresini"
          ],
          [
           "Fabio Di Giannantonio"
          ],
          [
           "Emilio Alzamora"
          ],
          [
           "Michele Pirro"
          ],
          [
           "Loris Reggiani"
          ],
          [
           "Andrea Locatelli"
          ],
          [
           "John Hopkins"
          ],
          [
           "Luca Marini"
          ],
          [
           "Lucio Cecchinello"
          ],
          [
           "Didier De Radigues"
          ],
          [
           "Stefano Manzi"
          ],
          [
           "Joan Mir"
          ],
          [
           "Fonsi Nieto"
          ],
          [
           "Gino Borsoi"
          ],
          [
           "Danny Webb"
          ],
          [
           "Alberto Puig"
          ],
          [
           "Jean Francois Baldé"
          ],
          [
           "Bo Bendsneyder"
          ],
          [
           "Lorenzo Dalla Porta"
          ],
          [
           "Dieter Braun"
          ],
          [
           "Aron Canet"
          ],
          [
           "Jules Cluzel"
          ],
          [
           "Juan Garriga"
          ],
          [
           "Tadayuki Okada"
          ],
          [
           "Jacques Cornu"
          ],
          [
           "Chas Mortimer"
          ],
          [
           "Christian Sarron"
          ],
          [
           "Dirk Raudies"
          ],
          [
           "Ricard Cardus"
          ],
          [
           "Nicolo Bulega"
          ],
          [
           "Alex Hofmann"
          ],
          [
           "Carlos Cardús"
          ],
          [
           "Youichi Ui"
          ],
          [
           "Marcos Ramirez"
          ],
          [
           "Alessandro Tonucci"
          ],
          [
           "Jules Danilo"
          ],
          [
           "Jasper Iwema"
          ],
          [
           "Pierpaolo Bianchi"
          ],
          [
           "Herri Torrontegui"
          ],
          [
           "Ron Haslam"
          ],
          [
           "Maurizio Vitali"
          ],
          [
           "John Kocinski"
          ],
          [
           "Marco Bezzecchi"
          ],
          [
           "Albert Arenas"
          ],
          [
           "Jose Luis Cardoso"
          ],
          [
           "Sito Pons"
          ],
          [
           "Wayne Gardner"
          ],
          [
           "Juan Francisco Guevara"
          ],
          [
           "Harald Eckl"
          ],
          [
           "Fabrizio Lai"
          ],
          [
           "Stefan Prein"
          ],
          [
           "Masao Azuma"
          ],
          [
           "Reinhold Roth"
          ],
          [
           "Lorenzo Zanetti"
          ],
          [
           "Gianluigi Scalvini"
          ],
          [
           "Kaito Toba"
          ],
          [
           "Manuel Hernandez"
          ],
          [
           "Tetsuta Nagashima"
          ],
          [
           "Tony Arbolino"
          ],
          [
           "Livio Loi"
          ],
          [
           "Ayumu Sasaki"
          ],
          [
           "Kevin Schwantz"
          ],
          [
           "Barry Sheene"
          ],
          [
           "Jochen Schmid"
          ],
          [
           "Iker Lecuona"
          ],
          [
           "Dirk Heidolf"
          ],
          [
           "Pierfrancesco Chili"
          ],
          [
           "Wayne Rainey"
          ],
          [
           "Adi Stadler"
          ],
          [
           "Kent Andersson"
          ],
          [
           "Andy Preining"
          ],
          [
           "Regis Laconi"
          ],
          [
           "Jesko Raffin"
          ],
          [
           "Masaki Tokudome"
          ],
          [
           "Naoki Matsudo"
          ],
          [
           "Makoto Tamada"
          ],
          [
           "Wilco Zeelenberg"
          ],
          [
           "Jakub Smrz"
          ],
          [
           "Patrick Fernandez"
          ],
          [
           "Gabriele Debbia"
          ],
          [
           "Niklas Ajo"
          ],
          [
           "Ezio Gianola"
          ],
          [
           "Johnny Wickstroem"
          ],
          [
           "Luis D'Antin"
          ],
          [
           "Andrea Ballerini"
          ],
          [
           "Dominique Sarron"
          ],
          [
           "Kork Ballington"
          ],
          [
           "Chris Vermeulen"
          ],
          [
           "August Auinger"
          ],
          [
           "Khairul Idham Pawi"
          ],
          [
           "Augusto Fernandez"
          ],
          [
           "Tevo Lansivuori"
          ],
          [
           "Oliver Petrucciani"
          ],
          [
           "Takazumi Katayama"
          ],
          [
           "Doriano Romboni"
          ],
          [
           "Joe Roberts"
          ],
          [
           "Helmut Bradl"
          ],
          [
           "Dennis Foggia"
          ],
          [
           "Jordi Torres"
          ],
          [
           "Simone Grotzkyj"
          ],
          [
           "Boet Van Dulmen"
          ],
          [
           "Michael Ranseder"
          ],
          [
           "Luca Boscoscuro"
          ],
          [
           "Jaume Masia"
          ],
          [
           "Claudio Corti"
          ],
          [
           "Kenny Roberts"
          ],
          [
           "Eric Granado"
          ],
          [
           "Maria Herrera"
          ],
          [
           "Tommy Robb"
          ],
          [
           "Bernard Haenggeli"
          ],
          [
           "Alberto Moncayo"
          ],
          [
           "Takeshi Tsujimura"
          ],
          [
           "Patrick Vd Goorbergh"
          ],
          [
           "Julian Miralles"
          ],
          [
           "Eugene Laverty"
          ],
          [
           "Cees Doorakkers"
          ],
          [
           "Carlo Ubbiali"
          ],
          [
           "Ivan Goi"
          ],
          [
           "John Dodds"
          ],
          [
           "Tomomi Manako"
          ],
          [
           "Chaz Davies"
          ],
          [
           "Angel Nieto Jr."
          ],
          [
           "Billie Nelson"
          ],
          [
           "Franco Uncini"
          ],
          [
           "Marco Papa"
          ],
          [
           "Jaroslav Hules"
          ],
          [
           "Frederic Protat"
          ],
          [
           "Walter Villa"
          ],
          [
           "Hans Müller"
          ],
          [
           "Edgar Pons"
          ],
          [
           "Jean Foray"
          ],
          [
           "Jean Louis Guignabodet"
          ],
          [
           "Matteo Ferrari"
          ],
          [
           "Bruno Casanova"
          ],
          [
           "Robin Appleyard"
          ],
          [
           "Alfred Waibel"
          ],
          [
           "Johan Stigefelt"
          ],
          [
           "Peter Oettl"
          ],
          [
           "Henk Van Kessel"
          ],
          [
           "Jean Michel Bayle"
          ],
          [
           "Juan Borja"
          ],
          [
           "Adam Norrodin"
          ],
          [
           "Michel Rougerie"
          ],
          [
           "Tom Herron"
          ],
          [
           "Hubert Abold"
          ],
          [
           "Eskil Suter"
          ],
          [
           "Borje Jansson"
          ],
          [
           " "
          ],
          [
           "Theo Timmer"
          ],
          [
           "Jean Michel Mattioli"
          ],
          [
           "Geoff Duke"
          ],
          [
           "Paolo Casoli"
          ],
          [
           "Jay Vincent"
          ],
          [
           "Freddie Spencer"
          ],
          [
           "Raul Fernandez"
          ],
          [
           "Gyula Marsovszky"
          ],
          [
           "Simone Sanna"
          ],
          [
           "Stefano Nepa"
          ],
          [
           "Raymond Roche"
          ],
          [
           "James Ellison"
          ],
          [
           "Bernd Kassner"
          ],
          [
           "Ben Spies"
          ],
          [
           "Frederic Petit"
          ],
          [
           "Gerhard Waibel"
          ],
          [
           "Alonso Lopez"
          ],
          [
           "Marco Lucchinelli"
          ],
          [
           "Shinichi Ito"
          ],
          [
           "Marcellino Lucchi"
          ],
          [
           "Donnie Mcleod"
          ],
          [
           "Rodney Gould"
          ],
          [
           "Adrian Martin"
          ],
          [
           "Federico Sandi"
          ],
          [
           "Thierry Espié"
          ],
          [
           "Celestino Vietti"
          ],
          [
           "Jean Claude Selini"
          ],
          [
           "Kel Carruthers"
          ],
          [
           "Rudolf Kunz"
          ],
          [
           "Taro Sekiguchi"
          ],
          [
           "Masao Shimizu"
          ],
          [
           "Steven Odendaal"
          ],
          [
           "Ai Ogura"
          ],
          [
           "Robin Mulhauser"
          ],
          [
           "Max Sabbatani"
          ],
          [
           "Hisashi Unemoto"
          ],
          [
           "Alessandro Gramigni"
          ],
          [
           "Roland Freymond"
          ],
          [
           "Penti Korhonen"
          ],
          [
           "Stefano Caracchi"
          ],
          [
           "Philippe Coulon"
          ],
          [
           "Domenico Brigaglia"
          ],
          [
           "Patrick Pons"
          ],
          [
           "Rob Mcelnea"
          ],
          [
           "Franta Stastny"
          ],
          [
           "Dave Simmonds"
          ],
          [
           "Jean Pierre Jeandat"
          ],
          [
           "Loris Baz"
          ],
          [
           "Angel Rodriguez"
          ],
          [
           "Bruno Bonhuil"
          ],
          [
           "Daryl Beattie"
          ],
          [
           "Lorenzo Savadori"
          ],
          [
           "Jos Van Dongen"
          ],
          [
           "Riccardo Rossi"
          ],
          [
           "Somkiat Chantra"
          ],
          [
           "Filip Salac"
          ],
          [
           "Valentin Debise"
          ],
          [
           "Hugh Anderson"
          ],
          [
           "John Surtees"
          ],
          [
           "Ivan Palazzese"
          ],
          [
           "Lucio Pedercini"
          ],
          [
           "Simon Buckmaster"
          ],
          [
           "Manfred Geissler"
          ],
          [
           "Guy Bertin"
          ],
          [
           "Manfred Herweh"
          ],
          [
           "Wolfgang Von Muralt"
          ],
          [
           "Mike Duff"
          ],
          [
           "Harald Bartol"
          ],
          [
           "Kevin Mitchell"
          ],
          [
           "Jonnie Ekerold"
          ],
          [
           "Xavi Cardelus"
          ],
          [
           "Cees Van Dongen"
          ],
          [
           "Daijiro Kato"
          ],
          [
           "Ana Carrasco"
          ],
          [
           "Karel Hanika"
          ],
          [
           "Akira Saito"
          ],
          [
           "Gino Rea"
          ],
          [
           "Shuhei Aoyama"
          ],
          [
           "Sergio Garcia"
          ],
          [
           "Niggi Schmassman"
          ],
          [
           "Fabio Biliotti"
          ],
          [
           "Lucio Pietroniro"
          ],
          [
           "Ricardo Tormo"
          ],
          [
           "Arthur Sissis"
          ],
          [
           "Steve Parrish"
          ],
          [
           "Michael Rudroff"
          ],
          [
           "Jake Dixon"
          ],
          [
           "Yoshiaki Katoh"
          ],
          [
           "Stefano Bianco"
          ],
          [
           "Laurent Naveau"
          ],
          [
           "Mike Leitner"
          ],
          [
           "Heinz Lüthi"
          ],
          [
           "Cristiano Migliorati"
          ],
          [
           "Reg Armstrong"
          ],
          [
           "Ralph Bryans"
          ],
          [
           "John Hartle"
          ],
          [
           "Jarno Saarinen"
          ],
          [
           "Thierry Feuz"
          ],
          [
           "Johnny Cecotto"
          ],
          [
           "Renzo Pasolini"
          ],
          [
           "Ernst Degner"
          ],
          [
           "Jurgen Fuchs"
          ],
          [
           "Heinz Rosner"
          ],
          [
           "Manuel Herreros"
          ],
          [
           "Klaus Nöhles"
          ],
          [
           "Adrian Bosshard"
          ],
          [
           "Thitipong Warokorn"
          ],
          [
           "Neil Hodgson"
          ],
          [
           "Tarquinio Provini"
          ],
          [
           "Olivier Chevallier"
          ],
          [
           "Doug Chandler"
          ],
          [
           "Jordi Carchano"
          ],
          [
           "Willy Perez"
          ],
          [
           "Hans Hummel"
          ],
          [
           "Silvio Grassetti"
          ],
          [
           "David Checa"
          ],
          [
           "Virginio Ferrari"
          ],
          [
           "Renzo Colleoni"
          ],
          [
           "Shahrol Yuzy"
          ],
          [
           "Lazlo Szabo"
          ],
          [
           "Hiroki Ono"
          ],
          [
           "Azlan Shah"
          ],
          [
           "Ian McConnachie"
          ],
          [
           "Tadahiko Taira"
          ],
          [
           "Ginger Molloy"
          ],
          [
           "Günter Schirnhofer"
          ],
          [
           "Erwan Nigon"
          ],
          [
           "Alberto Pagani"
          ],
          [
           "Dickie Dale"
          ],
          [
           "Hugo Van Den Berg"
          ],
          [
           "Andy Leuthe"
          ],
          [
           "Stephane Mertens"
          ],
          [
           "Osamu Miyazaki"
          ],
          [
           "Hector Garzo"
          ],
          [
           "Derek Woodman"
          ],
          [
           "Bernard Garcia"
          ],
          [
           "Jeremy Alcoba"
          ],
          [
           "Cecyl Sandford"
          ],
          [
           "David De Gea"
          ],
          [
           "Harald Becker"
          ],
          [
           "Gianfranco Bonera"
          ],
          [
           "Oliver Koch"
          ],
          [
           "Michael Laverty"
          ],
          [
           "Luis Miguel Reyes"
          ],
          [
           "Kazuki Masaki"
          ],
          [
           "Ken Kavanagh"
          ],
          [
           "Bob Mcintyre"
          ],
          [
           "Rene Deláby"
          ],
          [
           "Bill Ivy"
          ],
          [
           "Bo Granath"
          ],
          [
           "Gary Hocking"
          ],
          [
           "Toni Finsterbusch"
          ],
          [
           "Sean Emmett"
          ],
          [
           "Marco Gentile"
          ],
          [
           "Robin Milton"
          ],
          [
           "Nakarin Atiratphuvapat"
          ],
          [
           "Deniz Öncü"
          ],
          [
           "Luigi Morciano"
          ],
          [
           "Leon Haslam"
          ],
          [
           "Doni Tata Pradita"
          ],
          [
           "Hans Koopman"
          ],
          [
           "Jack Brett"
          ],
          [
           "Jan Huberts"
          ],
          [
           "Eddie Laycock"
          ],
          [
           "Kenny Noyes"
          ],
          [
           "James Toseland"
          ],
          [
           "Bruce Beale"
          ],
          [
           "Robertino Pietri"
          ],
          [
           "Alex George"
          ],
          [
           "Niccolo Canepa"
          ],
          [
           "Massimo Matteoni"
          ],
          [
           "Jan De Vries"
          ],
          [
           "Hans-Georg Anscheidt"
          ],
          [
           "Robert Muresan"
          ],
          [
           "Stefan Kurfiss"
          ],
          [
           "Gioele Pellino"
          ],
          [
           "Mashel Al Naimi"
          ],
          [
           "Sturla Fagerhaug"
          ],
          [
           "Alan Techer"
          ],
          [
           "Eric Bataille"
          ],
          [
           "Giulian Pedone"
          ],
          [
           "Frank Perris"
          ],
          [
           "Alan Shepherd"
          ],
          [
           "Lukas Tulovic"
          ],
          [
           "Davide Bulega"
          ],
          [
           "Paddy Driver"
          ],
          [
           "Ryusei Yamanaka"
          ],
          [
           "Fausto Ricci"
          ],
          [
           "Roberto Tamburini"
          ],
          [
           "Eero Hyvarinen"
          ],
          [
           "Sebastien Gimbert"
          ],
          [
           "Josef Doppler"
          ],
          [
           "Joey Litjens"
          ],
          [
           "Alain Bronec"
          ],
          [
           "Gert Bender"
          ],
          [
           "Troy Bayliss"
          ],
          [
           "Maximilian Kofler"
          ],
          [
           "Fred Stevens"
          ],
          [
           "Dario Giuseppetti"
          ],
          [
           "Urs Jücker"
          ],
          [
           "Kinya Wada"
          ],
          [
           "John Williams"
          ],
          [
           "Alan Carter"
          ],
          [
           "Arie Molenaar"
          ],
          [
           "Alessandro Valesi"
          ],
          [
           "Jarno Janssen"
          ],
          [
           "Andi Farid Izdihar"
          ],
          [
           "Jeronimo Vidal"
          ],
          [
           "Carlos Tatay"
          ],
          [
           "Ruben Xaus"
          ],
          [
           "Peter Looijensteijn"
          ],
          [
           "Jussi Hautaniemi"
          ],
          [
           "Juan Lopez Mella"
          ],
          [
           "Hugo Marchand"
          ],
          [
           "Kevin Magee"
          ],
          [
           "Jamie Robinson"
          ],
          [
           "Tom Phillis"
          ],
          [
           "Hakan Olsson"
          ],
          [
           "Federico Fuligni"
          ],
          [
           "Luca Marconi"
          ],
          [
           "Luis Carlos Maurel"
          ],
          [
           "Lothar John"
          ],
          [
           "Koji Takada"
          ],
          [
           "Cameron Beaubier"
          ],
          [
           "Dino Lombardi"
          ],
          [
           "Wil Hartog"
          ],
          [
           "Umberto Masetti"
          ],
          [
           "Shoya Tomizawa"
          ],
          [
           "Rolf Blatter"
          ],
          [
           "Florian Alt"
          ],
          [
           "Matti Salonen"
          ],
          [
           "Max Neukirchner"
          ],
          [
           "Yuki Kunii"
          ],
          [
           "Loek Bodelier"
          ],
          [
           "Jim Curry"
          ],
          [
           "Olivier Liégeois"
          ],
          [
           "Paolo Pileri"
          ],
          [
           "Aalt Toersen"
          ],
          [
           "Giuseppe Ascareggi"
          ],
          [
           "Hideyuki Nakajoh"
          ],
          [
           "Jack Middelburg"
          ],
          [
           "Alessandro Brannetti"
          ],
          [
           "Marc Fontan"
          ],
          [
           "Juan Enrique Maturana"
          ],
          [
           "Mike Baldwin"
          ],
          [
           "Gustav Reiner"
          ],
          [
           "Bob Brown"
          ],
          [
           "Karl Auer"
          ],
          [
           "Greg Hansford"
          ],
          [
           "Vincent Braillard"
          ],
          [
           "Garry Cowan"
          ],
          [
           "Makar Yurchenko"
          ],
          [
           "Keith Huewen"
          ],
          [
           "Victor Palomo"
          ],
          [
           "Reinhard Stolz"
          ],
          [
           "Leif Gustafsson"
          ],
          [
           "Alan North"
          ],
          [
           "Bady Hassaine"
          ],
          [
           "Bill Lomas"
          ],
          [
           "Walter Scheimann"
          ],
          [
           "Andres Sanchez"
          ],
          [
           "Hagen Klein"
          ],
          [
           "Barry Baltus"
          ],
          [
           "Paul Bordes"
          ],
          [
           "Emilio Cuppini"
          ],
          [
           "Martin Cardenas"
          ],
          [
           "Otello Buscherini"
          ],
          [
           "Christian Estrosi"
          ],
          [
           "Alvaro Molina"
          ],
          [
           "Rod Coleman"
          ],
          [
           "Siegfried Minich"
          ],
          [
           "Giuseppe Visenzi"
          ],
          [
           "Alan Scott"
          ],
          [
           "Rainer Scheidhauer"
          ],
          [
           "Derek Minter"
          ],
          [
           "Arturo Tizon"
          ],
          [
           "Peter Linden"
          ],
          [
           "Maurizio Massimiani"
          ],
          [
           "Carlos Giro Jr."
          ],
          [
           "Toshi Arakaki"
          ],
          [
           "Fergus Anderson"
          ],
          [
           "Per Edward Carlsson"
          ],
          [
           "Josep Sarda"
          ],
          [
           "Shunji Yatsushiro"
          ],
          [
           "Kurtis Roberts"
          ],
          [
           "Enrico Lorenzetti"
          ],
          [
           "Herbert Rittberger"
          ],
          [
           "Patrick Igoa"
          ],
          [
           "Chris Baert"
          ],
          [
           "Sergio Pellandini"
          ],
          [
           "Leandro Becheroni"
          ],
          [
           "Mike Grant"
          ],
          [
           "Raul Jara"
          ],
          [
           "Paolo Ferretti"
          ],
          [
           "Ulrich Graf"
          ],
          [
           "Leslie Graham"
          ],
          [
           "Adrien Morillas"
          ],
          [
           "Jose Barresi"
          ],
          [
           "Corrado Catalano"
          ],
          [
           "Manfred Fischer"
          ],
          [
           "Peter Galvin"
          ],
          [
           "Jos Schurgers"
          ],
          [
           "Simon Crafar"
          ],
          [
           "Stevie Bonsey"
          ],
          [
           "Manuel Pagliani"
          ],
          [
           "Flemming Kistrup"
          ],
          [
           "Bastien Chesaux"
          ],
          [
           "Kuninitsu Takahashi"
          ],
          [
           "Reiner Koster"
          ],
          [
           "Werner Pfirter"
          ],
          [
           "James Haydon"
          ],
          [
           "Yasu Hatakeyama"
          ],
          [
           "Fernando Gonzalez"
          ],
          [
           "Christian Boudinot"
          ],
          [
           "Jack Ahearn"
          ],
          [
           "Julien Allemand"
          ],
          [
           "Noboiuki Wakai"
          ],
          [
           "Roman Ramos"
          ],
          [
           "Massimo Broccoli"
          ],
          [
           "Hafiq Azmi"
          ],
          [
           "Ivan Silva"
          ],
          [
           "Victor Soussan"
          ],
          [
           "Hans Lindner"
          ],
          [
           "Michel Fabrizio"
          ],
          [
           "Marco Ravaioli"
          ],
          [
           "Lucas Oliver"
          ],
          [
           "Fabio Barchitta"
          ],
          [
           "Joan Perello"
          ],
          [
           "Serge Julin"
          ],
          [
           "Tony Rutter"
          ],
          [
           "Noriyuki Haga"
          ],
          [
           "Vladimir Leonov"
          ],
          [
           "Jean Louis Tournadre"
          ],
          [
           "Steve Patrickson"
          ],
          [
           "Mateo Tunez"
          ],
          [
           "Eric Saul"
          ],
          [
           "Andrew Pitt"
          ],
          [
           "Gastone Grassetti"
          ],
          [
           "René Dünki"
          ],
          [
           "Marc Garcia"
          ],
          [
           "Jacques Bolle"
          ],
          [
           "Alberto Rota"
          ],
          [
           "Josef Fischer"
          ],
          [
           "Radomil Rous"
          ],
          [
           "Arthur Wheeler"
          ],
          [
           "Remo Venturi"
          ],
          [
           "Luigi Ancona"
          ],
          [
           "Nello Pagani"
          ],
          [
           "Paolo Tessari"
          ],
          [
           "Noriyasu Numata"
          ],
          [
           "Barry Smith"
          ],
          [
           "Patrick Plisson"
          ],
          [
           "Claudio Lusuardi"
          ],
          [
           "Luis Alvaro"
          ],
          [
           "Broc Parkes"
          ],
          [
           "Eugene McManus"
          ],
          [
           "Maarten Duyzers"
          ],
          [
           "William Doran"
          ],
          [
           "Tony Head"
          ],
          [
           "Vicente Perez"
          ],
          [
           "Tom Booth-Amos"
          ],
          [
           "Gustav Havel"
          ],
          [
           "Otto Machinek"
          ],
          [
           "Graeme Crosby"
          ],
          [
           "Raymond Schouten"
          ],
          [
           "Mario Lega"
          ],
          [
           "Titer Balaz"
          ],
          [
           "Giuseppe Fiorillo"
          ],
          [
           "Joan Bolart"
          ],
          [
           "Davide Pizzoli"
          ],
          [
           "Urs Lüzi"
          ],
          [
           "Jason Dupasquier"
          ],
          [
           "Roger Burnett"
          ],
          [
           "Bryan Staring"
          ],
          [
           "Bert Schneider"
          ],
          [
           "Hiroyuki Kikuchi"
          ],
          [
           "Mark Willis"
          ],
          [
           "Adrian Araujo"
          ],
          [
           "Hideo Kanaya"
          ],
          [
           "Lorenzo Petrarca"
          ],
          [
           "Ivan Carlsson"
          ],
          [
           "Pekka Nurmi"
          ],
          [
           "Katja Poensgen"
          ],
          [
           "John Reynolds"
          ],
          [
           "Ivan Troisi"
          ],
          [
           "Daniel Amatriain"
          ],
          [
           "Stefano Valtulini"
          ],
          [
           "Gregory Leblanc"
          ],
          [
           "Pierre Bolle"
          ],
          [
           "Ryszard Mankiewicz"
          ],
          [
           "Julien Van Zeebroeck"
          ],
          [
           "Thierry Rapicault"
          ],
          [
           "Jerry Lancaster"
          ],
          [
           "Vincent Philippe"
          ],
          [
           "Rafid Topan Sucipto"
          ],
          [
           "Esa Kytölä"
          ],
          [
           "Jaime Mariano"
          ],
          [
           "Elena Rosell"
          ],
          [
           "Michele Conti"
          ],
          [
           "Graziano Rossi"
          ],
          [
           "Mitsuo Itoh"
          ],
          [
           "Patrik Pulkkinen"
          ],
          [
           "Ray Amm"
          ],
          [
           "Peter Williams"
          ],
          [
           "Hyuga Watanabe"
          ],
          [
           "Scott Russell"
          ],
          [
           "Scott Deroue"
          ],
          [
           "Gilberto Parlotti"
          ],
          [
           "Henk Vd Lagemaat"
          ],
          [
           "Günter Beer"
          ],
          [
           "Dave Chadwick"
          ],
          [
           "Gilberto Milani"
          ],
          [
           "Taylor Mackenzie"
          ],
          [
           "Martti Pesonen"
          ],
          [
           "Serge David"
          ],
          [
           "Shane Byrne"
          ],
          [
           "Gabriel Ramos"
          ],
          [
           "Jose Kuhn"
          ],
          [
           "Mattia Angeloni"
          ],
          [
           "Stuart Graham"
          ],
          [
           "Graeme McGregor"
          ],
          [
           "Robbin Harms"
          ],
          [
           "Marco Colandrea"
          ],
          [
           "Niki Tuuli"
          ],
          [
           "Rob Punt"
          ],
          [
           "Marco Petrini"
          ],
          [
           "Adrian Fernandez"
          ],
          [
           "Can Oncu"
          ],
          [
           "Santiago Hernandez"
          ],
          [
           "Jörg Seel"
          ],
          [
           "Ingo Emmerich"
          ],
          [
           "Kenta Fujii"
          ],
          [
           "Herve Guilleux"
          ],
          [
           "Santiago Herrero"
          ],
          [
           "Bohumil Stasa"
          ],
          [
           "Antonio Sanchez"
          ],
          [
           "Chris Guy"
          ],
          [
           "Tomoko Igata"
          ],
          [
           "Pat Hennen"
          ],
          [
           "Jeffrey Sayle"
          ],
          [
           "Borge W. Nielsen"
          ],
          [
           "Luca Vitali"
          ],
          [
           "Luca Grünwald"
          ],
          [
           "Pere Tutusaus"
          ],
          [
           "Dave Petersen"
          ],
          [
           "Janos Drapal"
          ],
          [
           "Roberto Lacalendola"
          ],
          [
           "David Tomas"
          ],
          [
           "Kevin Hanus"
          ],
          [
           "Kenan Sofuoglu"
          ],
          [
           "Bryan Schouten"
          ],
          [
           "Lorenzo Fellon"
          ],
          [
           "Ron Chandler"
          ],
          [
           "Maik Stief"
          ],
          [
           "Harry Stafford"
          ],
          [
           "Manfred Baumann"
          ],
          [
           "Dan Shorey"
          ],
          [
           "Stuart Edwards"
          ],
          [
           "Peter Sjostrom"
          ],
          [
           "Paolo Priori"
          ],
          [
           "Alojz Pavlic"
          ],
          [
           "Ramon Gali"
          ],
          [
           "Gunter Bartusch"
          ],
          [
           "Vittorio Lopez"
          ],
          [
           "Pere Riba"
          ],
          [
           "Dan Linfoot"
          ],
          [
           "Gerhard Thurow"
          ],
          [
           "Herve Duffard"
          ],
          [
           "David Garcia"
          ],
          [
           "Erich Neumair"
          ],
          [
           "Walter Sommer"
          ],
          [
           "Pedro Acosta"
          ],
          [
           "Izan Guevara"
          ],
          [
           "Seppo Rossi"
          ],
          [
           "Steve Baker"
          ],
          [
           "Mattia Casadei"
          ],
          [
           "Luca Morelli"
          ],
          [
           "Werner Giger"
          ],
          [
           "Werner Haas"
          ],
          [
           "Katsuyoshi Kozono"
          ],
          [
           "Jan Bruins"
          ],
          [
           "Toshihisa Kuzuhara"
          ],
          [
           "Gerd Kafka"
          ],
          [
           "Jarno Müller"
          ],
          [
           "Fabio Spiranelli"
          ],
          [
           "Christian Bourgeois"
          ],
          [
           "Roberto Colombo"
          ],
          [
           "Libero Liberati"
          ],
          [
           "Karl Truchsess"
          ],
          [
           "John Newbold"
          ],
          [
           "Dimas Ekky Pratama"
          ],
          [
           "John Lockett"
          ],
          [
           "Carlos Bandirola"
          ],
          [
           "Scott Smart"
          ],
          [
           "Vladimir Ivanov"
          ],
          [
           "Bob Anderson"
          ],
          [
           "Aldo Pero"
          ],
          [
           "Matti Kinnunen"
          ],
          [
           "Christian Gemmel"
          ],
          [
           "Xavier Artigas"
          ],
          [
           "Angelo Bergamonti"
          ],
          [
           "Robin Lasser"
          ],
          [
           "Kasma Daniel"
          ],
          [
           "Thomas Heuschkel"
          ],
          [
           "Esko Kuparinen"
          ],
          [
           "Bernard Fau"
          ],
          [
           "Yannick Guerra"
          ],
          [
           "Ernst Hiller"
          ],
          [
           "Tommy Wood"
          ],
          [
           "Christian Le Liard"
          ],
          [
           "Gregorio Lavilla"
          ],
          [
           "Bert Smit"
          ],
          [
           "Thierry Crine"
          ],
          [
           "Richard Hubin"
          ],
          [
           "Francesco Mauriello"
          ],
          [
           "Enrique Jerez"
          ],
          [
           "Erkka Korpiaho"
          ],
          [
           "Luca Amato"
          ],
          [
           "Paul Eickelberg"
          ],
          [
           "Toshihiko Honma"
          ],
          [
           "Tierry Tchernine"
          ],
          [
           "Adu Celso-Santos"
          ],
          [
           "Ryuichi Kiyonari"
          ],
          [
           "Vesa Kallio"
          ],
          [
           "Stefan Brägger"
          ],
          [
           "Taru Rinne"
          ],
          [
           "Heinz Paschen"
          ],
          [
           "Josep Rodriguez"
          ],
          [
           "Zdravko Matulja"
          ],
          [
           "Peter Sebestyen"
          ],
          [
           "Lukas Sembera"
          ],
          [
           "Lorenzo Ghiselli"
          ],
          [
           "Salvatore Milano"
          ],
          [
           "Jacques Hutteau"
          ],
          [
           "William Costes"
          ],
          [
           "Pierluigi Aldrovandi"
          ],
          [
           "Ian Newton"
          ],
          [
           "Takuma Aoki"
          ],
          [
           "Takao Shimizu"
          ],
          [
           "Giovanni Palmieri"
          ],
          [
           "Andrew Stroud"
          ],
          [
           "Chris Walker"
          ],
          [
           "Luis Costa"
          ],
          [
           "Gaspare Caffiero"
          ],
          [
           "Michel Frutschi"
          ],
          [
           "Wolfgang Müller"
          ],
          [
           "Matt Wait"
          ],
          [
           "Leon Camier"
          ],
          [
           "Seppo Kangasniemi"
          ],
          [
           "Tarran Mackenzie"
          ],
          [
           "Marcel Ankone"
          ],
          [
           "Bruno Ruffo"
          ],
          [
           "Bernd Köhlar"
          ],
          [
           "Isao Morishita"
          ],
          [
           "Alfredo Milani"
          ],
          [
           "Sammy Miller"
          ],
          [
           "Bill Smith"
          ],
          [
           "Derek Chatterton"
          ],
          [
           "Henk Van Der Mark"
          ],
          [
           "Stuart Avant"
          ],
          [
           "Yukio Kagayama"
          ],
          [
           "Janez Pintar"
          ],
          [
           "Teruo Fukuda"
          ],
          [
           "Toni Gruber"
          ],
          [
           "Andreas Meklau"
          ],
          [
           "Max Wiener"
          ],
          [
           "Massimo Pennacchioli"
          ],
          [
           "Ivan Moreno"
          ],
          [
           "Volker Bahr"
          ],
          [
           "Penty Salonen"
          ],
          [
           "Károly Juhász"
          ],
          [
           "Noel Ferro"
          ],
          [
           "Cesar Barros"
          ],
          [
           "Rachel Nicotte"
          ],
          [
           "Paul Lewis"
          ],
          [
           "Steve Bonsey"
          ],
          [
           "Christophe Cogan"
          ],
          [
           "Donnie Robinson"
          ],
          [
           "Tommaso Marcon"
          ],
          [
           "Hugo Vignetti"
          ],
          [
           "Fermín Aldeguer"
          ],
          [
           "Alessandro Andreozzi"
          ],
          [
           "August Hobl"
          ],
          [
           "Rob Bron"
          ],
          [
           "Miguel Duhamel"
          ],
          [
           "Anthony Gobert"
          ],
          [
           "Kirk McCarthy"
          ],
          [
           "Lorenzo Lanzi"
          ],
          [
           "Erick Offenstadt"
          ],
          [
           "Keith Turner"
          ],
          [
           "Roberto Gallina"
          ],
          [
           "Xavier Cardelus"
          ],
          [
           "Michael Van Der Mark"
          ],
          [
           "Godfrey Nash"
          ],
          [
           "Helmut Schutz"
          ],
          [
           "Ludwig Fassbender"
          ],
          [
           "Riccardo Moretti"
          ],
          [
           "Peter Goddard"
          ],
          [
           "Pier Luigi Conforti"
          ],
          [
           "Matias Rios"
          ],
          [
           "Helmut Kassner"
          ],
          [
           "Darren Barton"
          ],
          [
           "Diego Giugovaz"
          ],
          [
           "Emilio Mendogni"
          ],
          [
           "Kevin Coghlan"
          ],
          [
           "John Hempleman"
          ],
          [
           "Javier Fores"
          ],
          [
           "John Cooper"
          ],
          [
           "Guido Paci"
          ],
          [
           "Damian Cudlin"
          ],
          [
           "Fabricio Perren"
          ],
          [
           "Ivan Clementi"
          ],
          [
           "Clive Horton"
          ],
          [
           "Krisse Kaas"
          ],
          [
           "Horst Fügner"
          ],
          [
           "Kris Galatowicz"
          ],
          [
           "Katsuyuki Nakasuga"
          ],
          [
           "Norbert Peschke"
          ],
          [
           "Takehiro Yamamoto"
          ],
          [
           "Gabriele Gnani"
          ],
          [
           "Sven Gunnarsson"
          ],
          [
           "Alessio Palumbo"
          ],
          [
           "Lewis Young"
          ],
          [
           "Edi Stoellinger"
          ],
          [
           "Sadao Asami"
          ],
          [
           "Charlie Williams"
          ],
          [
           "Alano Montanari"
          ],
          [
           "Kim Newcombe"
          ],
          [
           "Lorenzo Baroni"
          ],
          [
           "Daniel Saez"
          ],
          [
           "Keith Campbell"
          ],
          [
           "Mile Pajic"
          ],
          [
           "Carlo Perugini"
          ],
          [
           "Maurice Hawthorne"
          ],
          [
           "Armando Pontone"
          ],
          [
           "Gianni Pelletier"
          ],
          [
           "Giuseppe Colnago"
          ],
          [
           "Salvador Cañellas"
          ],
          [
           "William De Angelis"
          ],
          [
           "R. Dickinson"
          ],
          [
           "Peter Graves"
          ],
          [
           "Bernard Cazade"
          ],
          [
           "Tsumoto Udagawa"
          ],
          [
           "Norihiko Fujiwara"
          ],
          [
           "Balazs Nemeth"
          ],
          [
           "Alex Bedford"
          ],
          [
           "Gerhardt Vogt"
          ],
          [
           "Guido Mandracci"
          ],
          [
           "Hermann Paul Müller"
          ],
          [
           "Rolf Minhoff"
          ],
          [
           "Bogdan Nikolov"
          ],
          [
           "Silvano Bertarelli"
          ],
          [
           "Masafumi Ono"
          ],
          [
           "Yoshiteru Konishi"
          ],
          [
           "Arne Tode"
          ],
          [
           "Ferruccio Lamborghini"
          ],
          [
           "Akira Ryo"
          ],
          [
           "Frank Gross"
          ],
          [
           "Gabor Rizmayer"
          ],
          [
           "Selwyn Griffiths"
          ],
          [
           "Josh Herrin"
          ],
          [
           "Steve Ellis"
          ],
          [
           "Carmelo Morales"
          ],
          [
           "Kenjiro Tanaka"
          ],
          [
           "Ken Miyasaka"
          ],
          [
           "Alan Barnett"
          ],
          [
           "Mario Rademeyer"
          ],
          [
           "Karl Hoffmann"
          ],
          [
           "Martin Mijwaart"
          ],
          [
           "Paul Lodewijkx"
          ],
          [
           "Kevin Zannoni"
          ],
          [
           "Yoshimi Katayama"
          ],
          [
           "Armando Toracca"
          ],
          [
           "Tapio Virtanen"
          ],
          [
           "Jurgen Lenk"
          ],
          [
           "Paul Smart"
          ],
          [
           "Jacques Bernard"
          ],
          [
           "Joshua Hook"
          ],
          [
           "Kousuke Akiyoshi"
          ],
          [
           "Yoshiyuki Sugai"
          ],
          [
           "Horst Kassner"
          ],
          [
           "Paul Rimmelzwaan"
          ],
          [
           "Russel Gomez"
          ],
          [
           "Luis Lavado"
          ],
          [
           "Miroslav Popov"
          ],
          [
           "Kyle Smith"
          ],
          [
           "Peter Van Der Wal"
          ],
          [
           "Yari Montella"
          ],
          [
           "Fabio Carpani"
          ],
          [
           "Pierre Monneret"
          ],
          [
           "Alessandro Zaccone"
          ],
          [
           "Horst Seel"
          ],
          [
           "Artie Bell"
          ],
          [
           "Bruno Spaggiari"
          ],
          [
           "Terry Shepherd"
          ],
          [
           "Yves Briguet"
          ],
          [
           "Piotr Biesiekirski"
          ],
          [
           "Johann Zemsauer"
          ],
          [
           "Chris Conn"
          ],
          [
           "Markus Ober"
          ],
          [
           "Luigi Rinaudo"
          ],
          [
           "Rob Fitton"
          ],
          [
           "Hiroaki Kuzuhara"
          ],
          [
           "Ernst Gschwender"
          ],
          [
           "Miguel Castilla"
          ],
          [
           "Gimmi Bosio"
          ],
          [
           "Kyoji Nanba"
          ],
          [
           "Riccardo Chiarello"
          ],
          [
           "Federico Gartner"
          ],
          [
           "Andrea Iommi"
          ],
          [
           "Hans Baltisberger"
          ],
          [
           "Romolo Ferri"
          ],
          [
           "Georg Froehlich"
          ],
          [
           "Erich Klein"
          ],
          [
           "Gianni Leoni"
          ],
          [
           "Ivan Maestro"
          ],
          [
           "Friedhelm Kohlar"
          ],
          [
           "Nikolaj Sevastyanov"
          ],
          [
           "Sascha Hommel"
          ],
          [
           "Henk De Vries"
          ],
          [
           "Enrique De Juan"
          ],
          [
           "Theo Bult"
          ],
          [
           "Billie Guthrie"
          ],
          [
           "Karl Grässel"
          ],
          [
           "Harold Daniell"
          ],
          [
           "Jose Saez"
          ],
          [
           "Claudio Macciotta"
          ],
          [
           "Massimo Messere"
          ],
          [
           "Vincenzo Cascino"
          ],
          [
           "Auguste Goffin"
          ],
          [
           "Richard Scott"
          ],
          [
           "Terry Dennehy"
          ],
          [
           "Xavier Arumi"
          ],
          [
           "Alejandro Medina"
          ],
          [
           "Andreas Hofmann"
          ],
          [
           "Gerold Fisher"
          ],
          [
           "Mike Hale"
          ],
          [
           "Ian Richards"
          ],
          [
           "Vittorio Scatola"
          ],
          [
           "Giuseppe Mandolini"
          ],
          [
           "Toby Markham"
          ],
          [
           "Heinz Kriwanek"
          ],
          [
           "Manuel Manna"
          ],
          [
           "Rupert Hollaus"
          ],
          [
           "Mathias Ehinger"
          ],
          [
           "Mick Chatterton"
          ],
          [
           "Mathieu Gines"
          ],
          [
           "Alex Mariñelarena"
          ],
          [
           "Benjamin Grau"
          ],
          [
           "Alistair King"
          ],
          [
           "Gerard Choukroun"
          ],
          [
           "Philip Bouzanne"
          ],
          [
           "Blake Leigh-Smith"
          ],
          [
           "Leif Rosell"
          ],
          [
           "Bob Foster"
          ],
          [
           "Luigi Zinzani"
          ],
          [
           "Walter Koschine"
          ],
          [
           "Rodney Fee"
          ],
          [
           "Adrian Coates"
          ],
          [
           "Fumio Ito"
          ],
          [
           "Naomi Taniguchi"
          ],
          [
           "Barry Veneman"
          ],
          [
           "Eric Hinton"
          ],
          [
           "Gary Lingham"
          ],
          [
           "Dennis Ireland"
          ],
          [
           "Matt Mladin"
          ],
          [
           "Armando Errico"
          ],
          [
           "Moto Kitano"
          ],
          [
           "Tekkyu Kayo"
          ],
          [
           "George Murphy"
          ],
          [
           "Klaus Huber"
          ],
          [
           "Angelo Copeta"
          ],
          [
           "Elia Bartolini"
          ],
          [
           "Eustaquio Gavira"
          ],
          [
           "Miquel Pons"
          ],
          [
           "Chris Burns"
          ],
          [
           "Romolo Balbi"
          ],
          [
           "Jean Marc Toffolo"
          ],
          [
           "Franz Kaserer"
          ],
          [
           "Alberto Surra"
          ],
          [
           "Nicklas Cajback"
          ],
          [
           "Stanislav Malina"
          ],
          [
           "Sadanori Hikita"
          ],
          [
           "Manuel Tatasciore"
          ],
          [
           "Cyril Carrillo"
          ],
          [
           "Andrie Nijenhuis"
          ],
          [
           "David Bonache"
          ],
          [
           "Leo Commu"
          ],
          [
           "Mark Salle"
          ],
          [
           "Cromie McCandless"
          ],
          [
           "Michele Gallina"
          ],
          [
           "Bernat Martinez"
          ],
          [
           "Thierry Noblesse"
          ],
          [
           "Aitor Rodriguez"
          ],
          [
           "Luca Gruenwald"
          ],
          [
           "John Kiddie"
          ],
          [
           "Hikari Okubo"
          ],
          [
           "Michele Danese"
          ],
          [
           "Janos Reisz"
          ],
          [
           "Bernhard Absmeier"
          ],
          [
           "Alexander Lundh"
          ],
          [
           "Peter Lenart"
          ],
          [
           "Gregory Lefort"
          ],
          [
           "Kenny Irons"
          ],
          [
           "Corentin Perolari"
          ],
          [
           "Dario Ambrosini"
          ],
          [
           "Karl Hoppe"
          ],
          [
           "Werner Musiol"
          ],
          [
           "Igor Kalab"
          ],
          [
           "Walter Zeller"
          ],
          [
           "Brian Steenson"
          ],
          [
           "Arciso Artesiani"
          ],
          [
           "Christian Pistoni"
          ],
          [
           "Keith Bryen"
          ],
          [
           "Joaquim Gali"
          ],
          [
           "Zaqhwan Zaidi"
          ],
          [
           "Barry Randle"
          ],
          [
           "Derek Farrant"
          ],
          [
           "Enrico Cereda"
          ],
          [
           "Freddie Frith"
          ],
          [
           "Antonio Neto"
          ],
          [
           "Gabriel Grabia"
          ],
          [
           "Sid Lawton"
          ],
          [
           "Shane Norval"
          ],
          [
           "Eduardo Aleman"
          ],
          [
           "Franz Aschenbrenner"
          ],
          [
           "Daniel Arcas"
          ],
          [
           "Alberto Gandossi"
          ],
          [
           "Giampiero Zubani"
          ],
          [
           "Ramdan Rosli"
          ],
          [
           "Ezequiel Iturrioz"
          ],
          [
           "Niel Robinson"
          ],
          [
           "Gunter Fischer"
          ],
          [
           "Rudolf Weiss"
          ],
          [
           "Bill Webster"
          ],
          [
           "Florian Marino"
          ],
          [
           "David Jefferies"
          ],
          [
           "Christian Leon"
          ],
          [
           "Christian Ravel"
          ],
          [
           "Tony Rogers"
          ],
          [
           "Steve Manley"
          ],
          [
           "Dani Rivas"
          ],
          [
           "Frederik Watz"
          ],
          [
           "Lucas Mahias"
          ],
          [
           "Gordon Keith"
          ],
          [
           "Gerrit Strikker"
          ],
          [
           "Antonio Garcia"
          ],
          [
           "Nicolas Dussauge"
          ],
          [
           "Barry Ditchburn"
          ],
          [
           "N. Polane"
          ],
          [
           "Karel Pesek"
          ],
          [
           "Steve Murray"
          ],
          [
           "Y. Dupont"
          ],
          [
           "R. Schlachter"
          ],
          [
           "Sebastien Legrelle"
          ],
          [
           "Maurice Bolwerk"
          ],
          [
           "Graham Singer"
          ],
          [
           "Andrea Mantovani"
          ],
          [
           "Oronzo Memola"
          ],
          [
           "Gianni Rolando"
          ],
          [
           "Michel Galbit"
          ],
          [
           "Peter Berwick"
          ],
          [
           "Michael Rutter"
          ],
          [
           "Toni Wirsing"
          ],
          [
           "Willem Zoet"
          ],
          [
           "Jim Pink"
          ],
          [
           "Claudio Granata"
          ],
          [
           "Jim Filice"
          ],
          [
           "Joe Dunphy"
          ],
          [
           "Alessandro Antonello"
          ],
          [
           "Hans Stadelmann"
          ],
          [
           "Choujun Kameya"
          ],
          [
           "Thomas Engl"
          ],
          [
           "Jean Vivesse Bordons"
          ],
          [
           "L. Persson"
          ],
          [
           "Giichi Suzuki"
          ],
          [
           "Ralph Rensen"
          ],
          [
           "Christopher Martin"
          ],
          [
           "Chris Vincent"
          ],
          [
           "J. Stefe"
          ],
          [
           "Brett Hudson"
          ],
          [
           "Hervi Moineau"
          ],
          [
           "Alan Patterson"
          ],
          [
           "Herbert Denzler"
          ],
          [
           "Janos Szabo"
          ],
          [
           "Yasuaki Takahashi"
          ],
          [
           "Bertrand Stey"
          ],
          [
           "Ho Wan Chow"
          ],
          [
           "Stephen Whitehouse"
          ],
          [
           "Claudio Cipriani"
          ],
          [
           "Sinya Sato"
          ],
          [
           "Kasimer Rapczynski"
          ],
          [
           "Carl Fogarty"
          ],
          [
           "Pentti Lehtela"
          ],
          [
           "Yusuke Teshima"
          ],
          [
           "Tom Dickie"
          ],
          [
           "Kazuki Watanabe"
          ],
          [
           "Kazuma Watanabe"
          ],
          [
           "Herbert Besendörfer"
          ],
          [
           "Masumitsu Taguchi"
          ],
          [
           "Michel Simeon"
          ],
          [
           "Johnny Rosell"
          ],
          [
           "Rudie Markink"
          ],
          [
           "Ivan Cremonini"
          ],
          [
           "Jason Di Salvo"
          ],
          [
           "Steve Tonkin"
          ],
          [
           "Malcolm Uphill"
          ],
          [
           "Anton Straver"
          ],
          [
           "Yuzo Fujioka"
          ],
          [
           "Tommaso Gabrielli"
          ],
          [
           "Luca Scassa"
          ],
          [
           "J. Pares March"
          ],
          [
           "Adolf Ohligschlaeger"
          ],
          [
           "Jean Campiche"
          ],
          [
           "Andrea Borgonovo"
          ],
          [
           "Franziseh Bocek"
          ],
          [
           "Andre Pires"
          ],
          [
           "Massimo Ottobre"
          ],
          [
           "Ismael Bonilla"
          ],
          [
           "John Cornwell"
          ],
          [
           "Hiroyuki Kawasaki"
          ],
          [
           "J. Sato"
          ],
          [
           "Kohta Nozane"
          ],
          [
           "Wolfgang Gedlich"
          ],
          [
           "Maurice Cann"
          ],
          [
           "Pete McKinley"
          ],
          [
           "Peter Eser"
          ],
          [
           "Hans Smees"
          ],
          [
           "Gerhard Bauer"
          ],
          [
           "Stefano Pennese"
          ],
          [
           "Bob Matthews"
          ],
          [
           "Klaus Enderlein"
          ],
          [
           "Gerry Mateer"
          ],
          [
           "Lars Johansson"
          ],
          [
           "Hans Hallberg"
          ],
          [
           "Gosta Jensen"
          ],
          [
           "Hermann Meyer"
          ],
          [
           "Herbert Hauf"
          ],
          [
           "Gabriele Ferro"
          ],
          [
           "Benedicto Caldarella"
          ],
          [
           "Bill Rae"
          ],
          [
           "Gianpaolo Marchetti"
          ],
          [
           "Ron Langston"
          ],
          [
           "Riccardo Russo"
          ],
          [
           "Jan Kostwinder"
          ],
          [
           "Josh Hook"
          ],
          [
           "Stan Woods"
          ],
          [
           "Leon Van Der Heyden"
          ],
          [
           "Matthieu Lagrive"
          ],
          [
           "Eric McPherson"
          ],
          [
           "Roland Olsson"
          ],
          [
           "Takumi Takahashi"
          ],
          [
           "Jimmy Petit"
          ],
          [
           "Adrijan Bernetic"
          ],
          [
           "Duilio Agostini"
          ],
          [
           "Gary Noel"
          ],
          [
           "Roland Föll"
          ],
          [
           "Rex Avery"
          ],
          [
           "Attilio Riondato"
          ],
          [
           "Ian Plumridge"
          ],
          [
           "Gert Pieper"
          ],
          [
           "Jean Pierre Beltoise"
          ],
          [
           "Martin Trösch"
          ],
          [
           "Uwe Bolteraurer"
          ],
          [
           "Jordi Dalmau"
          ],
          [
           "Chris D'Aluisio"
          ],
          [
           "Dieter Falk"
          ],
          [
           "Daniela Tognoli"
          ],
          [
           "Tobias Siegert"
          ],
          [
           "Walter Brehme"
          ],
          [
           "Eriff Jenkins"
          ],
          [
           "Carl Ward"
          ],
          [
           "Craig Connell"
          ],
          [
           "Alen Gyorfi"
          ],
          [
           "Maximilian Kappler"
          ],
          [
           "Mathias Neukirchen"
          ],
          [
           "Patrik Vostarek"
          ],
          [
           "Gabriel Martinez-Abrego"
          ],
          [
           "Paolo Campanelli"
          ],
          [
           "Hans Fischer"
          ],
          [
           "Troy Corser"
          ],
          [
           "Stefano Cruciani"
          ],
          [
           "Fortunato Libanori"
          ],
          [
           "Franzisen Bartos"
          ],
          [
           "Renato Colleoni"
          ],
          [
           "Vicente Esparragoso"
          ],
          [
           "Vladimir Castka"
          ],
          [
           "Jamie Whitham"
          ],
          [
           "Terry Rymer"
          ],
          [
           "Michio Ichino"
          ],
          [
           "L.T. Simpson"
          ],
          [
           "Serafino Foti"
          ],
          [
           "Rich Oliver"
          ],
          [
           "Scott Gray"
          ],
          [
           "Tony Godfrey"
          ],
          [
           "J.T. Findlay"
          ],
          [
           "C.M. Walpole"
          ],
          [
           "Hans Bischoff"
          ],
          [
           "Hiroomi Iwata"
          ],
          [
           "Shinji Katayama"
          ],
          [
           "Oscar Sainz"
          ],
          [
           "Hans Bartl"
          ],
          [
           "Gerwin Hofer"
          ],
          [
           "Steve Spencer"
          ],
          [
           "David Horton"
          ],
          [
           "Darren Milner"
          ],
          [
           "Jaques Collot"
          ],
          [
           "Idalio Gavira"
          ],
          [
           "Charlie Mates"
          ],
          [
           "Bob Coulter"
          ],
          [
           "Axel Bassani"
          ],
          [
           "Rob Filart"
          ],
          [
           "Massimiliano D'Agnano"
          ],
          [
           "Shimazaki Sadao"
          ],
          [
           "W. McCosh"
          ],
          [
           "Lennart Lundgren"
          ],
          [
           "Daniel Kartheininger"
          ],
          [
           "F. Ringhini"
          ],
          [
           "Marketa Janakova"
          ],
          [
           "Hans Otto Butenuth"
          ],
          [
           "Walter Rüngg"
          ],
          [
           "Tony Jefferies"
          ],
          [
           "Mike Baldinger"
          ],
          [
           "Alan Watts"
          ],
          [
           "Martin Carney"
          ],
          [
           "Alois Meyer"
          ],
          [
           "Federico Cerroni"
          ],
          [
           "Edwin Weibel"
          ],
          [
           "Patrick Unger"
          ],
          [
           "Bob Gehring"
          ],
          [
           "E. Frend"
          ],
          [
           "Peter Frohnmeyer"
          ],
          [
           "Jean Aureal"
          ],
          [
           "Sigfried Lohmann"
          ],
          [
           "Roberto Pietri"
          ],
          [
           "Reinhard Koberstein"
          ],
          [
           "Paul Cott"
          ],
          [
           "Jean Louis Pasquier"
          ],
          [
           "Niel Tuxworth"
          ],
          [
           "Phillipp Hafeneger"
          ],
          [
           "Phil Giles"
          ],
          [
           "Felice Agostini"
          ],
          [
           "Gordon Pantall"
          ],
          [
           "Johnny Bengtsson"
          ],
          [
           "Benoit Musy"
          ],
          [
           "B. Elgh"
          ],
          [
           "F. Van Der Hoeven"
          ],
          [
           "Nasser Hasan Al Malki"
          ],
          [
           "Franco Bertoni"
          ],
          [
           "Edmar Ferreira"
          ],
          [
           "Bill Henderson"
          ],
          [
           "Robert Laver"
          ],
          [
           "Marc Schouten"
          ],
          [
           "Kjell Solberg"
          ],
          [
           "Michael Ruben Rinaldi"
          ],
          [
           "R. Sibille"
          ],
          [
           "A. Gouin"
          ],
          [
           "Steve Martin"
          ],
          [
           "P. Herouard"
          ],
          [
           "Randy Gevers"
          ],
          [
           "Fernando Gonzales De N."
          ],
          [
           "Steve Machin"
          ],
          [
           "Willem Heykoop"
          ],
          [
           "Ismael Ortega"
          ],
          [
           "Quentin Jacquet"
          ],
          [
           "Andre Luc Appietto"
          ],
          [
           "Bruno Francisci"
          ],
          [
           "Horst Lahfeld"
          ],
          [
           "Jarno Ronzoni"
          ],
          [
           "Marvin Fritz"
          ],
          [
           "Kevin Calia"
          ],
          [
           "Brendan Clarke"
          ],
          [
           "Kenny Foray"
          ],
          [
           "Domingo Gil"
          ],
          [
           "Rudolf Schmalzle"
          ],
          [
           "Percy Tait"
          ],
          [
           "Engelbert Kip"
          ],
          [
           "Ronald Mead"
          ],
          [
           "Hiromichi Kunikawa"
          ],
          [
           "Takuma Matsuyama"
          ],
          [
           "Dave Potter"
          ],
          [
           "Giovanni Proni"
          ],
          [
           "Sauro Pazzaglia"
          ],
          [
           "Geza Repitz"
          ],
          [
           "Nico Vivarelli"
          ],
          [
           "Sheridan Morais"
          ],
          [
           "Michele Valdo"
          ],
          [
           "Jorge Kissling"
          ],
          [
           "Eddie Grant"
          ],
          [
           "Yoshikazu Sunako"
          ],
          [
           "John McGuinness"
          ],
          [
           "Paul Young"
          ],
          [
           "Tommaso Lorenzetti"
          ],
          [
           "Eddie Roberts"
          ],
          [
           "Helmut Hallmeier"
          ],
          [
           "Ryuji Yokoe"
          ],
          [
           "Francisco Debon"
          ],
          [
           "Alex Sirera"
          ],
          [
           "Ikujiro Takai"
          ],
          [
           "Patrick Lakerveld"
          ],
          [
           "David Moore"
          ],
          [
           "Daniel Mateos"
          ],
          [
           "Steven Le Coquen"
          ],
          [
           "Javier Diaz"
          ],
          [
           "E. Saffioti"
          ],
          [
           "Marcus Payten"
          ],
          [
           "M. Kugler"
          ],
          [
           "Hansjörg Butz"
          ],
          [
           "Charlie Salt"
          ],
          [
           "Claude Albert"
          ],
          [
           "Michael Haisman"
          ],
          [
           "Ulf Svensson"
          ],
          [
           "Charlie Sanby"
          ],
          [
           "Xaver Tschannen"
          ],
          [
           "Y. Matsumoto"
          ],
          [
           "Bernd Völkel"
          ],
          [
           "Rafael Roses"
          ],
          [
           "Pierre Vervroegen"
          ],
          [
           "Roger Nichols"
          ],
          [
           "Thomas Van Leeuwen"
          ],
          [
           "Derek Ennett"
          ],
          [
           "Ronnie Timmer"
          ],
          [
           "Iori Namihira"
          ],
          [
           "Theo Van Geffen"
          ],
          [
           "Pierre Audry"
          ],
          [
           "R. Jimenez"
          ],
          [
           "Mike Jones"
          ],
          [
           "Linda Walsh"
          ],
          [
           "Ladislav Chmelik"
          ],
          [
           "Daisaku Sakai"
          ],
          [
           "Geoffrey Tanner"
          ],
          [
           "Florian Ferracci"
          ],
          [
           "Peter Stocksiefen"
          ],
          [
           "Anssi Resko"
          ],
          [
           "Eric Hubsch"
          ],
          [
           "Bernd Tungethal"
          ],
          [
           "Alan Trow"
          ],
          [
           "C. Dumont"
          ],
          [
           "Enzo Boulom"
          ],
          [
           "Andreas Martensson"
          ],
          [
           "Michal Prasek"
          ],
          [
           "Max Gambino"
          ],
          [
           "Tim Georgi"
          ],
          [
           "Sergio Baroncini"
          ],
          [
           "Kaarlo Koivuniemi"
          ],
          [
           "Manuel Mickan"
          ],
          [
           "Kouki Takahashi"
          ],
          [
           "T. Kooyman"
          ],
          [
           "Apiwat Wongthananon"
          ],
          [
           "Roger Lee Hayden"
          ],
          [
           "Zbynek Havrda"
          ],
          [
           "Eduardo Salatino"
          ],
          [
           "Lennart Lindell"
          ],
          [
           "Vasco Loro"
          ],
          [
           "Sadao Shimazaki"
          ],
          [
           "Aldo Nannini"
          ],
          [
           "Vernon Cottle"
          ],
          [
           "Lee Pullan"
          ],
          [
           "Santiago Barragan"
          ],
          [
           "David Mico"
          ],
          [
           "Ermanno Giuliano"
          ],
          [
           "Sid Mizen"
          ],
          [
           "Richard Ingram"
          ],
          [
           "John Weeden"
          ],
          [
           "Alberto Ieva"
          ],
          [
           "Giuseppe Lattanzi"
          ],
          [
           "Omar Menghi"
          ],
          [
           "Lindsay Porter"
          ],
          [
           "Junzo Suzuki"
          ],
          [
           "Rene Bongers"
          ],
          [
           "Reinhard Scholtis"
          ],
          [
           "Decha Kraisart"
          ],
          [
           "Katsuji Uezu"
          ],
          [
           "Guido Leoni"
          ],
          [
           "Lo Simons"
          ],
          [
           "Claude Arciero"
          ],
          [
           "Guido Sala"
          ],
          [
           "Fernando Cristóbal"
          ],
          [
           "Karel Bojer"
          ],
          [
           "Herbert Mann"
          ],
          [
           "Otto Daiker"
          ],
          [
           "Tino Forconi"
          ],
          [
           "John Blanchard"
          ],
          [
           "Edy Lenz"
          ],
          [
           "Keith Armstrong"
          ],
          [
           "Adri Den Bekker"
          ],
          [
           "Marco Tresoldi"
          ],
          [
           "André Millard"
          ],
          [
           "Harmunt Bischoff"
          ],
          [
           "Francesco Villa"
          ],
          [
           "Ryan Van De Lagemaat"
          ],
          [
           "Jacques Roca"
          ],
          [
           "Josep Maria Busquets"
          ],
          [
           "Nigel Bosworth"
          ],
          [
           "Robbie Petersen"
          ],
          [
           "Emanuele Maugliani"
          ],
          [
           "Jay Taylor"
          ],
          [
           "Teppei Nagoe"
          ],
          [
           "Shi Zhao Huang"
          ],
          [
           "Felix Rodriguez"
          ],
          [
           "Ingermar Larssen"
          ],
          [
           "Rex Butcher"
          ],
          [
           "Lothar Neukirchner"
          ],
          [
           "Geoff Barry"
          ],
          [
           "Yannick Deschamps"
          ],
          [
           "Mike O'Rourke"
          ],
          [
           "Carlos Giro"
          ],
          [
           "Ernst Dubbink"
          ],
          [
           "Jerry Van De Bunt"
          ],
          [
           "Willi Hupperich"
          ],
          [
           "David Ortega"
          ],
          [
           "Jean-Marc Velay"
          ],
          [
           "Osamu Hiwatashi"
          ],
          [
           "Richard Bay"
          ],
          [
           "Clive Brown"
          ],
          [
           "Roland Pike"
          ],
          [
           "Sena Yamada"
          ],
          [
           "Benjamin Laurent"
          ],
          [
           "Ernie Ring"
          ],
          [
           "Greame Geddes"
          ],
          [
           "Masaru Kobayashi"
          ],
          [
           "Federico Caricasulo"
          ],
          [
           "Alfons Ammerschlager"
          ],
          [
           "Wilhelm Van Leeuwen"
          ],
          [
           "Aleix Viu"
          ],
          [
           "Vaclav Bittman"
          ],
          [
           "T. Ramaker"
          ],
          [
           "Cristiano Vieira"
          ],
          [
           "Zhu Wang"
          ],
          [
           "Massimo De Lorenzi"
          ],
          [
           "Christian Elkin"
          ],
          [
           "Walter Kaletsch"
          ],
          [
           "Harald Danninger"
          ],
          [
           "Rudolf Thalhammer"
          ],
          [
           "J. Lazo"
          ],
          [
           "Georg Scharl"
          ],
          [
           "Claudio Mastellari"
          ],
          [
           "Joey Dunlop"
          ],
          [
           "Johnny Grace"
          ],
          [
           "Giuseppe Matucci"
          ],
          [
           "John Clark"
          ],
          [
           "Masayuki Hirose"
          ],
          [
           "Jean Paul Boinet"
          ],
          [
           "Yutaka Fujiwara"
          ],
          [
           "Karl Lottes"
          ],
          [
           "Shahrun Nizam"
          ],
          [
           "Dario Marchetti"
          ],
          [
           "Jose Ramon Ramirez"
          ],
          [
           "Udo Kochanski"
          ],
          [
           "Matej Smrz"
          ],
          [
           "Jascha Buch"
          ],
          [
           "Shaun Geronimi"
          ],
          [
           "Giuseppe Consalvi"
          ],
          [
           "Hikaru Miyagi"
          ],
          [
           "Katsuaki Fujiwara"
          ],
          [
           "Peter Schleef"
          ],
          [
           "Yuuichi Yanagisawa"
          ],
          [
           "Michal Filla"
          ],
          [
           "Yves Polzer"
          ],
          [
           "Hans Dittberner"
          ],
          [
           "Philippe Robinet"
          ],
          [
           "Daniel Ribalta"
          ],
          [
           "Anthony Delhalle"
          ],
          [
           "Ramon Torras"
          ],
          [
           "P. Kiisa"
          ],
          [
           "Phil Carpenter"
          ],
          [
           "Bubba Shobert"
          ],
          [
           "Gregory Fouet"
          ],
          [
           "Fabien Rousseau"
          ],
          [
           "David Fouloi"
          ],
          [
           "Tom Toparis"
          ],
          [
           "Frank Baldinger"
          ],
          [
           "Rick Van Etten"
          ],
          [
           "Yuki Hamamoto"
          ],
          [
           "Ernie Lyons"
          ],
          [
           "W. Maddrick"
          ],
          [
           "Renato Magi"
          ],
          [
           "David Whitworth"
          ],
          [
           "Wataru Yoshikawa"
          ],
          [
           "Jock West"
          ],
          [
           "Sid Jensen"
          ],
          [
           "Pablo Zeballos"
          ],
          [
           "Hans Gunter Jaeger"
          ],
          [
           "Jarno Boesveld"
          ],
          [
           "Marcel Nooren"
          ],
          [
           "Tobias Kirmeier"
          ],
          [
           "Manliefe Barrington"
          ],
          [
           "Donnie Hough"
          ],
          [
           "David Salvador"
          ],
          [
           "Claudius Klein"
          ],
          [
           "Renato Velludo"
          ],
          [
           "Thomas Mayer"
          ],
          [
           "Filippo Cotti"
          ],
          [
           "Jose Julian Garcia"
          ],
          [
           "Gabriele Ruiu"
          ],
          [
           "Nino Grieco"
          ],
          [
           "Leandro Mulet"
          ],
          [
           "Arie Vos"
          ],
          [
           "Sid Mason"
          ],
          [
           "Maurizio Cucchiarini"
          ],
          [
           "Andrea Zappa"
          ],
          [
           "Antonio Elizalde"
          ],
          [
           "Thomas Stadler"
          ],
          [
           "Leon Martin"
          ],
          [
           "Steve Sawford"
          ],
          [
           "Colin Clark"
          ],
          [
           "J. Bultó"
          ],
          [
           "Vincenzo Zanzi"
          ],
          [
           "Tatsuya Yamaguchi"
          ],
          [
           "Gerard Rike"
          ],
          [
           "Firmin Dauwe"
          ],
          [
           "Jaap Hoogeveen"
          ],
          [
           "Mick Featherstone"
          ],
          [
           "Christian Manna"
          ],
          [
           "Shigeru Ibaraki"
          ],
          [
           "Harold De Haan"
          ],
          [
           "Peter Davey"
          ],
          [
           "Ken Mudford"
          ],
          [
           "Igor Antonelli"
          ],
          [
           "Mikko Kyyhkynen"
          ],
          [
           "Eric Wünsche"
          ],
          [
           "Dirk Geiger"
          ],
          [
           "Dreikus Veer"
          ],
          [
           "Claudio Vanzetta"
          ],
          [
           "Gerry Salim"
          ],
          [
           "Hubert Luttenberg"
          ],
          [
           "Francesco Monaco"
          ],
          [
           "Chee Kieong Soong"
          ],
          [
           "Kazuhiro Takao"
          ],
          [
           "Meikon Kawakami"
          ],
          [
           "Fron Purslow"
          ],
          [
           "Felisberto Teixeira"
          ],
          [
           "Julian Jose Garcia"
          ],
          [
           "Phil Carter"
          ],
          [
           "Ivan Martinez"
          ],
          [
           "Andre Romein"
          ],
          [
           "Wai On Cheung"
          ],
          [
           "Alessio Aldrovandi"
          ],
          [
           "Roberto Bellei"
          ],
          [
           "Pete Jennings"
          ],
          [
           "Ruben Catalan"
          ],
          [
           "Gert-Jan Kok"
          ],
          [
           "Taiga Hada"
          ],
          [
           "Suhathai Chaemsap"
          ],
          [
           "Shinichi Nakatomi"
          ],
          [
           "Nobuyuki Ohsaki"
          ],
          [
           "Arnold Jones"
          ],
          [
           "Arnold Litjens"
          ],
          [
           "Joshua Waters"
          ],
          [
           "Andreas Hahn"
          ],
          [
           "Javier Marsella"
          ],
          [
           "Umberto Braga"
          ],
          [
           "José Leite"
          ],
          [
           "Daniel Holgado"
          ],
          [
           "Joshua Brookes"
          ],
          [
           "Francisco Gonzales"
          ],
          [
           "Joel Kelso"
          ],
          [
           "Manuel Gonzalez"
          ],
          [
           "G. Andrews"
          ],
          [
           "Markus Barth"
          ],
          [
           "Raffaele Alberti"
          ],
          [
           "Willi Scheidhauer"
          ],
          [
           "Georg Braun"
          ],
          [
           "Jesús Perez"
          ],
          [
           "Mathieu Lussiana"
          ],
          [
           "Emilio Delgado"
          ],
          [
           "Walter Reichert"
          ],
          [
           "Walter Vogel"
          ],
          [
           "Julien Da Costa"
          ],
          [
           "Eric Dubray"
          ],
          [
           "Luca Verdini"
          ],
          [
           "Marcello Cama"
          ],
          [
           "W. Petch"
          ],
          [
           "Ernesto Vidal"
          ],
          [
           "Sadahito Suma"
          ],
          [
           "A. Parry"
          ],
          [
           "Dirk Reissmann"
          ],
          [
           "Russell Wood"
          ],
          [
           "Tamaki Serizawa"
          ],
          [
           "Akira Yanagawa"
          ],
          [
           "Ewald Kluge"
          ],
          [
           "Dick Alblas"
          ],
          [
           "Meng Heng Kuan"
          ],
          [
           "Marty Lunde"
          ],
          [
           "Luigi Piccirillo"
          ],
          [
           "Davide Stirpe"
          ],
          [
           "Jikka Jaakkola"
          ],
          [
           "Ray McCullough"
          ],
          [
           "Gennaro Sabatino"
          ],
          [
           "Blake Young"
          ],
          [
           "Cliff Carr"
          ],
          [
           "Roland Rentzsch"
          ],
          [
           "Maurizio Stocco"
          ],
          [
           "Frank Whiteway"
          ],
          [
           "Martin Bauer"
          ],
          [
           "Jason O'Halloran"
          ],
          [
           "Pierre Viura"
          ],
          [
           "Roger Marshall"
          ],
          [
           "Charlie Dobson"
          ],
          [
           "H. Gorgen"
          ],
          [
           "Hanz Rosenbusch"
          ],
          [
           "Juan Bordons"
          ],
          [
           "R. Ruosi"
          ],
          [
           "P. Kambourian"
          ],
          [
           "Brad Gross"
          ],
          [
           "Kimmo Kopra"
          ],
          [
           "Fred Launchbury"
          ],
          [
           "T. Daleman"
          ],
          [
           "Jhonni Baeckstroem"
          ],
          [
           "Franz Kroon"
          ],
          [
           "W. Roesch"
          ],
          [
           "G. Weser"
          ],
          [
           "Dennis Gallagner"
          ],
          [
           "Luigi Anelli"
          ],
          [
           "Fraser Rogers"
          ],
          [
           "Oscar La Ferla"
          ],
          [
           "Wim Heykamp"
          ],
          [
           "Glen Richards"
          ],
          [
           "Matthew Hoyle"
          ],
          [
           "Malcom Stanton"
          ],
          [
           "Akihiko Motohashi"
          ],
          [
           "Kevin Cass"
          ],
          [
           "Terry Grotefeld"
          ],
          [
           "Keiji Tamura"
          ],
          [
           "Wolfgang Reinhard"
          ],
          [
           "E.L. Griffith"
          ],
          [
           "Philippe Pagano"
          ],
          [
           "Dennis Batchelor"
          ],
          [
           "J.D. Lawley"
          ],
          [
           "R.M. Udall"
          ],
          [
           "Konrad Hefele"
          ],
          [
           "Georg Jung"
          ],
          [
           "Ton Spek"
          ],
          [
           "Masaru Mizutani"
          ],
          [
           "Bernd Rossbach"
          ],
          [
           "Yvon Duhamel"
          ],
          [
           "Thomas Bacher"
          ],
          [
           "Anthony Groppi"
          ],
          [
           "Paul Jordan"
          ],
          [
           "Siegfried Moehringer"
          ],
          [
           "Pierre-Etienne Samin"
          ],
          [
           "Josef Hutter"
          ],
          [
           "Ricardo Blanco"
          ],
          [
           "Antonio Boronat"
          ],
          [
           "Antonio Perez"
          ],
          [
           "Albergian Louwes"
          ],
          [
           "Werner Bergold"
          ],
          [
           "Jean-Luc Guillemet"
          ],
          [
           "maurice Coq"
          ],
          [
           "Gerhard Schweikardt"
          ],
          [
           "S. Janssen"
          ],
          [
           "Lennart Backstrom"
          ],
          [
           "Chris Taylor"
          ],
          [
           "Massimo Parziani"
          ],
          [
           "Benito Jull"
          ],
          [
           "Daniel Ruiz"
          ],
          [
           "Juup Bosman"
          ],
          [
           "R. Cornelis"
          ],
          [
           "Martin Sharpe"
          ],
          [
           "Georg Pohlmann"
          ],
          [
           "Les Kenny"
          ],
          [
           "Kevin Szalai"
          ],
          [
           "Mattia Tarozzi"
          ],
          [
           "Franz Weidacher"
          ],
          [
           "J. Roller"
          ],
          [
           "Noel Clegg"
          ],
          [
           "C. Guerrini"
          ],
          [
           "Germano Zanetti"
          ],
          [
           "E. Mischiatti"
          ],
          [
           "Luigi Richetti"
          ],
          [
           "Hans Mühlebach"
          ],
          [
           "Arnulf Teuchert"
          ],
          [
           "Alexander Cudlin"
          ],
          [
           "Robin Barbosa"
          ],
          [
           "Fritz Reitmaier"
          ],
          [
           "Wolfgang Rubel"
          ],
          [
           "Winfried Fries"
          ],
          [
           "Alfred Heck"
          ],
          [
           "Maurice Maingret"
          ],
          [
           "Mohamad Zamri Baba"
          ],
          [
           "Pedro Rodriguez"
          ],
          [
           "Hikari Ookubo"
          ],
          [
           "Syunya Mori"
          ],
          [
           "B. Miklos"
          ],
          [
           "Frantisek Srna"
          ],
          [
           "Ulf Nilsson"
          ],
          [
           "M. Cortes"
          ],
          [
           "P. Verbic"
          ],
          [
           "Horst Dzierzawa"
          ],
          [
           "M. Sayle"
          ],
          [
           "R. Watts"
          ],
          [
           "Yuma Yahagi"
          ],
          [
           "F. Granon"
          ],
          [
           "J.F. Lecureux"
          ],
          [
           "Nico Van Der Zanden"
          ],
          [
           "Eduard Lopez"
          ],
          [
           "Gregory Di Carlo"
          ],
          [
           "David Salom"
          ],
          [
           "Jonathan Rea"
          ],
          [
           "Clive Padgett"
          ],
          [
           "Pepijn Bijsterbosch"
          ],
          [
           "Alejandro Aleman"
          ],
          [
           "Jacob Gagne"
          ],
          [
           "Damien Raemy"
          ],
          [
           "Kenny Blake"
          ],
          [
           "Jurgen Steiner"
          ],
          [
           "Hans Maxwald"
          ],
          [
           "Derek Lee"
          ],
          [
           "James Lodge"
          ],
          [
           "B. Johansson"
          ],
          [
           "Carlo Marelli"
          ],
          [
           "Arpad Juhos"
          ],
          [
           "Giuseppe Zigiotto"
          ],
          [
           "Jacub Jantulik"
          ],
          [
           "Kevin Wrettom"
          ],
          [
           "Nicky Diles"
          ],
          [
           "Jean Philippe Orban"
          ],
          [
           "Michael Gschwender"
          ],
          [
           "Bruno Veigel"
          ],
          [
           "Olly Simpson"
          ],
          [
           "Yosuke Yamakawa"
          ],
          [
           "Umberto Massetti"
          ],
          [
           "Satoshi Tsujimoto"
          ],
          [
           "Keiichiro Iwahashi"
          ],
          [
           "Carlo Marfetan"
          ],
          [
           "Peter Scott"
          ],
          [
           "Tony Daly"
          ],
          [
           "Rhys Moller"
          ],
          [
           "Gavin Johnston"
          ],
          [
           "Victorio Minguzzi"
          ],
          [
           "Alex Lowes"
          ],
          [
           "Kazuya Otani"
          ],
          [
           "Soichiro Satoh"
          ],
          [
           "Clement Dunikowski"
          ],
          [
           "Matt Barton"
          ],
          [
           "Ryo Mizuno"
          ],
          [
           "Raoul Kissling"
          ],
          [
           "Gaston Biscia"
          ],
          [
           "R. Creith"
          ],
          [
           "Buddy Parriott"
          ],
          [
           "Simone Sancioni"
          ],
          [
           "Philipp Eitzinger"
          ],
          [
           "Ron Grant"
          ],
          [
           "George Rockett"
          ],
          [
           "Shinichi Fujiyama"
          ],
          [
           "Michal Sembera"
          ],
          [
           "Wolfgang Fritz"
          ],
          [
           "Roy Pouw"
          ],
          [
           "Juan Salatino"
          ],
          [
           "Geoff Monty"
          ],
          [
           "Udo Mark"
          ],
          [
           "Josef Autengruber"
          ],
          [
           "Jean-Marc Deletang"
          ],
          [
           "Bohumil Stasa Jr."
          ],
          [
           "Zheng Peng Li"
          ],
          [
           "Ron Miles"
          ],
          [
           "Simone Giannecchini"
          ],
          [
           "Ernesto Brambilla"
          ],
          [
           "Ladi Richter"
          ],
          [
           "Jean Luc Romanens"
          ],
          [
           "Jin Xiao"
          ],
          [
           "Seichi Suzuki"
          ],
          [
           "Chin Feng Ho"
          ],
          [
           "Evren Bischoff"
          ],
          [
           "Manuel Luque"
          ],
          [
           "Hugo Pochettino"
          ],
          [
           "Alessandro Nocco"
          ],
          [
           "H. Karlsson"
          ],
          [
           "Shizuka Okazaki"
          ],
          [
           "Alex Fabbri"
          ],
          [
           "Patrick Vd Waarsenburg"
          ],
          [
           "Luke Lawrence"
          ],
          [
           "Cas Swart"
          ],
          [
           "Masato Shima"
          ],
          [
           "Seijin Oikawa"
          ],
          [
           "Toshinobu Shiomori"
          ],
          [
           "Antonio Oliveros"
          ],
          [
           "Ralf Hobl"
          ],
          [
           "Richard Thomas"
          ],
          [
           "Isamu Kasuya"
          ],
          [
           "Roberto Sassone"
          ],
          [
           "Joshua Sommer"
          ],
          [
           "Yoshiari Hori"
          ],
          [
           "Sergio Granton"
          ],
          [
           "Kevin Webster"
          ],
          [
           "Iean Noel Burne"
          ],
          [
           "Fred Merkel"
          ],
          [
           "Reinhard Strack"
          ],
          [
           "James Pearson"
          ],
          [
           "Kunio Machii"
          ],
          [
           "Roy Boughey"
          ],
          [
           "Ken King"
          ],
          [
           "Noboyuki Ohsaki"
          ],
          [
           "Peter Holmes"
          ],
          [
           "Alessandro Giorgi"
          ],
          [
           "Russell Holland"
          ],
          [
           "Keminth Kubo"
          ],
          [
           "Hideyuki Ogata"
          ],
          [
           "Christopher Moretti"
          ],
          [
           "Takashi Yasuda"
          ],
          [
           "Andrew Lawson"
          ],
          [
           "Miles Thornton"
          ],
          [
           "Levi Day"
          ],
          [
           "Federico Biaggi"
          ],
          [
           "Thomas Bridewell"
          ],
          [
           "Jan Roelofs"
          ],
          [
           "Elly Ilias"
          ],
          [
           "Muhammad Zulfahmi"
          ],
          [
           "William Dunlop"
          ],
          [
           "Christophe Ponsson"
          ],
          [
           "JD Beach"
          ],
          [
           "Kris Weston"
          ],
          [
           "Edoardo Sintoni"
          ],
          [
           "Jake Archer"
          ],
          [
           "Ben Bostrom"
          ],
          [
           "Karel Majek"
          ],
          [
           "Martin Glossop"
          ],
          [
           "Dakota Mamola"
          ],
          [
           "Thomas Walter"
          ],
          [
           "Max Croker"
          ],
          [
           "Lee Costello"
          ],
          [
           "Chuck Sorensen"
          ],
          [
           "Hafiza Rofa"
          ],
          [
           "Timothy Hastings"
          ],
          [
           "Kris McLaren"
          ],
          [
           "Ivan Visak"
          ],
          [
           "Jun Ohnishi"
          ],
          [
           "Barrett Long"
          ],
          [
           "Jeremy Crowe"
          ],
          [
           "Luca Fabrizio"
          ],
          [
           "Naomichi Uramoto"
          ],
          [
           "Adam Roberts"
          ],
          [
           "Ben Young"
          ],
          [
           "Kasma Daniel Kasmayudin"
          ],
          [
           "Aaron Polanco"
          ],
          [
           "Gerald Perdon"
          ],
          [
           "Deane Brown"
          ],
          [
           "Arata Mori"
          ],
          [
           "Saeed Al Sulaiti"
          ],
          [
           "Nayuta Mizuno"
          ],
          [
           "Tom Hatton"
          ],
          [
           "Kazuki Hanafusa"
          ],
          [
           "Mario Aji"
          ],
          [
           "Andrew Whittley"
          ],
          [
           "Loris Cresson"
          ],
          [
           "Jonas Geitner"
          ],
          [
           "Matthew Kuhne"
          ],
          [
           "Joel Taylor"
          ],
          [
           "Giovanni Bonati"
          ],
          [
           "Ikuhiro Enokido"
          ],
          [
           "Wayne Maxwell"
          ],
          [
           "Matteo Bertelle"
          ],
          [
           "Chalermpol Polamai"
          ],
          [
           "Glenn Scott"
          ],
          [
           "Josh Hayes"
          ],
          [
           "Takuya Tsuda"
          ],
          [
           "Morgan Berchet"
          ],
          [
           "Alejandro Pardo"
          ],
          [
           "Jorel Boerboom"
          ],
          [
           "Felix Forstenhaeusler"
          ],
          [
           "Lukas Razek"
          ],
          [
           "Bram Appelo"
          ],
          [
           "Kevin Thobois"
          ],
          [
           "Anthony Rogers"
          ],
          [
           "Joe Irving"
          ],
          [
           "Daniele Rossi"
          ],
          [
           "Amadeo Llados"
          ],
          [
           "Jascha Buech"
          ],
          [
           "Mamoru Akiya"
          ],
          [
           "Hugo Clere"
          ],
          [
           "Lukasz Wargala"
          ],
          [
           "Louis Bulle"
          ],
          [
           "Syarifuddin Azman"
          ],
          [
           "Aiden Wagner"
          ],
          [
           "Sinan Sofuoglu"
          ],
          [
           "Sarath Kumar"
          ],
          [
           "Rob Guiver"
          ],
          [
           "Luke Mossey"
          ],
          [
           "Romain Maitre"
          ],
          [
           "Luke Hedger"
          ],
          [
           "Kristian Lee Turner"
          ],
          [
           "Rogan Chandler"
          ],
          [
           "Julien Cartron"
          ],
          [
           "Yanni Shaw"
          ],
          [
           "Sam Clarke"
          ],
          [
           "Sean Dylan Kelly"
          ],
          [
           "Chester Lusk"
          ],
          [
           "Takumi Endoh"
          ],
          [
           "Taz Taylor"
          ],
          [
           "Farid Badrul"
          ],
          [
           "Yuuki Ito"
          ],
          [
           "Lincoln Gilding"
          ],
          [
           "Jed Metcher"
          ],
          [
           "Adrian Gyutai"
          ],
          [
           "Lee Longden"
          ],
          [
           "Midge Smart"
          ],
          [
           "Paul Veazey"
          ],
          [
           "Jarno Vd Marel"
          ],
          [
           "Cristian Trabalon"
          ],
          [
           "Thomas Tallevi"
          ],
          [
           "Luka Nedog"
          ],
          [
           "PJ Jacobsen"
          ],
          [
           "Alexis Michel"
          ],
          [
           "Yuto Fukushima"
          ],
          [
           "Gerard Riu Male"
          ],
          [
           "Miguel Praia"
          ],
          [
           "Wayne Ryan"
          ],
          [
           "Tom Hayward"
          ],
          [
           "Kyle Ryde"
          ],
          [
           "Robbie Stewart"
          ],
          [
           "Nikki Coates"
          ],
          [
           "Bradley Ray"
          ],
          [
           "James Rispoli"
          ],
          [
           "Andrea Touskova"
          ],
          [
           "Luke Jones"
          ],
          [
           "Michael Coletti"
          ],
          [
           "Fadli Immammuddin"
          ],
          [
           "Christophe Arciero"
          ],
          [
           "Aizat Malik"
          ],
          [
           "Sebastian Kreuziger"
          ],
          [
           "Lachlan Kavney"
          ],
          [
           "Javier Del Amor"
          ],
          [
           "Yuudai Kamei"
          ],
          [
           "Cedric Tangre"
          ],
          [
           "Brandon Paasch"
          ],
          [
           "Jordi Planas"
          ],
          [
           "Rong Zai Su"
          ],
          [
           "Garrett Gerloff"
          ],
          [
           "Stefano Musco"
          ],
          [
           "Jarno Van Der Marel"
          ],
          [
           "Borja Maestro"
          ],
          [
           "Akio Tanaka"
          ],
          [
           "Danny Eslick"
          ],
          [
           "Kenni Aggerholm"
          ],
          [
           "Steve Rapp"
          ],
          [
           "James Westmorland"
          ],
          [
           "Peter Politiek"
          ],
          [
           "Lee Dickinson"
          ],
          [
           "Oscar Climent"
          ],
          [
           "Robin Laesser"
          ],
          [
           "Meik Kevin Minnerop"
          ],
          [
           "Joakim Stensmo"
          ],
          [
           "Kyle Kentish"
          ],
          [
           "Sasuke Shinozaki"
          ],
          [
           "Eeki Kuparinen"
          ],
          [
           "Luis Castro"
          ],
          [
           "Nina Prinz"
          ],
          [
           "Keisuke Kurihara"
          ],
          [
           "Yuki Oogane"
          ],
          [
           "Jan Blok"
          ],
          [
           "Zi Xian He"
          ],
          [
           "Ferry Stoffer"
          ],
          [
           "Joao Fernandes"
          ],
          [
           "Thomas Walther"
          ],
          [
           "Aaron Yates"
          ],
          [
           "Massimo Roccoli"
          ],
          [
           "Markus Reiterberger"
          ],
          [
           "Robert Gull"
          ],
          [
           "Kevin Wahr"
          ],
          [
           "Luke Hinton"
          ],
          [
           "Izam Ikmal"
          ],
          [
           "Samuel Aubry"
          ],
          [
           "Eric Huebsch"
          ],
          [
           "Jamie Hacking"
          ],
          [
           "Simone Mazzola"
          ],
          [
           "Connor Behan"
          ],
          [
           "Sebastien Eckner"
          ],
          [
           "Satoru Kamada"
          ],
          [
           "Ronald Beitler"
          ],
          [
           "Tony Carey"
          ],
          [
           "Yohann Tiberio"
          ],
          [
           "A. Kralj"
          ],
          [
           "A.J. Smith"
          ],
          [
           "R. Duffty"
          ],
          [
           "Ray Pickrell"
          ],
          [
           "M. Bernsee"
          ],
          [
           "Vincent Duckett"
          ],
          [
           "Brian Adams"
          ],
          [
           "Giovanni Perrone"
          ],
          [
           "Gary Dickinson"
          ],
          [
           "Aad Droog"
          ],
          [
           "A. Lawn"
          ],
          [
           "Fred Redfern"
          ],
          [
           "L. Lawlor"
          ],
          [
           "Steve Aspin"
          ],
          [
           "Dick Pipes"
          ],
          [
           "Dave Degens"
          ],
          [
           "C. Crawford"
          ],
          [
           "W.A. Smith"
          ],
          [
           "Jose Peon"
          ],
          [
           "Bernard Mahler"
          ],
          [
           "Jose Medrano"
          ],
          [
           "Peter Courtney"
          ],
          [
           "E. Fagerer"
          ],
          [
           "Rob Noorlander"
          ],
          [
           "Giuseppe Mongardi"
          ],
          [
           "K. Bertsch"
          ],
          [
           "Morgan Radberg"
          ],
          [
           "Roger Sutcliffe"
          ],
          [
           "M. Cannizzaro"
          ],
          [
           "Ingo Koeppe"
          ],
          [
           "B. Cretti"
          ],
          [
           "E. Holzeis"
          ],
          [
           "D. Clancy"
          ],
          [
           "R. Simpson"
          ],
          [
           "C. Geary"
          ],
          [
           "Theo Lowes"
          ],
          [
           "Mikko Hamunen"
          ],
          [
           "I. Sauter"
          ],
          [
           "L. Van Rijswijk"
          ],
          [
           "Hansrudolf Bruengger"
          ],
          [
           "S.J. Florjan"
          ],
          [
           "J. O'Brien"
          ],
          [
           "Barry Scully"
          ],
          [
           "Franco Trabalzini"
          ],
          [
           "D. Lock"
          ],
          [
           "F. Cufi"
          ],
          [
           "Pedro Alvarez"
          ],
          [
           "Carlos Rocamora"
          ],
          [
           "Bernard Lund"
          ],
          [
           "Steve Jolly"
          ],
          [
           "Brian Ball"
          ],
          [
           "John Allen"
          ],
          [
           "Robert Messina"
          ],
          [
           "Ralf Swegan"
          ],
          [
           "Jean Guy Duval"
          ],
          [
           "Robert Lusk"
          ],
          [
           "M. Coopey"
          ],
          [
           "Gilbert Argo"
          ],
          [
           "A.T. Lawton"
          ],
          [
           "John Ringwood"
          ],
          [
           "Jean Francois Chaffin"
          ],
          [
           "Tom Loughridge"
          ],
          [
           "Charlie Garner"
          ],
          [
           "John Shacklady"
          ],
          [
           "R.A. Graham"
          ],
          [
           "M. Hatherill"
          ],
          [
           "C. Dubols"
          ],
          [
           "Daniel Crivello"
          ],
          [
           "J. Unterladstatter"
          ],
          [
           "Peter Darvill"
          ],
          [
           "G. Lombardi"
          ],
          [
           "Pertti Leinonen"
          ],
          [
           "Enrique Escuder"
          ],
          [
           "Wolfgang Stropek"
          ],
          [
           "O. Hansen"
          ],
          [
           "Ross Hannan"
          ],
          [
           "Jack Linah"
          ],
          [
           "Fred Smart"
          ],
          [
           "G. Hilbig"
          ],
          [
           "V. Novella"
          ],
          [
           "Ramon Serrer"
          ],
          [
           "W. Stephan"
          ],
          [
           "Etienne Delamarre"
          ],
          [
           "G. Debrok"
          ],
          [
           "Philippe Gerard"
          ],
          [
           "Edmund Czihak"
          ],
          [
           "Andre Nuno"
          ],
          [
           "Steffan Liebst"
          ],
          [
           "Piet Vd Goorbergh"
          ],
          [
           "G. Forderer"
          ],
          [
           "Gianni Ribuffo"
          ],
          [
           "Bob Ware"
          ],
          [
           "Richard Stevens"
          ],
          [
           "Ivan Hodgkinson"
          ],
          [
           "K. Huggett"
          ],
          [
           "R. Bratenstein"
          ],
          [
           "Lothar Mülbert"
          ],
          [
           "H. Kittler"
          ],
          [
           "P. Rüttjeroth"
          ],
          [
           "Klaus Leonhardt"
          ],
          [
           "A. Valster"
          ],
          [
           "Rudolph Keller"
          ],
          [
           "Bjorn Hasli"
          ],
          [
           "Hans Braumandl"
          ],
          [
           "Francis Holleberg"
          ],
          [
           "Thierry Van Der Veken"
          ],
          [
           "B. Rossel"
          ],
          [
           "A. Van Der Draay"
          ],
          [
           "A. Van Den Broecke"
          ],
          [
           "K. Gaber"
          ],
          [
           "Brian Warburton"
          ],
          [
           "Phil Gurner"
          ],
          [
           "W. Werner"
          ],
          [
           "G. Elementi"
          ],
          [
           "Peter Ruttjeroth"
          ],
          [
           "W. Golembeck"
          ],
          [
           "J. Kopitar"
          ],
          [
           "H. Konschok"
          ],
          [
           "Walter Winkler"
          ],
          [
           "P. Müller"
          ],
          [
           "R. Schuster"
          ],
          [
           "Robert Hackett"
          ],
          [
           "B. Lee"
          ],
          [
           "Nigel Stone"
          ],
          [
           "Adriano Cocchi"
          ],
          [
           "Giovanni Buffarello"
          ],
          [
           "Fosco Giansanti"
          ],
          [
           "Heinz Schmid"
          ],
          [
           "Josef Ozelt"
          ],
          [
           "Andy Morris"
          ],
          [
           "Roland Nilsson"
          ],
          [
           "Ken Araoka"
          ],
          [
           "Getulio Marcasini"
          ],
          [
           "Andre Pogolotti"
          ],
          [
           "Kevin Cowley"
          ],
          [
           "L. Habbiche"
          ],
          [
           "Peter Jones"
          ],
          [
           "Leigh Notman"
          ],
          [
           "Mike Evans"
          ],
          [
           "Jerome Van Halter"
          ],
          [
           "Paolo Isnardi"
          ],
          [
           "Bo Brolin"
          ],
          [
           "Graham Bailey"
          ],
          [
           "Dave Hughes"
          ],
          [
           "Reinhard Hiller"
          ],
          [
           "Remy Hirschy"
          ],
          [
           "Ken Redfern"
          ],
          [
           "Aramir Brito"
          ],
          [
           "E. Borisenko"
          ],
          [
           "Bela Godany"
          ],
          [
           "L. Uhlig"
          ],
          [
           "Reiner Richter"
          ],
          [
           "Bert Mijland"
          ],
          [
           "H. Kroismayr"
          ],
          [
           "P. Seljak"
          ],
          [
           "A. Bertholet"
          ],
          [
           "V. Haeltert"
          ],
          [
           "F. Camillieri"
          ],
          [
           "Giovanni Burlando"
          ],
          [
           "Ian McGregor"
          ],
          [
           "Rudy Allison"
          ],
          [
           "Massimo Genevini"
          ],
          [
           "Angelo Marelli"
          ],
          [
           "Kurt Knopf"
          ],
          [
           "Sigfried Wünsche"
          ],
          [
           "J. Lloyd"
          ],
          [
           "Lanfranco Baviera"
          ],
          [
           "G. Julian"
          ],
          [
           "Wolfgang Brandt"
          ],
          [
           "C. Paragues"
          ],
          [
           "A. McAlpine"
          ],
          [
           "Ken Harwood"
          ],
          [
           "Roberto Teneggi"
          ],
          [
           "H.A. Pearce"
          ],
          [
           "J. Albisser"
          ],
          [
           "A.W. Jones"
          ],
          [
           "S.A. Willis"
          ],
          [
           "Juan Bertran"
          ],
          [
           "V. Corsin"
          ],
          [
           "Ray Petty"
          ],
          [
           "P.B. Fahey"
          ],
          [
           "Renato Sartori"
          ],
          [
           "E. Cope"
          ],
          [
           "Maurice Bula"
          ],
          [
           "Roland Heck"
          ],
          [
           "Jean Pierre Bayle"
          ],
          [
           "Kees Koster"
          ],
          [
           "Jiri Kostir"
          ],
          [
           "R.W. Herron"
          ],
          [
           "Orlando Valdinoci"
          ],
          [
           "Rudolf Grimas"
          ],
          [
           "Erhart Krumpholz"
          ],
          [
           "K. Pertrusche"
          ],
          [
           "Ricky Porter"
          ],
          [
           "Maurice Quincey"
          ],
          [
           "Ernst Riedelbauch"
          ],
          [
           "John Storr"
          ],
          [
           "Robin Sherry"
          ],
          [
           "Beny Rood"
          ],
          [
           "John Lawley"
          ],
          [
           "Len Bayliss"
          ],
          [
           "Umberto Plebani"
          ],
          [
           "A. Burton"
          ],
          [
           "Wilf Billington"
          ],
          [
           "Onorato Francone"
          ],
          [
           "Claudio Belotti"
          ],
          [
           "Gijs Lagervey"
          ],
          [
           "Felice Benasedo"
          ],
          [
           "Harry Hinton"
          ],
          [
           "Roger Montane"
          ],
          [
           "Douglas Beasley"
          ],
          [
           "G.A. Reeve"
          ],
          [
           "F. Fry"
          ],
          [
           "Oscar Clemencigh"
          ],
          [
           "Celeste Cavaciuti"
          ],
          [
           "S.A. Sørensen"
          ],
          [
           "Bruno Bertacchini"
          ],
          [
           "Emilio Soprani"
          ],
          [
           "Vaclav Parus"
          ],
          [
           "Herman Gablenz"
          ],
          [
           "Werner Gerber"
          ],
          [
           "Hans Thorn-Prikker"
          ],
          [
           "Roland Felgenheier"
          ],
          [
           "Sijbren Postma"
          ],
          [
           "Frank Burman"
          ],
          [
           "George Brown"
          ],
          [
           "Otello Spadoni"
          ],
          [
           "Guido Paciocca"
          ],
          [
           "Simon Sandys-Winsch"
          ],
          [
           "Willy Lips"
          ],
          [
           "V. Perry"
          ],
          [
           "Juan Llobet"
          ],
          [
           "Phillip McCallen"
          ],
          [
           "L. Fassl"
          ],
          [
           "P. Fuhrer"
          ],
          [
           "J. Raffeld"
          ],
          [
           "F. Aranda"
          ],
          [
           "Sandro Artusi"
          ],
          [
           "R. Thomson"
          ],
          [
           "Brian Purslow"
          ],
          [
           "Morry Low"
          ],
          [
           "Ray Beaumont"
          ],
          [
           "Dieter Krumpholz"
          ],
          [
           "Wolfgang Gast"
          ],
          [
           "Albert Beirle"
          ],
          [
           "Clive Hunt"
          ],
          [
           "Lee Allen"
          ],
          [
           "Floyd Brown"
          ],
          [
           "Karaber Samardjian"
          ],
          [
           "Ed Labelle"
          ],
          [
           "Horacio Maffia"
          ],
          [
           "Alberto Gomez"
          ],
          [
           "Ivan Schuman"
          ],
          [
           "Pavel Stavicek"
          ],
          [
           "William-A Smith"
          ],
          [
           "Chris Anderson"
          ],
          [
           "Len Ireland"
          ],
          [
           "Jouko Ryhanen"
          ],
          [
           "D. Lloyd"
          ],
          [
           "Neil Hodgson Hodgins"
          ],
          [
           "Arthur Fegbli"
          ],
          [
           "Rudolf Schmälze"
          ],
          [
           "Rolf Schmid"
          ],
          [
           "Andrea Georgeades"
          ],
          [
           "L. Roth"
          ],
          [
           "P.G. Inchley"
          ],
          [
           "Leonard Atlee"
          ],
          [
           "Oswald Dittrich"
          ],
          [
           "Jeff Mawby"
          ],
          [
           "D. Loyd"
          ],
          [
           "Joachim Leitert"
          ],
          [
           "Les Griffiths"
          ],
          [
           "Don Williams"
          ],
          [
           "Haruo Koshino"
          ],
          [
           "Joe Tate"
          ],
          [
           "Rick Schell"
          ],
          [
           "John Buckner"
          ],
          [
           "John Kidson"
          ],
          [
           "Horoshi Hasegawa"
          ],
          [
           "J. Acosta"
          ],
          [
           "A. Huber"
          ],
          [
           "Peter Chatterton"
          ],
          [
           "Fritz Messerli"
          ],
          [
           "S. Perkins"
          ],
          [
           "Trevor Farnsworth"
          ],
          [
           "Antonie Paba"
          ],
          [
           "Rudolf Glaeser"
          ],
          [
           "Karl Kronmueller"
          ],
          [
           "D.T. Powell"
          ],
          [
           "F. Villavelran"
          ],
          [
           "Andrew Duke"
          ],
          [
           "A. Vezzalini"
          ],
          [
           "Wilhem Lecke"
          ],
          [
           "Xaver Heiss"
          ],
          [
           "G.A. Catlin"
          ],
          [
           "J.D. Anderson"
          ],
          [
           "Adelmo Mandolini"
          ],
          [
           "G. Costa"
          ],
          [
           "John Lothar"
          ],
          [
           "Tom Thorp"
          ],
          [
           "Peter Pawson"
          ],
          [
           "Pedro Rosenthal"
          ],
          [
           "Marzilio Chizzini"
          ],
          [
           "Limberg Moreira"
          ],
          [
           "M. Dietrich"
          ],
          [
           "Jorge Terengo"
          ],
          [
           "Rudolph Kaiser"
          ],
          [
           "Jukka Petaja"
          ],
          [
           "T. Lego"
          ],
          [
           "Campbell Donaghy"
          ],
          [
           "Ray Spence"
          ],
          [
           "Brian Setchell"
          ],
          [
           "F. Soler"
          ],
          [
           "S. Pomesano"
          ],
          [
           "Paolo Gamberini"
          ],
          [
           "Ellis Boyce"
          ],
          [
           "CH Huguet"
          ],
          [
           "R. Thiele"
          ],
          [
           "Leandro Panades"
          ],
          [
           "Rudy Mulder"
          ],
          [
           "Raul Loscos"
          ],
          [
           "Gaston Ruaben"
          ],
          [
           "Damian Pereyra"
          ],
          [
           "Benjamin Weiss"
          ],
          [
           "Christian Kellner"
          ],
          [
           "Peter Den Heyer"
          ],
          [
           "Bas Den Breejen"
          ],
          [
           "Fank Van Zutphen"
          ],
          [
           "Yau Chuen Tang"
          ],
          [
           "Cristian Caliumi"
          ],
          [
           "Markus Gemperle"
          ],
          [
           "Francisco Padro"
          ],
          [
           "Jose Dubon"
          ],
          [
           "Ramón Mesa"
          ],
          [
           "Brian Morrison"
          ],
          [
           "Masayuki Azami"
          ],
          [
           "Alexander Folger"
          ],
          [
           "Petrus Canisius"
          ],
          [
           "Tetsu Ito"
          ],
          [
           "Johann Wolfsteiner"
          ],
          [
           "Naoto Ogura"
          ],
          [
           "Paholayuth Kalachan"
          ],
          [
           "Chao Chee Hou"
          ],
          [
           "Jason Van Vliet"
          ],
          [
           "Andrew Willy"
          ],
          [
           "Fernando Flores"
          ],
          [
           "Francisco Riquelme"
          ],
          [
           "Richard Haidegger"
          ],
          [
           "Ahmed Jayadi"
          ],
          [
           "Chris Palmer"
          ],
          [
           "Michael Schulten"
          ],
          [
           "Gilbert De Rover"
          ],
          [
           "Gilles Ferstler"
          ],
          [
           "Mokoto Ono"
          ],
          [
           "Shinichi Sugaya"
          ],
          [
           "Kensuke Haga"
          ],
          [
           "Masaki Morikane"
          ],
          [
           "Martin Craggill"
          ],
          [
           "Toshiaki Ozawa"
          ],
          [
           "Oliver Kohlinger"
          ],
          [
           "Martin Paetzold"
          ],
          [
           "Mike Wilson"
          ],
          [
           "W. Catania"
          ],
          [
           "S. Prein"
          ],
          [
           "Attila Szabo"
          ],
          [
           "Tibor Kis"
          ],
          [
           "Fokko Kuiper"
          ],
          [
           "Javier Rodriguez"
          ],
          [
           "Manie Maritz"
          ],
          [
           "Armando Narduzzi"
          ],
          [
           "Malcolm Yeo"
          ],
          [
           "Andrew Thompson"
          ],
          [
           "Keiji Ohishi"
          ],
          [
           "Ken Ohashi"
          ],
          [
           "Steve Hislop"
          ],
          [
           "Mike Sullivan"
          ],
          [
           "Gavin Ramsay"
          ],
          [
           "Brendon Crookes"
          ],
          [
           "Nestor Amoroso"
          ],
          [
           "Kunihiro Amano"
          ],
          [
           "Kevin Murray"
          ],
          [
           "Takahito Mori"
          ],
          [
           "Michael Liedl"
          ],
          [
           "Nick Hopkins"
          ],
          [
           "Sebastian Scarnato"
          ],
          [
           "Ermanno Bastianini"
          ],
          [
           "Juanlino Kirindongo"
          ],
          [
           "Scott Doohan"
          ],
          [
           "Jehan D'Orgeix"
          ],
          [
           "Marek Moravek"
          ],
          [
           "Kevin Mawdsley"
          ],
          [
           "Claudio Tonnini"
          ],
          [
           "Ron Reniers"
          ],
          [
           "Alexander Schaden"
          ],
          [
           "Aki Ajo"
          ],
          [
           "José Luís Rabadan"
          ],
          [
           "Jun Inageda"
          ],
          [
           "Walter Tortoroglio"
          ],
          [
           "P. Van Niel"
          ],
          [
           "Roger Harrison"
          ],
          [
           "Bruno Vecchioni"
          ],
          [
           "Decha Krisart"
          ],
          [
           "Leandro Giuggia"
          ],
          [
           "Beaumont Levy"
          ],
          [
           "Michael Teniswood"
          ],
          [
           "Dennis Charlett"
          ],
          [
           "Kevin Curtain"
          ],
          [
           "Cristian Magnani"
          ],
          [
           "Jason Davis"
          ],
          [
           "Kenny Tibble"
          ],
          [
           "Arno Visscher"
          ],
          [
           "Victor Carrasco"
          ],
          [
           "Mike Lougassi"
          ],
          [
           "Herve Louiset"
          ],
          [
           "Naohiro Negishi"
          ],
          [
           "Minoru Nakamura"
          ],
          [
           "Gary Haslam"
          ],
          [
           "Andreas Göbel"
          ],
          [
           "Ken Eguchi"
          ],
          [
           "Xavier Herouin"
          ],
          [
           "Takayuki Onodera"
          ],
          [
           "Michael Garcia"
          ],
          [
           "Tomas Miksovsky"
          ],
          [
           "Norman Rank"
          ],
          [
           "Rene Knoefler"
          ],
          [
           "Michale Herzberg"
          ],
          [
           "Julien Enjolras"
          ],
          [
           "Tom Ouvrard"
          ],
          [
           "Achim Kariger"
          ],
          [
           "Guillaume Dietrich"
          ],
          [
           "Herve Mora"
          ],
          [
           "Damaso Nacher"
          ],
          [
           "Jonathan Van Vuuren"
          ],
          [
           "Yoshinori Korogi"
          ],
          [
           "Laszlo Bancsiki"
          ],
          [
           "Michael Witzeneder"
          ],
          [
           "Kazuhiro Kubo"
          ],
          [
           "M. Meganathan"
          ],
          [
           "Bernd Holzleitner"
          ],
          [
           "Callum Ramsay"
          ],
          [
           "Simon Weeks"
          ],
          [
           "William Strugnell"
          ],
          [
           "Rudi Arianto"
          ],
          [
           "Joan Montero"
          ],
          [
           "David Guardiola"
          ],
          [
           "Emanuel Buchner"
          ],
          [
           "Gary May"
          ],
          [
           "Eraldo Tome"
          ],
          [
           "Michael Clunie"
          ],
          [
           "Carlos Medeiros"
          ],
          [
           "Adilson Zaccari"
          ],
          [
           "Stefan Kruse"
          ],
          [
           "Juergen Lingg"
          ],
          [
           "Patrick Detot"
          ],
          [
           "Benny Jerzenbeck"
          ],
          [
           "Frederic Boutin"
          ],
          [
           "Ben Reid"
          ],
          [
           "Hayden Bool"
          ],
          [
           "Direk Archewong"
          ],
          [
           "Bohuslav Seifert"
          ],
          [
           "Silvio Cesar Zequim"
          ],
          [
           "Gabriel Borgmann"
          ],
          [
           "Diego Ruaben"
          ],
          [
           "Woolsey Coulter"
          ],
          [
           "Juan Pablo Gianini"
          ],
          [
           "Alessandro Romagnoli"
          ],
          [
           "Craig Frederickson"
          ],
          [
           "Michal Brezina"
          ],
          [
           "James Armstrong"
          ],
          [
           "Oliver Perschke"
          ],
          [
           "Adrian Schmidt"
          ],
          [
           "David Mateer"
          ],
          [
           "Franck Poulle"
          ],
          [
           "Agustin Escobar"
          ],
          [
           "Takashi Akita"
          ],
          [
           "Nobuyuki Osaki"
          ],
          [
           "Rick Kirk"
          ],
          [
           "Nick Lenatsch"
          ],
          [
           "Tony Sims"
          ],
          [
           "J.P. Magnoni"
          ],
          [
           "R. Oosting"
          ],
          [
           "R. Reneir"
          ],
          [
           "M. Van Soest"
          ],
          [
           "Rinus Van Kasteren"
          ],
          [
           "M. Servadio"
          ],
          [
           "A. Faccioli"
          ],
          [
           "E. Elias"
          ],
          [
           "Dieter Heinen"
          ],
          [
           "G. Boehl"
          ],
          [
           "John Woodley"
          ],
          [
           "Guy Cooremans"
          ],
          [
           "Jacky Matagne"
          ],
          [
           "Jodef Hage"
          ],
          [
           "Benny Janssen"
          ],
          [
           "B. Wilbers"
          ],
          [
           "S. Monreale"
          ],
          [
           "H. Tomic"
          ],
          [
           "J. Genoud"
          ],
          [
           "J. Mira"
          ],
          [
           "Thomas Pedersen"
          ],
          [
           "Dave Estment"
          ],
          [
           "Anders Anderson"
          ],
          [
           "Andy Watts"
          ],
          [
           "George Looijesteyn"
          ],
          [
           "Chris Fisher"
          ],
          [
           "Bruno Luscher"
          ],
          [
           "Patrick Lagrive"
          ],
          [
           "M. Mordenti"
          ],
          [
           "K. Kull"
          ],
          [
           "R. Eskelinen"
          ],
          [
           "D. Priori"
          ],
          [
           "H. Lichtenberg"
          ],
          [
           "F. Cerdera"
          ],
          [
           "Michele Ettore"
          ],
          [
           "M. Musco"
          ],
          [
           "H. Engelhardt"
          ],
          [
           "A. Jeva"
          ],
          [
           "Daniel Corvi"
          ],
          [
           "Ken Fisher"
          ],
          [
           "S. McClements"
          ],
          [
           "Franz Rau"
          ],
          [
           "Michael Schmid"
          ],
          [
           "Franz Heller"
          ],
          [
           "Steve Wright"
          ],
          [
           "B. Stopp"
          ],
          [
           "P. Cecchini"
          ],
          [
           "Dennis Casement"
          ],
          [
           "Auno Hakala"
          ],
          [
           "C. Bellon"
          ],
          [
           "Werner Schmied"
          ],
          [
           "Yves Le Tourmelin"
          ],
          [
           "Jean Claude Hogrel"
          ],
          [
           "G. Schwemmer"
          ],
          [
           "K. Gotesson"
          ],
          [
           "J. Svensson"
          ],
          [
           "M. Arias"
          ],
          [
           "P. Mezerhane"
          ],
          [
           "R. Tausani"
          ],
          [
           "Ray Quincey"
          ],
          [
           "Masahiro Wada"
          ],
          [
           "Luciano Schiavone"
          ],
          [
           "Ricardo Russo"
          ],
          [
           "Victor Leon"
          ],
          [
           "T. Henter"
          ],
          [
           "A. Piccioni"
          ],
          [
           "Steve Manship"
          ],
          [
           "Alan Stewart"
          ],
          [
           "Paolo Cipriani"
          ],
          [
           "M. Corradini"
          ],
          [
           "Vanes Francini"
          ],
          [
           "D. Boulom"
          ],
          [
           "Vinicio Salmi"
          ],
          [
           "Akihiko Kiyohara"
          ],
          [
           "Christian Parzer"
          ],
          [
           "Rafael Olavarria"
          ],
          [
           "Rino Pretelli"
          ],
          [
           "Michel Escudier"
          ],
          [
           "Giuliano Tabanelli"
          ],
          [
           "Jamie Lodge"
          ],
          [
           "Steve Brouggy"
          ],
          [
           "Torbjorn Bastiansen"
          ],
          [
           "Rob Orme"
          ],
          [
           "Othmar Schuler"
          ],
          [
           "F. Beck"
          ],
          [
           "A. Berghammer"
          ],
          [
           "Klaus-Dieter Kindle"
          ],
          [
           "Ricard Jove"
          ],
          [
           "Michael Brown"
          ],
          [
           "Yukio Nukumi"
          ],
          [
           "Ian Saunders"
          ],
          [
           "Brent Jones"
          ],
          [
           "Roy Leslie"
          ],
          [
           "Kazunari Wada"
          ],
          [
           "Kazuja Yamada"
          ],
          [
           "Kazuaki Yamashita"
          ],
          [
           "Kenichi Yoshida"
          ],
          [
           "Arpad Harmati"
          ],
          [
           "Akio Mitoma"
          ],
          [
           "Cees Besseling"
          ],
          [
           "David Mayne"
          ],
          [
           "Scott Buckley"
          ],
          [
           "Warren Palesy"
          ],
          [
           "Hideaki Ueno"
          ],
          [
           "Yoshomasa Kato"
          ],
          [
           "Takehiko Kurokawa"
          ],
          [
           "Tasuro Arata"
          ],
          [
           "Steve Spray"
          ],
          [
           "Peter McFayden"
          ],
          [
           "Yoshifumi Ichimiya"
          ],
          [
           "Terry Paviell"
          ],
          [
           "David Evelyn"
          ],
          [
           "Ricky Rice"
          ],
          [
           "Trevor Manley"
          ],
          [
           "Daniel Coe"
          ],
          [
           "Fuyuki Yamazaki"
          ],
          [
           "Yukiho Hinokio"
          ],
          [
           "Junya Arai"
          ],
          [
           "Michael Dowson"
          ],
          [
           "Gilles Riva"
          ],
          [
           "Alain Kempener"
          ],
          [
           "Takayoshi Yamamoto"
          ],
          [
           "Takumi Ito"
          ],
          [
           "Eric Gijsel"
          ],
          [
           "Dietmar Mayer"
          ],
          [
           "Jan Eggens"
          ],
          [
           "Patrick Daudier"
          ],
          [
           "Peter Sommer"
          ],
          [
           "Dave Griffith"
          ],
          [
           "Malcolm Campbell"
          ],
          [
           "Paul Ramon"
          ],
          [
           "Mark Phillips"
          ],
          [
           "Gerard Van Der Wal"
          ],
          [
           "Ernst Himmelsbach"
          ],
          [
           "Juan Esteve"
          ],
          [
           "Vincenzo Sblendorio"
          ],
          [
           "Michael McGarrity"
          ],
          [
           "Toshihiro Wakayama"
          ],
          [
           "Wilhelm Horhager"
          ],
          [
           "Zdravko Leljak"
          ],
          [
           "Brane Rokavec"
          ],
          [
           "Ari Rämö"
          ],
          [
           "Pavol Dekanek"
          ],
          [
           "Jean-Luc Demierre"
          ],
          [
           "Silvo Habat"
          ],
          [
           "Johan Ten Napel"
          ],
          [
           "Hermann Holder"
          ],
          [
           "Cyril Julian"
          ],
          [
           "Jorge Cabanes"
          ],
          [
           "Randy Renfrow"
          ],
          [
           "Hideshi Tomita"
          ],
          [
           "Youichi Yamamoto"
          ],
          [
           "Seigo Kikuchi"
          ],
          [
           "Lionel Robert"
          ],
          [
           "Stefano Bianchi"
          ],
          [
           "Andy Machin"
          ],
          [
           "David Alonso"
          ]
         ],
         "hovertemplate": "starts=%{y}<br>rider_full_name=%{customdata[0]}<extra></extra>",
         "legendgroup": "",
         "marker": {
          "color": "#636efa"
         },
         "name": "",
         "notched": false,
         "offsetgroup": "",
         "orientation": "v",
         "showlegend": false,
         "type": "box",
         "x0": " ",
         "xaxis": "x",
         "y": [
          406,
          320,
          307,
          294,
          290,
          285,
          284,
          278,
          267,
          261,
          258,
          248,
          245,
          238,
          237,
          236,
          231,
          231,
          228,
          223,
          222,
          221,
          221,
          220,
          220,
          220,
          215,
          213,
          205,
          203,
          200,
          196,
          194,
          194,
          192,
          192,
          190,
          189,
          187,
          186,
          180,
          176,
          175,
          172,
          172,
          170,
          167,
          167,
          166,
          165,
          165,
          165,
          163,
          162,
          162,
          159,
          156,
          156,
          155,
          154,
          154,
          153,
          150,
          150,
          149,
          149,
          147,
          146,
          146,
          146,
          146,
          146,
          145,
          144,
          140,
          139,
          139,
          138,
          138,
          137,
          136,
          136,
          134,
          134,
          133,
          133,
          132,
          132,
          131,
          131,
          131,
          130,
          129,
          126,
          126,
          125,
          125,
          125,
          123,
          123,
          123,
          122,
          121,
          121,
          121,
          120,
          120,
          119,
          119,
          119,
          118,
          116,
          116,
          115,
          115,
          115,
          115,
          114,
          113,
          113,
          113,
          113,
          112,
          112,
          111,
          111,
          111,
          110,
          110,
          110,
          109,
          109,
          108,
          108,
          108,
          107,
          106,
          106,
          106,
          106,
          106,
          106,
          105,
          105,
          105,
          105,
          105,
          104,
          104,
          103,
          103,
          102,
          102,
          102,
          102,
          102,
          102,
          102,
          101,
          101,
          100,
          100,
          100,
          99,
          99,
          99,
          98,
          98,
          98,
          97,
          97,
          96,
          96,
          95,
          95,
          94,
          94,
          94,
          93,
          93,
          92,
          92,
          90,
          90,
          90,
          90,
          90,
          90,
          90,
          89,
          88,
          88,
          87,
          86,
          85,
          85,
          85,
          85,
          85,
          85,
          84,
          84,
          84,
          84,
          84,
          83,
          83,
          83,
          82,
          81,
          79,
          78,
          78,
          77,
          77,
          77,
          77,
          77,
          77,
          77,
          76,
          76,
          75,
          75,
          74,
          74,
          74,
          73,
          73,
          72,
          72,
          72,
          72,
          72,
          72,
          72,
          71,
          71,
          71,
          71,
          71,
          70,
          70,
          70,
          70,
          69,
          69,
          68,
          68,
          67,
          67,
          67,
          67,
          66,
          66,
          66,
          66,
          66,
          65,
          65,
          65,
          65,
          64,
          64,
          64,
          64,
          64,
          63,
          63,
          62,
          62,
          62,
          62,
          62,
          62,
          62,
          61,
          61,
          61,
          60,
          60,
          60,
          60,
          60,
          60,
          60,
          59,
          59,
          59,
          59,
          59,
          58,
          58,
          58,
          58,
          58,
          57,
          56,
          56,
          56,
          56,
          56,
          56,
          55,
          55,
          55,
          55,
          55,
          55,
          54,
          54,
          54,
          54,
          54,
          54,
          54,
          54,
          54,
          54,
          54,
          54,
          53,
          53,
          53,
          53,
          53,
          52,
          52,
          52,
          51,
          51,
          51,
          51,
          51,
          50,
          50,
          50,
          50,
          50,
          49,
          49,
          49,
          49,
          48,
          48,
          48,
          48,
          48,
          48,
          48,
          48,
          47,
          47,
          47,
          47,
          47,
          47,
          47,
          46,
          46,
          46,
          46,
          46,
          46,
          46,
          46,
          46,
          46,
          45,
          45,
          45,
          45,
          45,
          45,
          45,
          45,
          45,
          44,
          44,
          44,
          44,
          44,
          44,
          44,
          43,
          43,
          43,
          43,
          43,
          43,
          43,
          43,
          43,
          43,
          43,
          43,
          42,
          42,
          42,
          42,
          42,
          42,
          42,
          42,
          41,
          41,
          41,
          41,
          40,
          40,
          40,
          40,
          40,
          39,
          39,
          38,
          38,
          38,
          38,
          38,
          38,
          38,
          37,
          37,
          37,
          37,
          37,
          37,
          37,
          37,
          37,
          37,
          37,
          37,
          37,
          37,
          36,
          36,
          36,
          36,
          36,
          36,
          36,
          36,
          36,
          35,
          35,
          35,
          35,
          35,
          35,
          35,
          35,
          35,
          35,
          35,
          34,
          34,
          34,
          34,
          34,
          34,
          34,
          34,
          34,
          33,
          33,
          33,
          33,
          33,
          33,
          33,
          33,
          33,
          33,
          33,
          33,
          33,
          33,
          33,
          32,
          32,
          32,
          32,
          32,
          32,
          32,
          32,
          32,
          32,
          32,
          32,
          32,
          31,
          31,
          31,
          31,
          31,
          31,
          31,
          31,
          31,
          31,
          31,
          30,
          30,
          30,
          30,
          30,
          30,
          30,
          30,
          30,
          29,
          29,
          29,
          29,
          29,
          29,
          29,
          29,
          29,
          29,
          28,
          28,
          28,
          28,
          28,
          28,
          28,
          28,
          28,
          28,
          28,
          27,
          27,
          27,
          27,
          27,
          27,
          27,
          27,
          27,
          27,
          27,
          27,
          26,
          26,
          26,
          26,
          26,
          26,
          26,
          26,
          26,
          26,
          26,
          26,
          26,
          26,
          26,
          26,
          26,
          25,
          25,
          25,
          25,
          25,
          25,
          25,
          25,
          25,
          25,
          25,
          25,
          25,
          25,
          25,
          25,
          24,
          24,
          24,
          24,
          24,
          24,
          24,
          24,
          24,
          24,
          24,
          24,
          24,
          24,
          24,
          24,
          24,
          24,
          23,
          23,
          23,
          23,
          23,
          23,
          23,
          23,
          23,
          23,
          23,
          23,
          23,
          23,
          22,
          22,
          22,
          22,
          22,
          22,
          22,
          22,
          22,
          22,
          22,
          22,
          22,
          22,
          21,
          21,
          21,
          21,
          21,
          21,
          21,
          21,
          21,
          21,
          21,
          21,
          21,
          21,
          21,
          21,
          21,
          21,
          21,
          21,
          21,
          21,
          20,
          20,
          20,
          20,
          20,
          20,
          20,
          20,
          20,
          20,
          20,
          20,
          20,
          20,
          20,
          20,
          20,
          20,
          19,
          19,
          19,
          19,
          19,
          19,
          19,
          19,
          19,
          19,
          19,
          19,
          19,
          19,
          19,
          19,
          19,
          19,
          19,
          19,
          19,
          19,
          19,
          18,
          18,
          18,
          18,
          18,
          18,
          18,
          18,
          18,
          18,
          18,
          18,
          18,
          18,
          18,
          18,
          18,
          18,
          18,
          18,
          18,
          18,
          18,
          18,
          17,
          17,
          17,
          17,
          17,
          17,
          17,
          17,
          17,
          17,
          17,
          17,
          17,
          17,
          17,
          17,
          17,
          17,
          17,
          17,
          17,
          17,
          17,
          16,
          16,
          16,
          16,
          16,
          16,
          16,
          16,
          16,
          16,
          16,
          16,
          16,
          16,
          16,
          16,
          16,
          16,
          16,
          16,
          16,
          16,
          16,
          16,
          16,
          16,
          16,
          16,
          15,
          15,
          15,
          15,
          15,
          15,
          15,
          15,
          15,
          15,
          15,
          15,
          15,
          15,
          15,
          15,
          15,
          15,
          15,
          15,
          15,
          15,
          15,
          15,
          15,
          15,
          15,
          15,
          15,
          15,
          14,
          14,
          14,
          14,
          14,
          14,
          14,
          14,
          14,
          14,
          14,
          14,
          14,
          14,
          14,
          14,
          14,
          14,
          14,
          14,
          14,
          14,
          14,
          14,
          13,
          13,
          13,
          13,
          13,
          13,
          13,
          13,
          13,
          13,
          13,
          13,
          13,
          13,
          13,
          13,
          13,
          13,
          13,
          13,
          13,
          13,
          13,
          13,
          13,
          13,
          13,
          13,
          13,
          12,
          12,
          12,
          12,
          12,
          12,
          12,
          12,
          12,
          12,
          12,
          12,
          12,
          12,
          12,
          12,
          12,
          12,
          12,
          12,
          12,
          12,
          12,
          12,
          12,
          12,
          12,
          12,
          12,
          12,
          12,
          12,
          12,
          12,
          12,
          12,
          12,
          12,
          12,
          12,
          11,
          11,
          11,
          11,
          11,
          11,
          11,
          11,
          11,
          11,
          11,
          11,
          11,
          11,
          11,
          11,
          11,
          11,
          11,
          11,
          11,
          11,
          11,
          11,
          11,
          11,
          11,
          11,
          11,
          11,
          11,
          11,
          11,
          11,
          11,
          11,
          11,
          11,
          10,
          10,
          10,
          10,
          10,
          10,
          10,
          10,
          10,
          10,
          10,
          10,
          10,
          10,
          10,
          10,
          10,
          10,
          10,
          10,
          10,
          10,
          10,
          10,
          10,
          10,
          10,
          10,
          10,
          10,
          10,
          10,
          10,
          10,
          10,
          10,
          10,
          10,
          10,
          10,
          10,
          10,
          10,
          9,
          9,
          9,
          9,
          9,
          9,
          9,
          9,
          9,
          9,
          9,
          9,
          9,
          9,
          9,
          9,
          9,
          9,
          9,
          9,
          9,
          9,
          9,
          9,
          9,
          9,
          9,
          9,
          9,
          9,
          9,
          9,
          9,
          9,
          9,
          9,
          9,
          9,
          9,
          9,
          9,
          9,
          9,
          9,
          9,
          9,
          9,
          9,
          8,
          8,
          8,
          8,
          8,
          8,
          8,
          8,
          8,
          8,
          8,
          8,
          8,
          8,
          8,
          8,
          8,
          8,
          8,
          8,
          8,
          8,
          8,
          8,
          8,
          8,
          8,
          8,
          8,
          8,
          8,
          8,
          8,
          8,
          8,
          8,
          8,
          8,
          7,
          7,
          7,
          7,
          7,
          7,
          7,
          7,
          7,
          7,
          7,
          7,
          7,
          7,
          7,
          7,
          7,
          7,
          7,
          7,
          7,
          7,
          7,
          7,
          7,
          7,
          7,
          7,
          7,
          7,
          7,
          7,
          7,
          7,
          7,
          7,
          7,
          7,
          7,
          7,
          7,
          7,
          7,
          7,
          7,
          7,
          7,
          7,
          7,
          7,
          7,
          7,
          7,
          6,
          6,
          6,
          6,
          6,
          6,
          6,
          6,
          6,
          6,
          6,
          6,
          6,
          6,
          6,
          6,
          6,
          6,
          6,
          6,
          6,
          6,
          6,
          6,
          6,
          6,
          6,
          6,
          6,
          6,
          6,
          6,
          6,
          6,
          6,
          6,
          6,
          6,
          6,
          6,
          6,
          6,
          6,
          6,
          6,
          6,
          6,
          6,
          6,
          6,
          6,
          6,
          6,
          5,
          5,
          5,
          5,
          5,
          5,
          5,
          5,
          5,
          5,
          5,
          5,
          5,
          5,
          5,
          5,
          5,
          5,
          5,
          5,
          5,
          5,
          5,
          5,
          5,
          5,
          5,
          5,
          5,
          5,
          5,
          5,
          5,
          5,
          5,
          5,
          5,
          5,
          5,
          5,
          5,
          5,
          5,
          5,
          5,
          5,
          5,
          5,
          5,
          5,
          5,
          5,
          5,
          5,
          5,
          5,
          5,
          5,
          5,
          5,
          5,
          5,
          5,
          5,
          5,
          5,
          5,
          5,
          5,
          5,
          5,
          5,
          5,
          5,
          5,
          5,
          5,
          5,
          5,
          5,
          5,
          5,
          5,
          5,
          5,
          5,
          5,
          5,
          5,
          4,
          4,
          4,
          4,
          4,
          4,
          4,
          4,
          4,
          4,
          4,
          4,
          4,
          4,
          4,
          4,
          4,
          4,
          4,
          4,
          4,
          4,
          4,
          4,
          4,
          4,
          4,
          4,
          4,
          4,
          4,
          4,
          4,
          4,
          4,
          4,
          4,
          4,
          4,
          4,
          4,
          4,
          4,
          4,
          4,
          4,
          4,
          4,
          4,
          4,
          4,
          4,
          4,
          4,
          4,
          4,
          4,
          4,
          4,
          4,
          4,
          4,
          4,
          4,
          4,
          4,
          4,
          4,
          4,
          4,
          4,
          4,
          4,
          4,
          4,
          4,
          4,
          4,
          4,
          4,
          4,
          4,
          4,
          4,
          4,
          4,
          4,
          4,
          4,
          4,
          4,
          4,
          4,
          4,
          4,
          4,
          4,
          4,
          4,
          4,
          4,
          4,
          4,
          4,
          4,
          4,
          4,
          4,
          4,
          4,
          4,
          4,
          4,
          4,
          4,
          4,
          4,
          4,
          4,
          4,
          4,
          4,
          4,
          4,
          4,
          3,
          3,
          3,
          3,
          3,
          3,
          3,
          3,
          3,
          3,
          3,
          3,
          3,
          3,
          3,
          3,
          3,
          3,
          3,
          3,
          3,
          3,
          3,
          3,
          3,
          3,
          3,
          3,
          3,
          3,
          3,
          3,
          3,
          3,
          3,
          3,
          3,
          3,
          3,
          3,
          3,
          3,
          3,
          3,
          3,
          3,
          3,
          3,
          3,
          3,
          3,
          3,
          3,
          3,
          3,
          3,
          3,
          3,
          3,
          3,
          3,
          3,
          3,
          3,
          3,
          3,
          3,
          3,
          3,
          3,
          3,
          3,
          3,
          3,
          3,
          3,
          3,
          3,
          3,
          3,
          3,
          3,
          3,
          3,
          3,
          3,
          3,
          3,
          3,
          3,
          3,
          3,
          3,
          3,
          3,
          3,
          3,
          3,
          3,
          3,
          3,
          3,
          3,
          3,
          3,
          3,
          3,
          3,
          3,
          3,
          3,
          3,
          3,
          3,
          3,
          3,
          3,
          3,
          3,
          3,
          3,
          3,
          3,
          3,
          3,
          3,
          3,
          3,
          3,
          3,
          3,
          3,
          3,
          3,
          3,
          3,
          3,
          3,
          3,
          3,
          3,
          3,
          3,
          3,
          3,
          3,
          3,
          3,
          3,
          3,
          3,
          3,
          3,
          3,
          3,
          3,
          3,
          3,
          3,
          3,
          3,
          3,
          3,
          3,
          3,
          3,
          3,
          3,
          3,
          3,
          3,
          3,
          3,
          3,
          3,
          3,
          3,
          3,
          3,
          3,
          3,
          3,
          3,
          2,
          2,
          2,
          2,
          2,
          2,
          2,
          2,
          2,
          2,
          2,
          2,
          2,
          2,
          2,
          2,
          2,
          2,
          2,
          2,
          2,
          2,
          2,
          2,
          2,
          2,
          2,
          2,
          2,
          2,
          2,
          2,
          2,
          2,
          2,
          2,
          2,
          2,
          2,
          2,
          2,
          2,
          2,
          2,
          2,
          2,
          2,
          2,
          2,
          2,
          2,
          2,
          2,
          2,
          2,
          2,
          2,
          2,
          2,
          2,
          2,
          2,
          2,
          2,
          2,
          2,
          2,
          2,
          2,
          2,
          2,
          2,
          2,
          2,
          2,
          2,
          2,
          2,
          2,
          2,
          2,
          2,
          2,
          2,
          2,
          2,
          2,
          2,
          2,
          2,
          2,
          2,
          2,
          2,
          2,
          2,
          2,
          2,
          2,
          2,
          2,
          2,
          2,
          2,
          2,
          2,
          2,
          2,
          2,
          2,
          2,
          2,
          2,
          2,
          2,
          2,
          2,
          2,
          2,
          2,
          2,
          2,
          2,
          2,
          2,
          2,
          2,
          2,
          2,
          2,
          2,
          2,
          2,
          2,
          2,
          2,
          2,
          2,
          2,
          2,
          2,
          2,
          2,
          2,
          2,
          2,
          2,
          2,
          2,
          2,
          2,
          2,
          2,
          2,
          2,
          2,
          2,
          2,
          2,
          2,
          2,
          2,
          2,
          2,
          2,
          2,
          2,
          2,
          2,
          2,
          2,
          2,
          2,
          2,
          2,
          2,
          2,
          2,
          2,
          2,
          2,
          2,
          2,
          2,
          2,
          2,
          2,
          2,
          2,
          2,
          2,
          2,
          2,
          2,
          2,
          2,
          2,
          2,
          2,
          2,
          2,
          2,
          2,
          2,
          2,
          2,
          2,
          2,
          2,
          2,
          2,
          2,
          2,
          2,
          2,
          2,
          2,
          2,
          2,
          2,
          2,
          2,
          2,
          2,
          2,
          2,
          2,
          2,
          2,
          2,
          2,
          2,
          2,
          2,
          2,
          2,
          2,
          2,
          2,
          2,
          2,
          2,
          2,
          2,
          2,
          2,
          2,
          2,
          2,
          2,
          2,
          2,
          2,
          2,
          2,
          2,
          2,
          2,
          2,
          2,
          2,
          2,
          2,
          2,
          2,
          2,
          2,
          2,
          2,
          2,
          2,
          2,
          2,
          2,
          2,
          2,
          2,
          2,
          2,
          2,
          2,
          2,
          2,
          2,
          2,
          2,
          2,
          2,
          2,
          2,
          2,
          2,
          2,
          2,
          2,
          2,
          2,
          2,
          2,
          2,
          2,
          2,
          2,
          2,
          2,
          2,
          2,
          2,
          2,
          2,
          2,
          2,
          2,
          2,
          2,
          2,
          2,
          2,
          2,
          2,
          2,
          2,
          2,
          2,
          2,
          1,
          1,
          1,
          1,
          1,
          1,
          1,
          1,
          1,
          1,
          1,
          1,
          1,
          1,
          1,
          1,
          1,
          1,
          1,
          1,
          1,
          1,
          1,
          1,
          1,
          1,
          1,
          1,
          1,
          1,
          1,
          1,
          1,
          1,
          1,
          1,
          1,
          1,
          1,
          1,
          1,
          1,
          1,
          1,
          1,
          1,
          1,
          1,
          1,
          1,
          1,
          1,
          1,
          1,
          1,
          1,
          1,
          1,
          1,
          1,
          1,
          1,
          1,
          1,
          1,
          1,
          1,
          1,
          1,
          1,
          1,
          1,
          1,
          1,
          1,
          1,
          1,
          1,
          1,
          1,
          1,
          1,
          1,
          1,
          1,
          1,
          1,
          1,
          1,
          1,
          1,
          1,
          1,
          1,
          1,
          1,
          1,
          1,
          1,
          1,
          1,
          1,
          1,
          1,
          1,
          1,
          1,
          1,
          1,
          1,
          1,
          1,
          1,
          1,
          1,
          1,
          1,
          1,
          1,
          1,
          1,
          1,
          1,
          1,
          1,
          1,
          1,
          1,
          1,
          1,
          1,
          1,
          1,
          1,
          1,
          1,
          1,
          1,
          1,
          1,
          1,
          1,
          1,
          1,
          1,
          1,
          1,
          1,
          1,
          1,
          1,
          1,
          1,
          1,
          1,
          1,
          1,
          1,
          1,
          1,
          1,
          1,
          1,
          1,
          1,
          1,
          1,
          1,
          1,
          1,
          1,
          1,
          1,
          1,
          1,
          1,
          1,
          1,
          1,
          1,
          1,
          1,
          1,
          1,
          1,
          1,
          1,
          1,
          1,
          1,
          1,
          1,
          1,
          1,
          1,
          1,
          1,
          1,
          1,
          1,
          1,
          1,
          1,
          1,
          1,
          1,
          1,
          1,
          1,
          1,
          1,
          1,
          1,
          1,
          1,
          1,
          1,
          1,
          1,
          1,
          1,
          1,
          1,
          1,
          1,
          1,
          1,
          1,
          1,
          1,
          1,
          1,
          1,
          1,
          1,
          1,
          1,
          1,
          1,
          1,
          1,
          1,
          1,
          1,
          1,
          1,
          1,
          1,
          1,
          1,
          1,
          1,
          1,
          1,
          1,
          1,
          1,
          1,
          1,
          1,
          1,
          1,
          1,
          1,
          1,
          1,
          1,
          1,
          1,
          1,
          1,
          1,
          1,
          1,
          1,
          1,
          1,
          1,
          1,
          1,
          1,
          1,
          1,
          1,
          1,
          1,
          1,
          1,
          1,
          1,
          1,
          1,
          1,
          1,
          1,
          1,
          1,
          1,
          1,
          1,
          1,
          1,
          1,
          1,
          1,
          1,
          1,
          1,
          1,
          1,
          1,
          1,
          1,
          1,
          1,
          1,
          1,
          1,
          1,
          1,
          1,
          1,
          1,
          1,
          1,
          1,
          1,
          1,
          1,
          1,
          1,
          1,
          1,
          1,
          1,
          1,
          1,
          1,
          1,
          1,
          1,
          1,
          1,
          1,
          1,
          1,
          1,
          1,
          1,
          1,
          1,
          1,
          1,
          1,
          1,
          1,
          1,
          1,
          1,
          1,
          1,
          1,
          1,
          1,
          1,
          1,
          1,
          1,
          1,
          1,
          1,
          1,
          1,
          1,
          1,
          1,
          1,
          1,
          1,
          1,
          1,
          1,
          1,
          1,
          1,
          1,
          1,
          1,
          1,
          1,
          1,
          1,
          1,
          1,
          1,
          1,
          1,
          1,
          1,
          1,
          1,
          1,
          1,
          1,
          1,
          1,
          1,
          1,
          1,
          1,
          1,
          1,
          1,
          1,
          1,
          1,
          1,
          1,
          1,
          1,
          1,
          1,
          1,
          1,
          1,
          1,
          1,
          1,
          1,
          1,
          1,
          1,
          1,
          1,
          1,
          1,
          1,
          1,
          1,
          1,
          1,
          1,
          1,
          1,
          1,
          1,
          1,
          1,
          1,
          1,
          1,
          1,
          1,
          1,
          1,
          1,
          1,
          1,
          1,
          1,
          1,
          1,
          1,
          1,
          1,
          1,
          1,
          1,
          1,
          1,
          1,
          1,
          1,
          1,
          1,
          1,
          1,
          1,
          1,
          1,
          1,
          1,
          1,
          1,
          1,
          1,
          1,
          1,
          1,
          1,
          1,
          1,
          1,
          1,
          1,
          1,
          1,
          1,
          1,
          1,
          1,
          1,
          1,
          1,
          1,
          1,
          1,
          1,
          1,
          1,
          1,
          1,
          1,
          1,
          1,
          1,
          1,
          1,
          1,
          1,
          1,
          1,
          1,
          1,
          1,
          1,
          1,
          1,
          1,
          1,
          1,
          1,
          1,
          1,
          1,
          1,
          1,
          1,
          1,
          1,
          1,
          1,
          1,
          1,
          1,
          1,
          1,
          1,
          1,
          1,
          1,
          1,
          1,
          1,
          1,
          1,
          1,
          1,
          1,
          1,
          1,
          1,
          1,
          1,
          1,
          1,
          1,
          1,
          1,
          1,
          1,
          1,
          1,
          1,
          1,
          1,
          1,
          1,
          1,
          1,
          1,
          1,
          1,
          1,
          1,
          1,
          1,
          1,
          1,
          1,
          1,
          1,
          1,
          1,
          1,
          1,
          1,
          1,
          1,
          1,
          1,
          1,
          1,
          1,
          1,
          1,
          1,
          1,
          1,
          1,
          1,
          1,
          1,
          1,
          1,
          1,
          1,
          1,
          1,
          1,
          1,
          1,
          1,
          1,
          1,
          1,
          1,
          1,
          1,
          1,
          1,
          1,
          1,
          1,
          1,
          1,
          1,
          1,
          1,
          1,
          1,
          1,
          1,
          1,
          1,
          1,
          1,
          1,
          1,
          1,
          1,
          1,
          1,
          1,
          1,
          1,
          1,
          1,
          1,
          1,
          1,
          1,
          1,
          1,
          1,
          1,
          1,
          1,
          1,
          1,
          1,
          1,
          1,
          1,
          1,
          1,
          1,
          1,
          1,
          1,
          1,
          1,
          1,
          1,
          1,
          1,
          1,
          1,
          1,
          1,
          1,
          1,
          1,
          1,
          1,
          1,
          1,
          1,
          1,
          1,
          1,
          1,
          1,
          1,
          1,
          1,
          1,
          1,
          1,
          1,
          1,
          1,
          1,
          1,
          1,
          1,
          1,
          1,
          1,
          1,
          1,
          1,
          1,
          1,
          1,
          1,
          1,
          1,
          1,
          1,
          1,
          1,
          1,
          1,
          1,
          1,
          1,
          1,
          1,
          1,
          1,
          1,
          1,
          1,
          1,
          1,
          1,
          1,
          1,
          1,
          1,
          1,
          1,
          1,
          1,
          1,
          1,
          1,
          1,
          1,
          1,
          1,
          1,
          1,
          1,
          1,
          1,
          1,
          1,
          1,
          1,
          1,
          1,
          1,
          1,
          1,
          1,
          1,
          1,
          1,
          1,
          1,
          1,
          1,
          1,
          1,
          1,
          1,
          1,
          1,
          1,
          1,
          1,
          1,
          1,
          1,
          1,
          1,
          1,
          1,
          1,
          1,
          1,
          1,
          1,
          1,
          1,
          1,
          1,
          1,
          1,
          1,
          1,
          1,
          1
         ],
         "y0": " ",
         "yaxis": "y"
        }
       ],
       "layout": {
        "boxmode": "group",
        "legend": {
         "tracegroupgap": 0
        },
        "margin": {
         "t": 60
        },
        "template": {
         "data": {
          "bar": [
           {
            "error_x": {
             "color": "#2a3f5f"
            },
            "error_y": {
             "color": "#2a3f5f"
            },
            "marker": {
             "line": {
              "color": "#E5ECF6",
              "width": 0.5
             },
             "pattern": {
              "fillmode": "overlay",
              "size": 10,
              "solidity": 0.2
             }
            },
            "type": "bar"
           }
          ],
          "barpolar": [
           {
            "marker": {
             "line": {
              "color": "#E5ECF6",
              "width": 0.5
             },
             "pattern": {
              "fillmode": "overlay",
              "size": 10,
              "solidity": 0.2
             }
            },
            "type": "barpolar"
           }
          ],
          "carpet": [
           {
            "aaxis": {
             "endlinecolor": "#2a3f5f",
             "gridcolor": "white",
             "linecolor": "white",
             "minorgridcolor": "white",
             "startlinecolor": "#2a3f5f"
            },
            "baxis": {
             "endlinecolor": "#2a3f5f",
             "gridcolor": "white",
             "linecolor": "white",
             "minorgridcolor": "white",
             "startlinecolor": "#2a3f5f"
            },
            "type": "carpet"
           }
          ],
          "choropleth": [
           {
            "colorbar": {
             "outlinewidth": 0,
             "ticks": ""
            },
            "type": "choropleth"
           }
          ],
          "contour": [
           {
            "colorbar": {
             "outlinewidth": 0,
             "ticks": ""
            },
            "colorscale": [
             [
              0,
              "#0d0887"
             ],
             [
              0.1111111111111111,
              "#46039f"
             ],
             [
              0.2222222222222222,
              "#7201a8"
             ],
             [
              0.3333333333333333,
              "#9c179e"
             ],
             [
              0.4444444444444444,
              "#bd3786"
             ],
             [
              0.5555555555555556,
              "#d8576b"
             ],
             [
              0.6666666666666666,
              "#ed7953"
             ],
             [
              0.7777777777777778,
              "#fb9f3a"
             ],
             [
              0.8888888888888888,
              "#fdca26"
             ],
             [
              1,
              "#f0f921"
             ]
            ],
            "type": "contour"
           }
          ],
          "contourcarpet": [
           {
            "colorbar": {
             "outlinewidth": 0,
             "ticks": ""
            },
            "type": "contourcarpet"
           }
          ],
          "heatmap": [
           {
            "colorbar": {
             "outlinewidth": 0,
             "ticks": ""
            },
            "colorscale": [
             [
              0,
              "#0d0887"
             ],
             [
              0.1111111111111111,
              "#46039f"
             ],
             [
              0.2222222222222222,
              "#7201a8"
             ],
             [
              0.3333333333333333,
              "#9c179e"
             ],
             [
              0.4444444444444444,
              "#bd3786"
             ],
             [
              0.5555555555555556,
              "#d8576b"
             ],
             [
              0.6666666666666666,
              "#ed7953"
             ],
             [
              0.7777777777777778,
              "#fb9f3a"
             ],
             [
              0.8888888888888888,
              "#fdca26"
             ],
             [
              1,
              "#f0f921"
             ]
            ],
            "type": "heatmap"
           }
          ],
          "heatmapgl": [
           {
            "colorbar": {
             "outlinewidth": 0,
             "ticks": ""
            },
            "colorscale": [
             [
              0,
              "#0d0887"
             ],
             [
              0.1111111111111111,
              "#46039f"
             ],
             [
              0.2222222222222222,
              "#7201a8"
             ],
             [
              0.3333333333333333,
              "#9c179e"
             ],
             [
              0.4444444444444444,
              "#bd3786"
             ],
             [
              0.5555555555555556,
              "#d8576b"
             ],
             [
              0.6666666666666666,
              "#ed7953"
             ],
             [
              0.7777777777777778,
              "#fb9f3a"
             ],
             [
              0.8888888888888888,
              "#fdca26"
             ],
             [
              1,
              "#f0f921"
             ]
            ],
            "type": "heatmapgl"
           }
          ],
          "histogram": [
           {
            "marker": {
             "pattern": {
              "fillmode": "overlay",
              "size": 10,
              "solidity": 0.2
             }
            },
            "type": "histogram"
           }
          ],
          "histogram2d": [
           {
            "colorbar": {
             "outlinewidth": 0,
             "ticks": ""
            },
            "colorscale": [
             [
              0,
              "#0d0887"
             ],
             [
              0.1111111111111111,
              "#46039f"
             ],
             [
              0.2222222222222222,
              "#7201a8"
             ],
             [
              0.3333333333333333,
              "#9c179e"
             ],
             [
              0.4444444444444444,
              "#bd3786"
             ],
             [
              0.5555555555555556,
              "#d8576b"
             ],
             [
              0.6666666666666666,
              "#ed7953"
             ],
             [
              0.7777777777777778,
              "#fb9f3a"
             ],
             [
              0.8888888888888888,
              "#fdca26"
             ],
             [
              1,
              "#f0f921"
             ]
            ],
            "type": "histogram2d"
           }
          ],
          "histogram2dcontour": [
           {
            "colorbar": {
             "outlinewidth": 0,
             "ticks": ""
            },
            "colorscale": [
             [
              0,
              "#0d0887"
             ],
             [
              0.1111111111111111,
              "#46039f"
             ],
             [
              0.2222222222222222,
              "#7201a8"
             ],
             [
              0.3333333333333333,
              "#9c179e"
             ],
             [
              0.4444444444444444,
              "#bd3786"
             ],
             [
              0.5555555555555556,
              "#d8576b"
             ],
             [
              0.6666666666666666,
              "#ed7953"
             ],
             [
              0.7777777777777778,
              "#fb9f3a"
             ],
             [
              0.8888888888888888,
              "#fdca26"
             ],
             [
              1,
              "#f0f921"
             ]
            ],
            "type": "histogram2dcontour"
           }
          ],
          "mesh3d": [
           {
            "colorbar": {
             "outlinewidth": 0,
             "ticks": ""
            },
            "type": "mesh3d"
           }
          ],
          "parcoords": [
           {
            "line": {
             "colorbar": {
              "outlinewidth": 0,
              "ticks": ""
             }
            },
            "type": "parcoords"
           }
          ],
          "pie": [
           {
            "automargin": true,
            "type": "pie"
           }
          ],
          "scatter": [
           {
            "fillpattern": {
             "fillmode": "overlay",
             "size": 10,
             "solidity": 0.2
            },
            "type": "scatter"
           }
          ],
          "scatter3d": [
           {
            "line": {
             "colorbar": {
              "outlinewidth": 0,
              "ticks": ""
             }
            },
            "marker": {
             "colorbar": {
              "outlinewidth": 0,
              "ticks": ""
             }
            },
            "type": "scatter3d"
           }
          ],
          "scattercarpet": [
           {
            "marker": {
             "colorbar": {
              "outlinewidth": 0,
              "ticks": ""
             }
            },
            "type": "scattercarpet"
           }
          ],
          "scattergeo": [
           {
            "marker": {
             "colorbar": {
              "outlinewidth": 0,
              "ticks": ""
             }
            },
            "type": "scattergeo"
           }
          ],
          "scattergl": [
           {
            "marker": {
             "colorbar": {
              "outlinewidth": 0,
              "ticks": ""
             }
            },
            "type": "scattergl"
           }
          ],
          "scattermapbox": [
           {
            "marker": {
             "colorbar": {
              "outlinewidth": 0,
              "ticks": ""
             }
            },
            "type": "scattermapbox"
           }
          ],
          "scatterpolar": [
           {
            "marker": {
             "colorbar": {
              "outlinewidth": 0,
              "ticks": ""
             }
            },
            "type": "scatterpolar"
           }
          ],
          "scatterpolargl": [
           {
            "marker": {
             "colorbar": {
              "outlinewidth": 0,
              "ticks": ""
             }
            },
            "type": "scatterpolargl"
           }
          ],
          "scatterternary": [
           {
            "marker": {
             "colorbar": {
              "outlinewidth": 0,
              "ticks": ""
             }
            },
            "type": "scatterternary"
           }
          ],
          "surface": [
           {
            "colorbar": {
             "outlinewidth": 0,
             "ticks": ""
            },
            "colorscale": [
             [
              0,
              "#0d0887"
             ],
             [
              0.1111111111111111,
              "#46039f"
             ],
             [
              0.2222222222222222,
              "#7201a8"
             ],
             [
              0.3333333333333333,
              "#9c179e"
             ],
             [
              0.4444444444444444,
              "#bd3786"
             ],
             [
              0.5555555555555556,
              "#d8576b"
             ],
             [
              0.6666666666666666,
              "#ed7953"
             ],
             [
              0.7777777777777778,
              "#fb9f3a"
             ],
             [
              0.8888888888888888,
              "#fdca26"
             ],
             [
              1,
              "#f0f921"
             ]
            ],
            "type": "surface"
           }
          ],
          "table": [
           {
            "cells": {
             "fill": {
              "color": "#EBF0F8"
             },
             "line": {
              "color": "white"
             }
            },
            "header": {
             "fill": {
              "color": "#C8D4E3"
             },
             "line": {
              "color": "white"
             }
            },
            "type": "table"
           }
          ]
         },
         "layout": {
          "annotationdefaults": {
           "arrowcolor": "#2a3f5f",
           "arrowhead": 0,
           "arrowwidth": 1
          },
          "autotypenumbers": "strict",
          "coloraxis": {
           "colorbar": {
            "outlinewidth": 0,
            "ticks": ""
           }
          },
          "colorscale": {
           "diverging": [
            [
             0,
             "#8e0152"
            ],
            [
             0.1,
             "#c51b7d"
            ],
            [
             0.2,
             "#de77ae"
            ],
            [
             0.3,
             "#f1b6da"
            ],
            [
             0.4,
             "#fde0ef"
            ],
            [
             0.5,
             "#f7f7f7"
            ],
            [
             0.6,
             "#e6f5d0"
            ],
            [
             0.7,
             "#b8e186"
            ],
            [
             0.8,
             "#7fbc41"
            ],
            [
             0.9,
             "#4d9221"
            ],
            [
             1,
             "#276419"
            ]
           ],
           "sequential": [
            [
             0,
             "#0d0887"
            ],
            [
             0.1111111111111111,
             "#46039f"
            ],
            [
             0.2222222222222222,
             "#7201a8"
            ],
            [
             0.3333333333333333,
             "#9c179e"
            ],
            [
             0.4444444444444444,
             "#bd3786"
            ],
            [
             0.5555555555555556,
             "#d8576b"
            ],
            [
             0.6666666666666666,
             "#ed7953"
            ],
            [
             0.7777777777777778,
             "#fb9f3a"
            ],
            [
             0.8888888888888888,
             "#fdca26"
            ],
            [
             1,
             "#f0f921"
            ]
           ],
           "sequentialminus": [
            [
             0,
             "#0d0887"
            ],
            [
             0.1111111111111111,
             "#46039f"
            ],
            [
             0.2222222222222222,
             "#7201a8"
            ],
            [
             0.3333333333333333,
             "#9c179e"
            ],
            [
             0.4444444444444444,
             "#bd3786"
            ],
            [
             0.5555555555555556,
             "#d8576b"
            ],
            [
             0.6666666666666666,
             "#ed7953"
            ],
            [
             0.7777777777777778,
             "#fb9f3a"
            ],
            [
             0.8888888888888888,
             "#fdca26"
            ],
            [
             1,
             "#f0f921"
            ]
           ]
          },
          "colorway": [
           "#636efa",
           "#EF553B",
           "#00cc96",
           "#ab63fa",
           "#FFA15A",
           "#19d3f3",
           "#FF6692",
           "#B6E880",
           "#FF97FF",
           "#FECB52"
          ],
          "font": {
           "color": "#2a3f5f"
          },
          "geo": {
           "bgcolor": "white",
           "lakecolor": "white",
           "landcolor": "#E5ECF6",
           "showlakes": true,
           "showland": true,
           "subunitcolor": "white"
          },
          "hoverlabel": {
           "align": "left"
          },
          "hovermode": "closest",
          "mapbox": {
           "style": "light"
          },
          "paper_bgcolor": "white",
          "plot_bgcolor": "#E5ECF6",
          "polar": {
           "angularaxis": {
            "gridcolor": "white",
            "linecolor": "white",
            "ticks": ""
           },
           "bgcolor": "#E5ECF6",
           "radialaxis": {
            "gridcolor": "white",
            "linecolor": "white",
            "ticks": ""
           }
          },
          "scene": {
           "xaxis": {
            "backgroundcolor": "#E5ECF6",
            "gridcolor": "white",
            "gridwidth": 2,
            "linecolor": "white",
            "showbackground": true,
            "ticks": "",
            "zerolinecolor": "white"
           },
           "yaxis": {
            "backgroundcolor": "#E5ECF6",
            "gridcolor": "white",
            "gridwidth": 2,
            "linecolor": "white",
            "showbackground": true,
            "ticks": "",
            "zerolinecolor": "white"
           },
           "zaxis": {
            "backgroundcolor": "#E5ECF6",
            "gridcolor": "white",
            "gridwidth": 2,
            "linecolor": "white",
            "showbackground": true,
            "ticks": "",
            "zerolinecolor": "white"
           }
          },
          "shapedefaults": {
           "line": {
            "color": "#2a3f5f"
           }
          },
          "ternary": {
           "aaxis": {
            "gridcolor": "white",
            "linecolor": "white",
            "ticks": ""
           },
           "baxis": {
            "gridcolor": "white",
            "linecolor": "white",
            "ticks": ""
           },
           "bgcolor": "#E5ECF6",
           "caxis": {
            "gridcolor": "white",
            "linecolor": "white",
            "ticks": ""
           }
          },
          "title": {
           "x": 0.05
          },
          "xaxis": {
           "automargin": true,
           "gridcolor": "white",
           "linecolor": "white",
           "ticks": "",
           "title": {
            "standoff": 15
           },
           "zerolinecolor": "white",
           "zerolinewidth": 2
          },
          "yaxis": {
           "automargin": true,
           "gridcolor": "white",
           "linecolor": "white",
           "ticks": "",
           "title": {
            "standoff": 15
           },
           "zerolinecolor": "white",
           "zerolinewidth": 2
          }
         }
        },
        "title": {
         "font": {
          "size": 20
         },
         "text": "Amount of started races",
         "x": 0.5
        },
        "xaxis": {
         "anchor": "y",
         "domain": [
          0,
          1
         ]
        },
        "yaxis": {
         "anchor": "x",
         "domain": [
          0,
          1
         ],
         "title": {
          "text": "Amount of races"
         }
        }
       }
      }
     },
     "metadata": {},
     "output_type": "display_data"
    }
   ],
   "source": [
    "# BOX amount of started races\n",
    "fig_box_starts = px.box(rider_stats[rider_stats['starts'] >0], y = 'starts', hover_data = ['rider_full_name'])\n",
    "\n",
    "fig_box_starts.update_layout(\n",
    "    title = 'Amount of started races',\n",
    "    title_x = 0.5,\n",
    "    title_font_size = 20,\n",
    ")\n",
    "fig_box_starts.update_yaxes(\n",
    "    title = 'Amount of races'\n",
    ")\n",
    "fig_box_starts.show()"
   ]
  },
  {
   "cell_type": "markdown",
   "metadata": {},
   "source": [
    "### Top 20 riders with the most races started"
   ]
  },
  {
   "cell_type": "code",
   "execution_count": 5,
   "id": "bb3ba5f3",
   "metadata": {
    "ExecuteTime": {
     "end_time": "2023-10-30T18:00:59.137726Z",
     "start_time": "2023-10-30T18:00:58.739716Z"
    }
   },
   "outputs": [
    {
     "data": {
      "application/vnd.plotly.v1+json": {
       "config": {
        "plotlyServerURL": "https://plot.ly"
       },
       "data": [
        {
         "alignmentgroup": "True",
         "hovertemplate": "rider_full_name=%{x}<br>starts=%{marker.color}<extra></extra>",
         "legendgroup": "",
         "marker": {
          "color": [
           406,
           320,
           307,
           294,
           290,
           285,
           284,
           278,
           267,
           261,
           258,
           248,
           245,
           238,
           237,
           236,
           231,
           231,
           228,
           223,
           222,
           221,
           221,
           220,
           220,
           220,
           215,
           213,
           205,
           203
          ],
          "coloraxis": "coloraxis",
          "pattern": {
           "shape": ""
          }
         },
         "name": "",
         "offsetgroup": "",
         "orientation": "v",
         "showlegend": false,
         "textposition": "auto",
         "type": "bar",
         "x": [
          "Valentino Rossi",
          "Andrea Dovizioso",
          "Thomas Luthi",
          "Simone Corsi",
          "Dani Pedrosa",
          "Loris Capirossi",
          "Jorge Lorenzo",
          "Aleix Espargaro",
          "Alvaro Bautista",
          "Hector Barbera",
          "Pol Espargaro",
          "Alex De Angelis",
          "Andrea Iannone",
          "Tito Rabat",
          "Bradley Smith",
          "Mattia Pasini",
          "Mika Kallio",
          "Dominique Aegerter",
          "Randy De Puniet",
          "Alex Barros",
          "Toni Elias",
          "Anthony West",
          "Julian Simon",
          "Sandro Cortese",
          "Johann Zarco",
          "Marc Marquez",
          "Karel Abraham",
          "Nicky Hayden",
          "Marcel Schrotter",
          "Takaaki Nakagami"
         ],
         "xaxis": "x",
         "y": [
          406,
          320,
          307,
          294,
          290,
          285,
          284,
          278,
          267,
          261,
          258,
          248,
          245,
          238,
          237,
          236,
          231,
          231,
          228,
          223,
          222,
          221,
          221,
          220,
          220,
          220,
          215,
          213,
          205,
          203
         ],
         "yaxis": "y"
        }
       ],
       "layout": {
        "barmode": "relative",
        "coloraxis": {
         "colorbar": {
          "title": {
           "text": "starts"
          }
         },
         "colorscale": [
          [
           0,
           "#0d0887"
          ],
          [
           0.1111111111111111,
           "#46039f"
          ],
          [
           0.2222222222222222,
           "#7201a8"
          ],
          [
           0.3333333333333333,
           "#9c179e"
          ],
          [
           0.4444444444444444,
           "#bd3786"
          ],
          [
           0.5555555555555556,
           "#d8576b"
          ],
          [
           0.6666666666666666,
           "#ed7953"
          ],
          [
           0.7777777777777778,
           "#fb9f3a"
          ],
          [
           0.8888888888888888,
           "#fdca26"
          ],
          [
           1,
           "#f0f921"
          ]
         ]
        },
        "legend": {
         "tracegroupgap": 0
        },
        "margin": {
         "t": 60
        },
        "template": {
         "data": {
          "bar": [
           {
            "error_x": {
             "color": "#2a3f5f"
            },
            "error_y": {
             "color": "#2a3f5f"
            },
            "marker": {
             "line": {
              "color": "#E5ECF6",
              "width": 0.5
             },
             "pattern": {
              "fillmode": "overlay",
              "size": 10,
              "solidity": 0.2
             }
            },
            "type": "bar"
           }
          ],
          "barpolar": [
           {
            "marker": {
             "line": {
              "color": "#E5ECF6",
              "width": 0.5
             },
             "pattern": {
              "fillmode": "overlay",
              "size": 10,
              "solidity": 0.2
             }
            },
            "type": "barpolar"
           }
          ],
          "carpet": [
           {
            "aaxis": {
             "endlinecolor": "#2a3f5f",
             "gridcolor": "white",
             "linecolor": "white",
             "minorgridcolor": "white",
             "startlinecolor": "#2a3f5f"
            },
            "baxis": {
             "endlinecolor": "#2a3f5f",
             "gridcolor": "white",
             "linecolor": "white",
             "minorgridcolor": "white",
             "startlinecolor": "#2a3f5f"
            },
            "type": "carpet"
           }
          ],
          "choropleth": [
           {
            "colorbar": {
             "outlinewidth": 0,
             "ticks": ""
            },
            "type": "choropleth"
           }
          ],
          "contour": [
           {
            "colorbar": {
             "outlinewidth": 0,
             "ticks": ""
            },
            "colorscale": [
             [
              0,
              "#0d0887"
             ],
             [
              0.1111111111111111,
              "#46039f"
             ],
             [
              0.2222222222222222,
              "#7201a8"
             ],
             [
              0.3333333333333333,
              "#9c179e"
             ],
             [
              0.4444444444444444,
              "#bd3786"
             ],
             [
              0.5555555555555556,
              "#d8576b"
             ],
             [
              0.6666666666666666,
              "#ed7953"
             ],
             [
              0.7777777777777778,
              "#fb9f3a"
             ],
             [
              0.8888888888888888,
              "#fdca26"
             ],
             [
              1,
              "#f0f921"
             ]
            ],
            "type": "contour"
           }
          ],
          "contourcarpet": [
           {
            "colorbar": {
             "outlinewidth": 0,
             "ticks": ""
            },
            "type": "contourcarpet"
           }
          ],
          "heatmap": [
           {
            "colorbar": {
             "outlinewidth": 0,
             "ticks": ""
            },
            "colorscale": [
             [
              0,
              "#0d0887"
             ],
             [
              0.1111111111111111,
              "#46039f"
             ],
             [
              0.2222222222222222,
              "#7201a8"
             ],
             [
              0.3333333333333333,
              "#9c179e"
             ],
             [
              0.4444444444444444,
              "#bd3786"
             ],
             [
              0.5555555555555556,
              "#d8576b"
             ],
             [
              0.6666666666666666,
              "#ed7953"
             ],
             [
              0.7777777777777778,
              "#fb9f3a"
             ],
             [
              0.8888888888888888,
              "#fdca26"
             ],
             [
              1,
              "#f0f921"
             ]
            ],
            "type": "heatmap"
           }
          ],
          "heatmapgl": [
           {
            "colorbar": {
             "outlinewidth": 0,
             "ticks": ""
            },
            "colorscale": [
             [
              0,
              "#0d0887"
             ],
             [
              0.1111111111111111,
              "#46039f"
             ],
             [
              0.2222222222222222,
              "#7201a8"
             ],
             [
              0.3333333333333333,
              "#9c179e"
             ],
             [
              0.4444444444444444,
              "#bd3786"
             ],
             [
              0.5555555555555556,
              "#d8576b"
             ],
             [
              0.6666666666666666,
              "#ed7953"
             ],
             [
              0.7777777777777778,
              "#fb9f3a"
             ],
             [
              0.8888888888888888,
              "#fdca26"
             ],
             [
              1,
              "#f0f921"
             ]
            ],
            "type": "heatmapgl"
           }
          ],
          "histogram": [
           {
            "marker": {
             "pattern": {
              "fillmode": "overlay",
              "size": 10,
              "solidity": 0.2
             }
            },
            "type": "histogram"
           }
          ],
          "histogram2d": [
           {
            "colorbar": {
             "outlinewidth": 0,
             "ticks": ""
            },
            "colorscale": [
             [
              0,
              "#0d0887"
             ],
             [
              0.1111111111111111,
              "#46039f"
             ],
             [
              0.2222222222222222,
              "#7201a8"
             ],
             [
              0.3333333333333333,
              "#9c179e"
             ],
             [
              0.4444444444444444,
              "#bd3786"
             ],
             [
              0.5555555555555556,
              "#d8576b"
             ],
             [
              0.6666666666666666,
              "#ed7953"
             ],
             [
              0.7777777777777778,
              "#fb9f3a"
             ],
             [
              0.8888888888888888,
              "#fdca26"
             ],
             [
              1,
              "#f0f921"
             ]
            ],
            "type": "histogram2d"
           }
          ],
          "histogram2dcontour": [
           {
            "colorbar": {
             "outlinewidth": 0,
             "ticks": ""
            },
            "colorscale": [
             [
              0,
              "#0d0887"
             ],
             [
              0.1111111111111111,
              "#46039f"
             ],
             [
              0.2222222222222222,
              "#7201a8"
             ],
             [
              0.3333333333333333,
              "#9c179e"
             ],
             [
              0.4444444444444444,
              "#bd3786"
             ],
             [
              0.5555555555555556,
              "#d8576b"
             ],
             [
              0.6666666666666666,
              "#ed7953"
             ],
             [
              0.7777777777777778,
              "#fb9f3a"
             ],
             [
              0.8888888888888888,
              "#fdca26"
             ],
             [
              1,
              "#f0f921"
             ]
            ],
            "type": "histogram2dcontour"
           }
          ],
          "mesh3d": [
           {
            "colorbar": {
             "outlinewidth": 0,
             "ticks": ""
            },
            "type": "mesh3d"
           }
          ],
          "parcoords": [
           {
            "line": {
             "colorbar": {
              "outlinewidth": 0,
              "ticks": ""
             }
            },
            "type": "parcoords"
           }
          ],
          "pie": [
           {
            "automargin": true,
            "type": "pie"
           }
          ],
          "scatter": [
           {
            "fillpattern": {
             "fillmode": "overlay",
             "size": 10,
             "solidity": 0.2
            },
            "type": "scatter"
           }
          ],
          "scatter3d": [
           {
            "line": {
             "colorbar": {
              "outlinewidth": 0,
              "ticks": ""
             }
            },
            "marker": {
             "colorbar": {
              "outlinewidth": 0,
              "ticks": ""
             }
            },
            "type": "scatter3d"
           }
          ],
          "scattercarpet": [
           {
            "marker": {
             "colorbar": {
              "outlinewidth": 0,
              "ticks": ""
             }
            },
            "type": "scattercarpet"
           }
          ],
          "scattergeo": [
           {
            "marker": {
             "colorbar": {
              "outlinewidth": 0,
              "ticks": ""
             }
            },
            "type": "scattergeo"
           }
          ],
          "scattergl": [
           {
            "marker": {
             "colorbar": {
              "outlinewidth": 0,
              "ticks": ""
             }
            },
            "type": "scattergl"
           }
          ],
          "scattermapbox": [
           {
            "marker": {
             "colorbar": {
              "outlinewidth": 0,
              "ticks": ""
             }
            },
            "type": "scattermapbox"
           }
          ],
          "scatterpolar": [
           {
            "marker": {
             "colorbar": {
              "outlinewidth": 0,
              "ticks": ""
             }
            },
            "type": "scatterpolar"
           }
          ],
          "scatterpolargl": [
           {
            "marker": {
             "colorbar": {
              "outlinewidth": 0,
              "ticks": ""
             }
            },
            "type": "scatterpolargl"
           }
          ],
          "scatterternary": [
           {
            "marker": {
             "colorbar": {
              "outlinewidth": 0,
              "ticks": ""
             }
            },
            "type": "scatterternary"
           }
          ],
          "surface": [
           {
            "colorbar": {
             "outlinewidth": 0,
             "ticks": ""
            },
            "colorscale": [
             [
              0,
              "#0d0887"
             ],
             [
              0.1111111111111111,
              "#46039f"
             ],
             [
              0.2222222222222222,
              "#7201a8"
             ],
             [
              0.3333333333333333,
              "#9c179e"
             ],
             [
              0.4444444444444444,
              "#bd3786"
             ],
             [
              0.5555555555555556,
              "#d8576b"
             ],
             [
              0.6666666666666666,
              "#ed7953"
             ],
             [
              0.7777777777777778,
              "#fb9f3a"
             ],
             [
              0.8888888888888888,
              "#fdca26"
             ],
             [
              1,
              "#f0f921"
             ]
            ],
            "type": "surface"
           }
          ],
          "table": [
           {
            "cells": {
             "fill": {
              "color": "#EBF0F8"
             },
             "line": {
              "color": "white"
             }
            },
            "header": {
             "fill": {
              "color": "#C8D4E3"
             },
             "line": {
              "color": "white"
             }
            },
            "type": "table"
           }
          ]
         },
         "layout": {
          "annotationdefaults": {
           "arrowcolor": "#2a3f5f",
           "arrowhead": 0,
           "arrowwidth": 1
          },
          "autotypenumbers": "strict",
          "coloraxis": {
           "colorbar": {
            "outlinewidth": 0,
            "ticks": ""
           }
          },
          "colorscale": {
           "diverging": [
            [
             0,
             "#8e0152"
            ],
            [
             0.1,
             "#c51b7d"
            ],
            [
             0.2,
             "#de77ae"
            ],
            [
             0.3,
             "#f1b6da"
            ],
            [
             0.4,
             "#fde0ef"
            ],
            [
             0.5,
             "#f7f7f7"
            ],
            [
             0.6,
             "#e6f5d0"
            ],
            [
             0.7,
             "#b8e186"
            ],
            [
             0.8,
             "#7fbc41"
            ],
            [
             0.9,
             "#4d9221"
            ],
            [
             1,
             "#276419"
            ]
           ],
           "sequential": [
            [
             0,
             "#0d0887"
            ],
            [
             0.1111111111111111,
             "#46039f"
            ],
            [
             0.2222222222222222,
             "#7201a8"
            ],
            [
             0.3333333333333333,
             "#9c179e"
            ],
            [
             0.4444444444444444,
             "#bd3786"
            ],
            [
             0.5555555555555556,
             "#d8576b"
            ],
            [
             0.6666666666666666,
             "#ed7953"
            ],
            [
             0.7777777777777778,
             "#fb9f3a"
            ],
            [
             0.8888888888888888,
             "#fdca26"
            ],
            [
             1,
             "#f0f921"
            ]
           ],
           "sequentialminus": [
            [
             0,
             "#0d0887"
            ],
            [
             0.1111111111111111,
             "#46039f"
            ],
            [
             0.2222222222222222,
             "#7201a8"
            ],
            [
             0.3333333333333333,
             "#9c179e"
            ],
            [
             0.4444444444444444,
             "#bd3786"
            ],
            [
             0.5555555555555556,
             "#d8576b"
            ],
            [
             0.6666666666666666,
             "#ed7953"
            ],
            [
             0.7777777777777778,
             "#fb9f3a"
            ],
            [
             0.8888888888888888,
             "#fdca26"
            ],
            [
             1,
             "#f0f921"
            ]
           ]
          },
          "colorway": [
           "#636efa",
           "#EF553B",
           "#00cc96",
           "#ab63fa",
           "#FFA15A",
           "#19d3f3",
           "#FF6692",
           "#B6E880",
           "#FF97FF",
           "#FECB52"
          ],
          "font": {
           "color": "#2a3f5f"
          },
          "geo": {
           "bgcolor": "white",
           "lakecolor": "white",
           "landcolor": "#E5ECF6",
           "showlakes": true,
           "showland": true,
           "subunitcolor": "white"
          },
          "hoverlabel": {
           "align": "left"
          },
          "hovermode": "closest",
          "mapbox": {
           "style": "light"
          },
          "paper_bgcolor": "white",
          "plot_bgcolor": "#E5ECF6",
          "polar": {
           "angularaxis": {
            "gridcolor": "white",
            "linecolor": "white",
            "ticks": ""
           },
           "bgcolor": "#E5ECF6",
           "radialaxis": {
            "gridcolor": "white",
            "linecolor": "white",
            "ticks": ""
           }
          },
          "scene": {
           "xaxis": {
            "backgroundcolor": "#E5ECF6",
            "gridcolor": "white",
            "gridwidth": 2,
            "linecolor": "white",
            "showbackground": true,
            "ticks": "",
            "zerolinecolor": "white"
           },
           "yaxis": {
            "backgroundcolor": "#E5ECF6",
            "gridcolor": "white",
            "gridwidth": 2,
            "linecolor": "white",
            "showbackground": true,
            "ticks": "",
            "zerolinecolor": "white"
           },
           "zaxis": {
            "backgroundcolor": "#E5ECF6",
            "gridcolor": "white",
            "gridwidth": 2,
            "linecolor": "white",
            "showbackground": true,
            "ticks": "",
            "zerolinecolor": "white"
           }
          },
          "shapedefaults": {
           "line": {
            "color": "#2a3f5f"
           }
          },
          "ternary": {
           "aaxis": {
            "gridcolor": "white",
            "linecolor": "white",
            "ticks": ""
           },
           "baxis": {
            "gridcolor": "white",
            "linecolor": "white",
            "ticks": ""
           },
           "bgcolor": "#E5ECF6",
           "caxis": {
            "gridcolor": "white",
            "linecolor": "white",
            "ticks": ""
           }
          },
          "title": {
           "x": 0.05
          },
          "xaxis": {
           "automargin": true,
           "gridcolor": "white",
           "linecolor": "white",
           "ticks": "",
           "title": {
            "standoff": 15
           },
           "zerolinecolor": "white",
           "zerolinewidth": 2
          },
          "yaxis": {
           "automargin": true,
           "gridcolor": "white",
           "linecolor": "white",
           "ticks": "",
           "title": {
            "standoff": 15
           },
           "zerolinecolor": "white",
           "zerolinewidth": 2
          }
         }
        },
        "title": {
         "font": {
          "size": 20
         },
         "text": "Top 20 riders with the most races started",
         "x": 0.5
        },
        "xaxis": {
         "anchor": "y",
         "domain": [
          0,
          1
         ],
         "title": {
          "text": "Rider"
         }
        },
        "yaxis": {
         "anchor": "x",
         "domain": [
          0,
          1
         ],
         "title": {
          "text": "Amount of races"
         }
        }
       }
      }
     },
     "metadata": {},
     "output_type": "display_data"
    }
   ],
   "source": [
    "#Top 20 riders with the most races started BAR\n",
    "top_30_started_riders = rider_stats.head(30).sort_values('starts')\n",
    "\n",
    "fig_bar_top_starts = px.bar(top_30_started_riders.sort_values('starts', ascending = False), x = 'rider_full_name', y = 'starts', color = 'starts')\n",
    "\n",
    "fig_bar_top_starts.update_layout(\n",
    "    title = 'Top 20 riders with the most races started',\n",
    "    title_x = 0.5,\n",
    "    title_font_size = 20,\n",
    ")\n",
    "fig_bar_top_starts.update_yaxes(\n",
    "    title = 'Amount of races'\n",
    ")\n",
    "fig_bar_top_starts.update_xaxes(\n",
    "    title = 'Rider'\n",
    ")\n",
    "fig_bar_top_starts.show()"
   ]
  },
  {
   "cell_type": "markdown",
   "metadata": {},
   "source": [
    "### Top 20 tracks with most races in history"
   ]
  },
  {
   "cell_type": "code",
   "execution_count": 6,
   "id": "aba985bb",
   "metadata": {
    "ExecuteTime": {
     "end_time": "2023-05-04T08:40:04.774099Z",
     "start_time": "2023-05-04T08:40:04.539034Z"
    }
   },
   "outputs": [
    {
     "data": {
      "application/vnd.plotly.v1+json": {
       "config": {
        "plotlyServerURL": "https://plot.ly"
       },
       "data": [
        {
         "alignmentgroup": "True",
         "hovertemplate": "amount=%{y}<br>count=%{x}<extra></extra>",
         "legendgroup": "Assen",
         "marker": {
          "color": "#636efa",
          "pattern": {
           "shape": ""
          }
         },
         "name": "Assen",
         "offsetgroup": "Assen",
         "orientation": "h",
         "showlegend": true,
         "textposition": "auto",
         "type": "bar",
         "x": [
          72
         ],
         "xaxis": "x",
         "y": [
          "Assen"
         ],
         "yaxis": "y"
        },
        {
         "alignmentgroup": "True",
         "hovertemplate": "amount=%{y}<br>count=%{x}<extra></extra>",
         "legendgroup": "Brno",
         "marker": {
          "color": "#EF553B",
          "pattern": {
           "shape": ""
          }
         },
         "name": "Brno",
         "offsetgroup": "Brno",
         "orientation": "h",
         "showlegend": true,
         "textposition": "auto",
         "type": "bar",
         "x": [
          44
         ],
         "xaxis": "x",
         "y": [
          "Brno"
         ],
         "yaxis": "y"
        },
        {
         "alignmentgroup": "True",
         "hovertemplate": "amount=%{y}<br>count=%{x}<extra></extra>",
         "legendgroup": "Spa-Francorchamps",
         "marker": {
          "color": "#00cc96",
          "pattern": {
           "shape": ""
          }
         },
         "name": "Spa-Francorchamps",
         "offsetgroup": "Spa-Francorchamps",
         "orientation": "h",
         "showlegend": true,
         "textposition": "auto",
         "type": "bar",
         "x": [
          40
         ],
         "xaxis": "x",
         "y": [
          "Spa-Francorchamps"
         ],
         "yaxis": "y"
        },
        {
         "alignmentgroup": "True",
         "hovertemplate": "amount=%{y}<br>count=%{x}<extra></extra>",
         "legendgroup": "Jerez",
         "marker": {
          "color": "#ab63fa",
          "pattern": {
           "shape": ""
          }
         },
         "name": "Jerez",
         "offsetgroup": "Jerez",
         "orientation": "h",
         "showlegend": true,
         "textposition": "auto",
         "type": "bar",
         "x": [
          36
         ],
         "xaxis": "x",
         "y": [
          "Jerez"
         ],
         "yaxis": "y"
        },
        {
         "alignmentgroup": "True",
         "hovertemplate": "amount=%{y}<br>count=%{x}<extra></extra>",
         "legendgroup": "Sachsenring",
         "marker": {
          "color": "#FFA15A",
          "pattern": {
           "shape": ""
          }
         },
         "name": "Sachsenring",
         "offsetgroup": "Sachsenring",
         "orientation": "h",
         "showlegend": true,
         "textposition": "auto",
         "type": "bar",
         "x": [
          35
         ],
         "xaxis": "x",
         "y": [
          "Sachsenring"
         ],
         "yaxis": "y"
        },
        {
         "alignmentgroup": "True",
         "hovertemplate": "amount=%{y}<br>count=%{x}<extra></extra>",
         "legendgroup": "Mugello",
         "marker": {
          "color": "#19d3f3",
          "pattern": {
           "shape": ""
          }
         },
         "name": "Mugello",
         "offsetgroup": "Mugello",
         "orientation": "h",
         "showlegend": true,
         "textposition": "auto",
         "type": "bar",
         "x": [
          35
         ],
         "xaxis": "x",
         "y": [
          "Mugello"
         ],
         "yaxis": "y"
        },
        {
         "alignmentgroup": "True",
         "hovertemplate": "amount=%{y}<br>count=%{x}<extra></extra>",
         "legendgroup": "Le Mans",
         "marker": {
          "color": "#FF6692",
          "pattern": {
           "shape": ""
          }
         },
         "name": "Le Mans",
         "offsetgroup": "Le Mans",
         "orientation": "h",
         "showlegend": true,
         "textposition": "auto",
         "type": "bar",
         "x": [
          34
         ],
         "xaxis": "x",
         "y": [
          "Le Mans"
         ],
         "yaxis": "y"
        },
        {
         "alignmentgroup": "True",
         "hovertemplate": "amount=%{y}<br>count=%{x}<extra></extra>",
         "legendgroup": "Catalunya",
         "marker": {
          "color": "#B6E880",
          "pattern": {
           "shape": ""
          }
         },
         "name": "Catalunya",
         "offsetgroup": "Catalunya",
         "orientation": "h",
         "showlegend": true,
         "textposition": "auto",
         "type": "bar",
         "x": [
          30
         ],
         "xaxis": "x",
         "y": [
          "Catalunya"
         ],
         "yaxis": "y"
        },
        {
         "alignmentgroup": "True",
         "hovertemplate": "amount=%{y}<br>count=%{x}<extra></extra>",
         "legendgroup": "Isle of Man",
         "marker": {
          "color": "#FF97FF",
          "pattern": {
           "shape": ""
          }
         },
         "name": "Isle of Man",
         "offsetgroup": "Isle of Man",
         "orientation": "h",
         "showlegend": true,
         "textposition": "auto",
         "type": "bar",
         "x": [
          28
         ],
         "xaxis": "x",
         "y": [
          "Isle of Man"
         ],
         "yaxis": "y"
        },
        {
         "alignmentgroup": "True",
         "hovertemplate": "amount=%{y}<br>count=%{x}<extra></extra>",
         "legendgroup": "Misano",
         "marker": {
          "color": "#FECB52",
          "pattern": {
           "shape": ""
          }
         },
         "name": "Misano",
         "offsetgroup": "Misano",
         "orientation": "h",
         "showlegend": true,
         "textposition": "auto",
         "type": "bar",
         "x": [
          27
         ],
         "xaxis": "x",
         "y": [
          "Misano"
         ],
         "yaxis": "y"
        },
        {
         "alignmentgroup": "True",
         "hovertemplate": "amount=%{y}<br>count=%{x}<extra></extra>",
         "legendgroup": "Monza",
         "marker": {
          "color": "#636efa",
          "pattern": {
           "shape": ""
          }
         },
         "name": "Monza",
         "offsetgroup": "Monza",
         "orientation": "h",
         "showlegend": true,
         "textposition": "auto",
         "type": "bar",
         "x": [
          26
         ],
         "xaxis": "x",
         "y": [
          "Monza"
         ],
         "yaxis": "y"
        },
        {
         "alignmentgroup": "True",
         "hovertemplate": "amount=%{y}<br>count=%{x}<extra></extra>",
         "legendgroup": "Phillip Island",
         "marker": {
          "color": "#EF553B",
          "pattern": {
           "shape": ""
          }
         },
         "name": "Phillip Island",
         "offsetgroup": "Phillip Island",
         "orientation": "h",
         "showlegend": true,
         "textposition": "auto",
         "type": "bar",
         "x": [
          25
         ],
         "xaxis": "x",
         "y": [
          "Phillip Island"
         ],
         "yaxis": "y"
        },
        {
         "alignmentgroup": "True",
         "hovertemplate": "amount=%{y}<br>count=%{x}<extra></extra>",
         "legendgroup": "Ricardo Tormo",
         "marker": {
          "color": "#00cc96",
          "pattern": {
           "shape": ""
          }
         },
         "name": "Ricardo Tormo",
         "offsetgroup": "Ricardo Tormo",
         "orientation": "h",
         "showlegend": true,
         "textposition": "auto",
         "type": "bar",
         "x": [
          23
         ],
         "xaxis": "x",
         "y": [
          "Ricardo Tormo"
         ],
         "yaxis": "y"
        },
        {
         "alignmentgroup": "True",
         "hovertemplate": "amount=%{y}<br>count=%{x}<extra></extra>",
         "legendgroup": "Donington Park",
         "marker": {
          "color": "#ab63fa",
          "pattern": {
           "shape": ""
          }
         },
         "name": "Donington Park",
         "offsetgroup": "Donington Park",
         "orientation": "h",
         "showlegend": true,
         "textposition": "auto",
         "type": "bar",
         "x": [
          23
         ],
         "xaxis": "x",
         "y": [
          "Donington Park"
         ],
         "yaxis": "y"
        },
        {
         "alignmentgroup": "True",
         "hovertemplate": "amount=%{y}<br>count=%{x}<extra></extra>",
         "legendgroup": "Salzburgring",
         "marker": {
          "color": "#FFA15A",
          "pattern": {
           "shape": ""
          }
         },
         "name": "Salzburgring",
         "offsetgroup": "Salzburgring",
         "orientation": "h",
         "showlegend": true,
         "textposition": "auto",
         "type": "bar",
         "x": [
          22
         ],
         "xaxis": "x",
         "y": [
          "Salzburgring"
         ],
         "yaxis": "y"
        },
        {
         "alignmentgroup": "True",
         "hovertemplate": "amount=%{y}<br>count=%{x}<extra></extra>",
         "legendgroup": "Belfast",
         "marker": {
          "color": "#19d3f3",
          "pattern": {
           "shape": ""
          }
         },
         "name": "Belfast",
         "offsetgroup": "Belfast",
         "orientation": "h",
         "showlegend": true,
         "textposition": "auto",
         "type": "bar",
         "x": [
          22
         ],
         "xaxis": "x",
         "y": [
          "Belfast"
         ],
         "yaxis": "y"
        },
        {
         "alignmentgroup": "True",
         "hovertemplate": "amount=%{y}<br>count=%{x}<extra></extra>",
         "legendgroup": "Hockenheim",
         "marker": {
          "color": "#FF6692",
          "pattern": {
           "shape": ""
          }
         },
         "name": "Hockenheim",
         "offsetgroup": "Hockenheim",
         "orientation": "h",
         "showlegend": true,
         "textposition": "auto",
         "type": "bar",
         "x": [
          21
         ],
         "xaxis": "x",
         "y": [
          "Hockenheim"
         ],
         "yaxis": "y"
        },
        {
         "alignmentgroup": "True",
         "hovertemplate": "amount=%{y}<br>count=%{x}<extra></extra>",
         "legendgroup": "Motegi",
         "marker": {
          "color": "#B6E880",
          "pattern": {
           "shape": ""
          }
         },
         "name": "Motegi",
         "offsetgroup": "Motegi",
         "orientation": "h",
         "showlegend": true,
         "textposition": "auto",
         "type": "bar",
         "x": [
          21
         ],
         "xaxis": "x",
         "y": [
          "Motegi"
         ],
         "yaxis": "y"
        },
        {
         "alignmentgroup": "True",
         "hovertemplate": "amount=%{y}<br>count=%{x}<extra></extra>",
         "legendgroup": "Sepang",
         "marker": {
          "color": "#FF97FF",
          "pattern": {
           "shape": ""
          }
         },
         "name": "Sepang",
         "offsetgroup": "Sepang",
         "orientation": "h",
         "showlegend": true,
         "textposition": "auto",
         "type": "bar",
         "x": [
          21
         ],
         "xaxis": "x",
         "y": [
          "Sepang"
         ],
         "yaxis": "y"
        },
        {
         "alignmentgroup": "True",
         "hovertemplate": "amount=%{y}<br>count=%{x}<extra></extra>",
         "legendgroup": "Silverstone",
         "marker": {
          "color": "#FECB52",
          "pattern": {
           "shape": ""
          }
         },
         "name": "Silverstone",
         "offsetgroup": "Silverstone",
         "orientation": "h",
         "showlegend": true,
         "textposition": "auto",
         "type": "bar",
         "x": [
          20
         ],
         "xaxis": "x",
         "y": [
          "Silverstone"
         ],
         "yaxis": "y"
        }
       ],
       "layout": {
        "barmode": "relative",
        "legend": {
         "title": {
          "text": "amount"
         },
         "tracegroupgap": 0
        },
        "margin": {
         "t": 60
        },
        "template": {
         "data": {
          "bar": [
           {
            "error_x": {
             "color": "#2a3f5f"
            },
            "error_y": {
             "color": "#2a3f5f"
            },
            "marker": {
             "line": {
              "color": "#E5ECF6",
              "width": 0.5
             },
             "pattern": {
              "fillmode": "overlay",
              "size": 10,
              "solidity": 0.2
             }
            },
            "type": "bar"
           }
          ],
          "barpolar": [
           {
            "marker": {
             "line": {
              "color": "#E5ECF6",
              "width": 0.5
             },
             "pattern": {
              "fillmode": "overlay",
              "size": 10,
              "solidity": 0.2
             }
            },
            "type": "barpolar"
           }
          ],
          "carpet": [
           {
            "aaxis": {
             "endlinecolor": "#2a3f5f",
             "gridcolor": "white",
             "linecolor": "white",
             "minorgridcolor": "white",
             "startlinecolor": "#2a3f5f"
            },
            "baxis": {
             "endlinecolor": "#2a3f5f",
             "gridcolor": "white",
             "linecolor": "white",
             "minorgridcolor": "white",
             "startlinecolor": "#2a3f5f"
            },
            "type": "carpet"
           }
          ],
          "choropleth": [
           {
            "colorbar": {
             "outlinewidth": 0,
             "ticks": ""
            },
            "type": "choropleth"
           }
          ],
          "contour": [
           {
            "colorbar": {
             "outlinewidth": 0,
             "ticks": ""
            },
            "colorscale": [
             [
              0,
              "#0d0887"
             ],
             [
              0.1111111111111111,
              "#46039f"
             ],
             [
              0.2222222222222222,
              "#7201a8"
             ],
             [
              0.3333333333333333,
              "#9c179e"
             ],
             [
              0.4444444444444444,
              "#bd3786"
             ],
             [
              0.5555555555555556,
              "#d8576b"
             ],
             [
              0.6666666666666666,
              "#ed7953"
             ],
             [
              0.7777777777777778,
              "#fb9f3a"
             ],
             [
              0.8888888888888888,
              "#fdca26"
             ],
             [
              1,
              "#f0f921"
             ]
            ],
            "type": "contour"
           }
          ],
          "contourcarpet": [
           {
            "colorbar": {
             "outlinewidth": 0,
             "ticks": ""
            },
            "type": "contourcarpet"
           }
          ],
          "heatmap": [
           {
            "colorbar": {
             "outlinewidth": 0,
             "ticks": ""
            },
            "colorscale": [
             [
              0,
              "#0d0887"
             ],
             [
              0.1111111111111111,
              "#46039f"
             ],
             [
              0.2222222222222222,
              "#7201a8"
             ],
             [
              0.3333333333333333,
              "#9c179e"
             ],
             [
              0.4444444444444444,
              "#bd3786"
             ],
             [
              0.5555555555555556,
              "#d8576b"
             ],
             [
              0.6666666666666666,
              "#ed7953"
             ],
             [
              0.7777777777777778,
              "#fb9f3a"
             ],
             [
              0.8888888888888888,
              "#fdca26"
             ],
             [
              1,
              "#f0f921"
             ]
            ],
            "type": "heatmap"
           }
          ],
          "heatmapgl": [
           {
            "colorbar": {
             "outlinewidth": 0,
             "ticks": ""
            },
            "colorscale": [
             [
              0,
              "#0d0887"
             ],
             [
              0.1111111111111111,
              "#46039f"
             ],
             [
              0.2222222222222222,
              "#7201a8"
             ],
             [
              0.3333333333333333,
              "#9c179e"
             ],
             [
              0.4444444444444444,
              "#bd3786"
             ],
             [
              0.5555555555555556,
              "#d8576b"
             ],
             [
              0.6666666666666666,
              "#ed7953"
             ],
             [
              0.7777777777777778,
              "#fb9f3a"
             ],
             [
              0.8888888888888888,
              "#fdca26"
             ],
             [
              1,
              "#f0f921"
             ]
            ],
            "type": "heatmapgl"
           }
          ],
          "histogram": [
           {
            "marker": {
             "pattern": {
              "fillmode": "overlay",
              "size": 10,
              "solidity": 0.2
             }
            },
            "type": "histogram"
           }
          ],
          "histogram2d": [
           {
            "colorbar": {
             "outlinewidth": 0,
             "ticks": ""
            },
            "colorscale": [
             [
              0,
              "#0d0887"
             ],
             [
              0.1111111111111111,
              "#46039f"
             ],
             [
              0.2222222222222222,
              "#7201a8"
             ],
             [
              0.3333333333333333,
              "#9c179e"
             ],
             [
              0.4444444444444444,
              "#bd3786"
             ],
             [
              0.5555555555555556,
              "#d8576b"
             ],
             [
              0.6666666666666666,
              "#ed7953"
             ],
             [
              0.7777777777777778,
              "#fb9f3a"
             ],
             [
              0.8888888888888888,
              "#fdca26"
             ],
             [
              1,
              "#f0f921"
             ]
            ],
            "type": "histogram2d"
           }
          ],
          "histogram2dcontour": [
           {
            "colorbar": {
             "outlinewidth": 0,
             "ticks": ""
            },
            "colorscale": [
             [
              0,
              "#0d0887"
             ],
             [
              0.1111111111111111,
              "#46039f"
             ],
             [
              0.2222222222222222,
              "#7201a8"
             ],
             [
              0.3333333333333333,
              "#9c179e"
             ],
             [
              0.4444444444444444,
              "#bd3786"
             ],
             [
              0.5555555555555556,
              "#d8576b"
             ],
             [
              0.6666666666666666,
              "#ed7953"
             ],
             [
              0.7777777777777778,
              "#fb9f3a"
             ],
             [
              0.8888888888888888,
              "#fdca26"
             ],
             [
              1,
              "#f0f921"
             ]
            ],
            "type": "histogram2dcontour"
           }
          ],
          "mesh3d": [
           {
            "colorbar": {
             "outlinewidth": 0,
             "ticks": ""
            },
            "type": "mesh3d"
           }
          ],
          "parcoords": [
           {
            "line": {
             "colorbar": {
              "outlinewidth": 0,
              "ticks": ""
             }
            },
            "type": "parcoords"
           }
          ],
          "pie": [
           {
            "automargin": true,
            "type": "pie"
           }
          ],
          "scatter": [
           {
            "fillpattern": {
             "fillmode": "overlay",
             "size": 10,
             "solidity": 0.2
            },
            "type": "scatter"
           }
          ],
          "scatter3d": [
           {
            "line": {
             "colorbar": {
              "outlinewidth": 0,
              "ticks": ""
             }
            },
            "marker": {
             "colorbar": {
              "outlinewidth": 0,
              "ticks": ""
             }
            },
            "type": "scatter3d"
           }
          ],
          "scattercarpet": [
           {
            "marker": {
             "colorbar": {
              "outlinewidth": 0,
              "ticks": ""
             }
            },
            "type": "scattercarpet"
           }
          ],
          "scattergeo": [
           {
            "marker": {
             "colorbar": {
              "outlinewidth": 0,
              "ticks": ""
             }
            },
            "type": "scattergeo"
           }
          ],
          "scattergl": [
           {
            "marker": {
             "colorbar": {
              "outlinewidth": 0,
              "ticks": ""
             }
            },
            "type": "scattergl"
           }
          ],
          "scattermapbox": [
           {
            "marker": {
             "colorbar": {
              "outlinewidth": 0,
              "ticks": ""
             }
            },
            "type": "scattermapbox"
           }
          ],
          "scatterpolar": [
           {
            "marker": {
             "colorbar": {
              "outlinewidth": 0,
              "ticks": ""
             }
            },
            "type": "scatterpolar"
           }
          ],
          "scatterpolargl": [
           {
            "marker": {
             "colorbar": {
              "outlinewidth": 0,
              "ticks": ""
             }
            },
            "type": "scatterpolargl"
           }
          ],
          "scatterternary": [
           {
            "marker": {
             "colorbar": {
              "outlinewidth": 0,
              "ticks": ""
             }
            },
            "type": "scatterternary"
           }
          ],
          "surface": [
           {
            "colorbar": {
             "outlinewidth": 0,
             "ticks": ""
            },
            "colorscale": [
             [
              0,
              "#0d0887"
             ],
             [
              0.1111111111111111,
              "#46039f"
             ],
             [
              0.2222222222222222,
              "#7201a8"
             ],
             [
              0.3333333333333333,
              "#9c179e"
             ],
             [
              0.4444444444444444,
              "#bd3786"
             ],
             [
              0.5555555555555556,
              "#d8576b"
             ],
             [
              0.6666666666666666,
              "#ed7953"
             ],
             [
              0.7777777777777778,
              "#fb9f3a"
             ],
             [
              0.8888888888888888,
              "#fdca26"
             ],
             [
              1,
              "#f0f921"
             ]
            ],
            "type": "surface"
           }
          ],
          "table": [
           {
            "cells": {
             "fill": {
              "color": "#EBF0F8"
             },
             "line": {
              "color": "white"
             }
            },
            "header": {
             "fill": {
              "color": "#C8D4E3"
             },
             "line": {
              "color": "white"
             }
            },
            "type": "table"
           }
          ]
         },
         "layout": {
          "annotationdefaults": {
           "arrowcolor": "#2a3f5f",
           "arrowhead": 0,
           "arrowwidth": 1
          },
          "autotypenumbers": "strict",
          "coloraxis": {
           "colorbar": {
            "outlinewidth": 0,
            "ticks": ""
           }
          },
          "colorscale": {
           "diverging": [
            [
             0,
             "#8e0152"
            ],
            [
             0.1,
             "#c51b7d"
            ],
            [
             0.2,
             "#de77ae"
            ],
            [
             0.3,
             "#f1b6da"
            ],
            [
             0.4,
             "#fde0ef"
            ],
            [
             0.5,
             "#f7f7f7"
            ],
            [
             0.6,
             "#e6f5d0"
            ],
            [
             0.7,
             "#b8e186"
            ],
            [
             0.8,
             "#7fbc41"
            ],
            [
             0.9,
             "#4d9221"
            ],
            [
             1,
             "#276419"
            ]
           ],
           "sequential": [
            [
             0,
             "#0d0887"
            ],
            [
             0.1111111111111111,
             "#46039f"
            ],
            [
             0.2222222222222222,
             "#7201a8"
            ],
            [
             0.3333333333333333,
             "#9c179e"
            ],
            [
             0.4444444444444444,
             "#bd3786"
            ],
            [
             0.5555555555555556,
             "#d8576b"
            ],
            [
             0.6666666666666666,
             "#ed7953"
            ],
            [
             0.7777777777777778,
             "#fb9f3a"
            ],
            [
             0.8888888888888888,
             "#fdca26"
            ],
            [
             1,
             "#f0f921"
            ]
           ],
           "sequentialminus": [
            [
             0,
             "#0d0887"
            ],
            [
             0.1111111111111111,
             "#46039f"
            ],
            [
             0.2222222222222222,
             "#7201a8"
            ],
            [
             0.3333333333333333,
             "#9c179e"
            ],
            [
             0.4444444444444444,
             "#bd3786"
            ],
            [
             0.5555555555555556,
             "#d8576b"
            ],
            [
             0.6666666666666666,
             "#ed7953"
            ],
            [
             0.7777777777777778,
             "#fb9f3a"
            ],
            [
             0.8888888888888888,
             "#fdca26"
            ],
            [
             1,
             "#f0f921"
            ]
           ]
          },
          "colorway": [
           "#636efa",
           "#EF553B",
           "#00cc96",
           "#ab63fa",
           "#FFA15A",
           "#19d3f3",
           "#FF6692",
           "#B6E880",
           "#FF97FF",
           "#FECB52"
          ],
          "font": {
           "color": "#2a3f5f"
          },
          "geo": {
           "bgcolor": "white",
           "lakecolor": "white",
           "landcolor": "#E5ECF6",
           "showlakes": true,
           "showland": true,
           "subunitcolor": "white"
          },
          "hoverlabel": {
           "align": "left"
          },
          "hovermode": "closest",
          "mapbox": {
           "style": "light"
          },
          "paper_bgcolor": "white",
          "plot_bgcolor": "#E5ECF6",
          "polar": {
           "angularaxis": {
            "gridcolor": "white",
            "linecolor": "white",
            "ticks": ""
           },
           "bgcolor": "#E5ECF6",
           "radialaxis": {
            "gridcolor": "white",
            "linecolor": "white",
            "ticks": ""
           }
          },
          "scene": {
           "xaxis": {
            "backgroundcolor": "#E5ECF6",
            "gridcolor": "white",
            "gridwidth": 2,
            "linecolor": "white",
            "showbackground": true,
            "ticks": "",
            "zerolinecolor": "white"
           },
           "yaxis": {
            "backgroundcolor": "#E5ECF6",
            "gridcolor": "white",
            "gridwidth": 2,
            "linecolor": "white",
            "showbackground": true,
            "ticks": "",
            "zerolinecolor": "white"
           },
           "zaxis": {
            "backgroundcolor": "#E5ECF6",
            "gridcolor": "white",
            "gridwidth": 2,
            "linecolor": "white",
            "showbackground": true,
            "ticks": "",
            "zerolinecolor": "white"
           }
          },
          "shapedefaults": {
           "line": {
            "color": "#2a3f5f"
           }
          },
          "ternary": {
           "aaxis": {
            "gridcolor": "white",
            "linecolor": "white",
            "ticks": ""
           },
           "baxis": {
            "gridcolor": "white",
            "linecolor": "white",
            "ticks": ""
           },
           "bgcolor": "#E5ECF6",
           "caxis": {
            "gridcolor": "white",
            "linecolor": "white",
            "ticks": ""
           }
          },
          "title": {
           "x": 0.05
          },
          "xaxis": {
           "automargin": true,
           "gridcolor": "white",
           "linecolor": "white",
           "ticks": "",
           "title": {
            "standoff": 15
           },
           "zerolinecolor": "white",
           "zerolinewidth": 2
          },
          "yaxis": {
           "automargin": true,
           "gridcolor": "white",
           "linecolor": "white",
           "ticks": "",
           "title": {
            "standoff": 15
           },
           "zerolinecolor": "white",
           "zerolinewidth": 2
          }
         }
        },
        "title": {
         "font": {
          "size": 20
         },
         "text": "Top 20 tracks with most races in history",
         "x": 0.5
        },
        "xaxis": {
         "anchor": "y",
         "domain": [
          0,
          1
         ],
         "title": {
          "text": "Track name"
         }
        },
        "yaxis": {
         "anchor": "x",
         "categoryarray": [
          "Silverstone",
          "Sepang",
          "Motegi",
          "Hockenheim",
          "Belfast",
          "Salzburgring",
          "Donington Park",
          "Ricardo Tormo",
          "Phillip Island",
          "Monza",
          "Misano",
          "Isle of Man",
          "Catalunya",
          "Le Mans",
          "Mugello",
          "Sachsenring",
          "Jerez",
          "Spa-Francorchamps",
          "Brno",
          "Assen"
         ],
         "categoryorder": "array",
         "domain": [
          0,
          1
         ],
         "title": {
          "text": "Amount of races"
         }
        }
       }
      }
     },
     "metadata": {},
     "output_type": "display_data"
    }
   ],
   "source": [
    "df_grouped = race_results_view.groupby(['year', 'sequence']).first()\n",
    "circuit_counts = df_grouped['circuit_name'].value_counts()\n",
    "circuit_counts_df = circuit_counts.reset_index()\n",
    "circuit_counts_df.rename(columns={'index': 'circuit',\n",
    "                                 'circuit_name': 'amount'}, inplace=True)\n",
    "\n",
    "circuits_bar = px.bar(circuit_counts_df.head(20), x = 'count', y = 'amount', color = 'amount')\n",
    "\n",
    "circuits_bar.update_layout(\n",
    "    title = 'Top 20 tracks with most races in history',\n",
    "    title_x = 0.5,\n",
    "    title_font_size = 20,\n",
    ")\n",
    "circuits_bar.update_yaxes(\n",
    "    title = 'Amount of races'\n",
    ")\n",
    "circuits_bar.update_xaxes(\n",
    "    title = 'Track name'\n",
    ")\n",
    "circuits_bar.show()"
   ]
  },
  {
   "cell_type": "markdown",
   "metadata": {},
   "source": [
    "### Riders performance on wet and dry track"
   ]
  },
  {
   "cell_type": "code",
   "execution_count": 7,
   "id": "0b776c49",
   "metadata": {
    "ExecuteTime": {
     "end_time": "2023-10-30T18:02:52.701351Z",
     "start_time": "2023-10-30T18:02:52.110350Z"
    }
   },
   "outputs": [
    {
     "name": "stdout",
     "output_type": "stream",
     "text": [
      "Dash is running on http://127.0.0.1:8112/\n",
      "\n"
     ]
    },
    {
     "data": {
      "text/html": [
       "\n",
       "        <iframe\n",
       "            width=\"100%\"\n",
       "            height=\"650\"\n",
       "            src=\"http://127.0.0.1:8112/\"\n",
       "            frameborder=\"0\"\n",
       "            allowfullscreen\n",
       "            \n",
       "        ></iframe>\n",
       "        "
      ],
      "text/plain": [
       "<IPython.lib.display.IFrame at 0x177daa911e0>"
      ]
     },
     "metadata": {},
     "output_type": "display_data"
    }
   ],
   "source": [
    "rider_stats_2005_gp = race_results_view[(race_results_view['year'] >= 2005) & (race_results_view['category'] == \"MotoGP\")]\n",
    "rider_stats_2005_gp = rider_stats_2005_gp.loc[:, ['year', 'sequence','rider_name','points']]\n",
    "\n",
    "motoGP_conditions = race_condition[(race_condition['category'] == \"MotoGP\")]\n",
    "motoGP_conditions = motoGP_conditions.loc[:, ['year','sequence','track']]\n",
    "\n",
    "merged_df = rider_stats_2005_gp.merge(motoGP_conditions[['year', 'sequence', 'track']], on=['year', 'sequence'])\n",
    "\n",
    "\n",
    "app = JupyterDash(__name__)\n",
    "\n",
    "app.layout = html.Div([\n",
    "    dcc.Dropdown(\n",
    "        id = \"filter\",\n",
    "        options = merged_df['rider_name'].unique(),\n",
    "        value = \"Rossi, Valentino\"\n",
    "    ),\n",
    "    dcc.Graph(id = \"graph\")\n",
    "])\n",
    "\n",
    "@app.callback(\n",
    "    Output(\"graph\", \"figure\"),\n",
    "    Input(\"filter\",\"value\")\n",
    ")\n",
    "def plot_box(rider_name):\n",
    "    dry_track_results = merged_df[(merged_df['track'] == 'Dry') & (merged_df['rider_name'] == rider_name)]\n",
    "    dry_track_results_sum = dry_track_results.groupby(['year', 'sequence', 'rider_name'])['points'].sum().reset_index()\n",
    "\n",
    "    wet_track_results = merged_df[(merged_df['track'] == 'Wet') & (merged_df['rider_name'] == rider_name)]\n",
    "    wet_track_results_sum = wet_track_results.groupby(['year', 'sequence', 'rider_name'])['points'].sum().reset_index()\n",
    "\n",
    "    fig = go.Figure()\n",
    "    fig.add_trace(go.Box(y = dry_track_results_sum['points'],name = 'Dry track', marker_color = 'indianred'))\n",
    "    fig.add_trace(go.Box(y = wet_track_results_sum['points'], name = 'Wet track', marker_color = 'royalblue'))\n",
    "    \n",
    "    fig.update_layout(\n",
    "        title = 'Rider points on dry and wet track',\n",
    "        title_x = 0.5,\n",
    "        title_font_size = 20\n",
    "    )\n",
    "    fig.update_yaxes(\n",
    "        title = 'Points'\n",
    "    )\n",
    "\n",
    "    return fig\n",
    "\n",
    "if __name__ == \"__main__\":\n",
    "    app.run_server(mode=\"inline\", port = 8112)\n"
   ]
  },
  {
   "cell_type": "markdown",
   "metadata": {},
   "source": [
    "### How many races have held motoGP ivents in each country, MAP"
   ]
  },
  {
   "cell_type": "code",
   "execution_count": 8,
   "id": "18f88051",
   "metadata": {
    "ExecuteTime": {
     "end_time": "2023-05-04T08:40:05.828416Z",
     "start_time": "2023-05-04T08:40:05.591621Z"
    }
   },
   "outputs": [
    {
     "data": {
      "application/vnd.plotly.v1+json": {
       "config": {
        "plotlyServerURL": "https://plot.ly"
       },
       "data": [
        {
         "coloraxis": "coloraxis",
         "geo": "geo",
         "hovertemplate": "gp_code=%{location}<br>count=%{z}<extra></extra>",
         "locations": [
          "SPA",
          "ITA",
          "GBR",
          "GER",
          "NED",
          "FRA",
          "CZE",
          "BEL",
          "JPN",
          "USA",
          "AUT",
          "AUS",
          "MAL",
          "POR",
          "SWE",
          "FIN",
          "QAT",
          "CRO",
          "ARG",
          "BRA",
          "RSA",
          "SWI",
          "CHN",
          "VEN",
          "TUR",
          "HUN",
          "INA",
          "THA",
          "CAN"
         ],
         "name": "",
         "type": "choropleth",
         "z": [
          113,
          101,
          93,
          78,
          72,
          59,
          44,
          41,
          37,
          33,
          32,
          31,
          29,
          28,
          21,
          20,
          19,
          15,
          15,
          13,
          10,
          6,
          4,
          3,
          3,
          2,
          2,
          2,
          1
         ]
        }
       ],
       "layout": {
        "coloraxis": {
         "colorbar": {
          "title": {
           "text": "count"
          }
         },
         "colorscale": [
          [
           0,
           "#0d0887"
          ],
          [
           0.1111111111111111,
           "#46039f"
          ],
          [
           0.2222222222222222,
           "#7201a8"
          ],
          [
           0.3333333333333333,
           "#9c179e"
          ],
          [
           0.4444444444444444,
           "#bd3786"
          ],
          [
           0.5555555555555556,
           "#d8576b"
          ],
          [
           0.6666666666666666,
           "#ed7953"
          ],
          [
           0.7777777777777778,
           "#fb9f3a"
          ],
          [
           0.8888888888888888,
           "#fdca26"
          ],
          [
           1,
           "#f0f921"
          ]
         ]
        },
        "geo": {
         "center": {},
         "domain": {
          "x": [
           0,
           1
          ],
          "y": [
           0,
           1
          ]
         }
        },
        "legend": {
         "tracegroupgap": 0
        },
        "margin": {
         "t": 60
        },
        "template": {
         "data": {
          "bar": [
           {
            "error_x": {
             "color": "#2a3f5f"
            },
            "error_y": {
             "color": "#2a3f5f"
            },
            "marker": {
             "line": {
              "color": "#E5ECF6",
              "width": 0.5
             },
             "pattern": {
              "fillmode": "overlay",
              "size": 10,
              "solidity": 0.2
             }
            },
            "type": "bar"
           }
          ],
          "barpolar": [
           {
            "marker": {
             "line": {
              "color": "#E5ECF6",
              "width": 0.5
             },
             "pattern": {
              "fillmode": "overlay",
              "size": 10,
              "solidity": 0.2
             }
            },
            "type": "barpolar"
           }
          ],
          "carpet": [
           {
            "aaxis": {
             "endlinecolor": "#2a3f5f",
             "gridcolor": "white",
             "linecolor": "white",
             "minorgridcolor": "white",
             "startlinecolor": "#2a3f5f"
            },
            "baxis": {
             "endlinecolor": "#2a3f5f",
             "gridcolor": "white",
             "linecolor": "white",
             "minorgridcolor": "white",
             "startlinecolor": "#2a3f5f"
            },
            "type": "carpet"
           }
          ],
          "choropleth": [
           {
            "colorbar": {
             "outlinewidth": 0,
             "ticks": ""
            },
            "type": "choropleth"
           }
          ],
          "contour": [
           {
            "colorbar": {
             "outlinewidth": 0,
             "ticks": ""
            },
            "colorscale": [
             [
              0,
              "#0d0887"
             ],
             [
              0.1111111111111111,
              "#46039f"
             ],
             [
              0.2222222222222222,
              "#7201a8"
             ],
             [
              0.3333333333333333,
              "#9c179e"
             ],
             [
              0.4444444444444444,
              "#bd3786"
             ],
             [
              0.5555555555555556,
              "#d8576b"
             ],
             [
              0.6666666666666666,
              "#ed7953"
             ],
             [
              0.7777777777777778,
              "#fb9f3a"
             ],
             [
              0.8888888888888888,
              "#fdca26"
             ],
             [
              1,
              "#f0f921"
             ]
            ],
            "type": "contour"
           }
          ],
          "contourcarpet": [
           {
            "colorbar": {
             "outlinewidth": 0,
             "ticks": ""
            },
            "type": "contourcarpet"
           }
          ],
          "heatmap": [
           {
            "colorbar": {
             "outlinewidth": 0,
             "ticks": ""
            },
            "colorscale": [
             [
              0,
              "#0d0887"
             ],
             [
              0.1111111111111111,
              "#46039f"
             ],
             [
              0.2222222222222222,
              "#7201a8"
             ],
             [
              0.3333333333333333,
              "#9c179e"
             ],
             [
              0.4444444444444444,
              "#bd3786"
             ],
             [
              0.5555555555555556,
              "#d8576b"
             ],
             [
              0.6666666666666666,
              "#ed7953"
             ],
             [
              0.7777777777777778,
              "#fb9f3a"
             ],
             [
              0.8888888888888888,
              "#fdca26"
             ],
             [
              1,
              "#f0f921"
             ]
            ],
            "type": "heatmap"
           }
          ],
          "heatmapgl": [
           {
            "colorbar": {
             "outlinewidth": 0,
             "ticks": ""
            },
            "colorscale": [
             [
              0,
              "#0d0887"
             ],
             [
              0.1111111111111111,
              "#46039f"
             ],
             [
              0.2222222222222222,
              "#7201a8"
             ],
             [
              0.3333333333333333,
              "#9c179e"
             ],
             [
              0.4444444444444444,
              "#bd3786"
             ],
             [
              0.5555555555555556,
              "#d8576b"
             ],
             [
              0.6666666666666666,
              "#ed7953"
             ],
             [
              0.7777777777777778,
              "#fb9f3a"
             ],
             [
              0.8888888888888888,
              "#fdca26"
             ],
             [
              1,
              "#f0f921"
             ]
            ],
            "type": "heatmapgl"
           }
          ],
          "histogram": [
           {
            "marker": {
             "pattern": {
              "fillmode": "overlay",
              "size": 10,
              "solidity": 0.2
             }
            },
            "type": "histogram"
           }
          ],
          "histogram2d": [
           {
            "colorbar": {
             "outlinewidth": 0,
             "ticks": ""
            },
            "colorscale": [
             [
              0,
              "#0d0887"
             ],
             [
              0.1111111111111111,
              "#46039f"
             ],
             [
              0.2222222222222222,
              "#7201a8"
             ],
             [
              0.3333333333333333,
              "#9c179e"
             ],
             [
              0.4444444444444444,
              "#bd3786"
             ],
             [
              0.5555555555555556,
              "#d8576b"
             ],
             [
              0.6666666666666666,
              "#ed7953"
             ],
             [
              0.7777777777777778,
              "#fb9f3a"
             ],
             [
              0.8888888888888888,
              "#fdca26"
             ],
             [
              1,
              "#f0f921"
             ]
            ],
            "type": "histogram2d"
           }
          ],
          "histogram2dcontour": [
           {
            "colorbar": {
             "outlinewidth": 0,
             "ticks": ""
            },
            "colorscale": [
             [
              0,
              "#0d0887"
             ],
             [
              0.1111111111111111,
              "#46039f"
             ],
             [
              0.2222222222222222,
              "#7201a8"
             ],
             [
              0.3333333333333333,
              "#9c179e"
             ],
             [
              0.4444444444444444,
              "#bd3786"
             ],
             [
              0.5555555555555556,
              "#d8576b"
             ],
             [
              0.6666666666666666,
              "#ed7953"
             ],
             [
              0.7777777777777778,
              "#fb9f3a"
             ],
             [
              0.8888888888888888,
              "#fdca26"
             ],
             [
              1,
              "#f0f921"
             ]
            ],
            "type": "histogram2dcontour"
           }
          ],
          "mesh3d": [
           {
            "colorbar": {
             "outlinewidth": 0,
             "ticks": ""
            },
            "type": "mesh3d"
           }
          ],
          "parcoords": [
           {
            "line": {
             "colorbar": {
              "outlinewidth": 0,
              "ticks": ""
             }
            },
            "type": "parcoords"
           }
          ],
          "pie": [
           {
            "automargin": true,
            "type": "pie"
           }
          ],
          "scatter": [
           {
            "fillpattern": {
             "fillmode": "overlay",
             "size": 10,
             "solidity": 0.2
            },
            "type": "scatter"
           }
          ],
          "scatter3d": [
           {
            "line": {
             "colorbar": {
              "outlinewidth": 0,
              "ticks": ""
             }
            },
            "marker": {
             "colorbar": {
              "outlinewidth": 0,
              "ticks": ""
             }
            },
            "type": "scatter3d"
           }
          ],
          "scattercarpet": [
           {
            "marker": {
             "colorbar": {
              "outlinewidth": 0,
              "ticks": ""
             }
            },
            "type": "scattercarpet"
           }
          ],
          "scattergeo": [
           {
            "marker": {
             "colorbar": {
              "outlinewidth": 0,
              "ticks": ""
             }
            },
            "type": "scattergeo"
           }
          ],
          "scattergl": [
           {
            "marker": {
             "colorbar": {
              "outlinewidth": 0,
              "ticks": ""
             }
            },
            "type": "scattergl"
           }
          ],
          "scattermapbox": [
           {
            "marker": {
             "colorbar": {
              "outlinewidth": 0,
              "ticks": ""
             }
            },
            "type": "scattermapbox"
           }
          ],
          "scatterpolar": [
           {
            "marker": {
             "colorbar": {
              "outlinewidth": 0,
              "ticks": ""
             }
            },
            "type": "scatterpolar"
           }
          ],
          "scatterpolargl": [
           {
            "marker": {
             "colorbar": {
              "outlinewidth": 0,
              "ticks": ""
             }
            },
            "type": "scatterpolargl"
           }
          ],
          "scatterternary": [
           {
            "marker": {
             "colorbar": {
              "outlinewidth": 0,
              "ticks": ""
             }
            },
            "type": "scatterternary"
           }
          ],
          "surface": [
           {
            "colorbar": {
             "outlinewidth": 0,
             "ticks": ""
            },
            "colorscale": [
             [
              0,
              "#0d0887"
             ],
             [
              0.1111111111111111,
              "#46039f"
             ],
             [
              0.2222222222222222,
              "#7201a8"
             ],
             [
              0.3333333333333333,
              "#9c179e"
             ],
             [
              0.4444444444444444,
              "#bd3786"
             ],
             [
              0.5555555555555556,
              "#d8576b"
             ],
             [
              0.6666666666666666,
              "#ed7953"
             ],
             [
              0.7777777777777778,
              "#fb9f3a"
             ],
             [
              0.8888888888888888,
              "#fdca26"
             ],
             [
              1,
              "#f0f921"
             ]
            ],
            "type": "surface"
           }
          ],
          "table": [
           {
            "cells": {
             "fill": {
              "color": "#EBF0F8"
             },
             "line": {
              "color": "white"
             }
            },
            "header": {
             "fill": {
              "color": "#C8D4E3"
             },
             "line": {
              "color": "white"
             }
            },
            "type": "table"
           }
          ]
         },
         "layout": {
          "annotationdefaults": {
           "arrowcolor": "#2a3f5f",
           "arrowhead": 0,
           "arrowwidth": 1
          },
          "autotypenumbers": "strict",
          "coloraxis": {
           "colorbar": {
            "outlinewidth": 0,
            "ticks": ""
           }
          },
          "colorscale": {
           "diverging": [
            [
             0,
             "#8e0152"
            ],
            [
             0.1,
             "#c51b7d"
            ],
            [
             0.2,
             "#de77ae"
            ],
            [
             0.3,
             "#f1b6da"
            ],
            [
             0.4,
             "#fde0ef"
            ],
            [
             0.5,
             "#f7f7f7"
            ],
            [
             0.6,
             "#e6f5d0"
            ],
            [
             0.7,
             "#b8e186"
            ],
            [
             0.8,
             "#7fbc41"
            ],
            [
             0.9,
             "#4d9221"
            ],
            [
             1,
             "#276419"
            ]
           ],
           "sequential": [
            [
             0,
             "#0d0887"
            ],
            [
             0.1111111111111111,
             "#46039f"
            ],
            [
             0.2222222222222222,
             "#7201a8"
            ],
            [
             0.3333333333333333,
             "#9c179e"
            ],
            [
             0.4444444444444444,
             "#bd3786"
            ],
            [
             0.5555555555555556,
             "#d8576b"
            ],
            [
             0.6666666666666666,
             "#ed7953"
            ],
            [
             0.7777777777777778,
             "#fb9f3a"
            ],
            [
             0.8888888888888888,
             "#fdca26"
            ],
            [
             1,
             "#f0f921"
            ]
           ],
           "sequentialminus": [
            [
             0,
             "#0d0887"
            ],
            [
             0.1111111111111111,
             "#46039f"
            ],
            [
             0.2222222222222222,
             "#7201a8"
            ],
            [
             0.3333333333333333,
             "#9c179e"
            ],
            [
             0.4444444444444444,
             "#bd3786"
            ],
            [
             0.5555555555555556,
             "#d8576b"
            ],
            [
             0.6666666666666666,
             "#ed7953"
            ],
            [
             0.7777777777777778,
             "#fb9f3a"
            ],
            [
             0.8888888888888888,
             "#fdca26"
            ],
            [
             1,
             "#f0f921"
            ]
           ]
          },
          "colorway": [
           "#636efa",
           "#EF553B",
           "#00cc96",
           "#ab63fa",
           "#FFA15A",
           "#19d3f3",
           "#FF6692",
           "#B6E880",
           "#FF97FF",
           "#FECB52"
          ],
          "font": {
           "color": "#2a3f5f"
          },
          "geo": {
           "bgcolor": "white",
           "lakecolor": "white",
           "landcolor": "#E5ECF6",
           "showlakes": true,
           "showland": true,
           "subunitcolor": "white"
          },
          "hoverlabel": {
           "align": "left"
          },
          "hovermode": "closest",
          "mapbox": {
           "style": "light"
          },
          "paper_bgcolor": "white",
          "plot_bgcolor": "#E5ECF6",
          "polar": {
           "angularaxis": {
            "gridcolor": "white",
            "linecolor": "white",
            "ticks": ""
           },
           "bgcolor": "#E5ECF6",
           "radialaxis": {
            "gridcolor": "white",
            "linecolor": "white",
            "ticks": ""
           }
          },
          "scene": {
           "xaxis": {
            "backgroundcolor": "#E5ECF6",
            "gridcolor": "white",
            "gridwidth": 2,
            "linecolor": "white",
            "showbackground": true,
            "ticks": "",
            "zerolinecolor": "white"
           },
           "yaxis": {
            "backgroundcolor": "#E5ECF6",
            "gridcolor": "white",
            "gridwidth": 2,
            "linecolor": "white",
            "showbackground": true,
            "ticks": "",
            "zerolinecolor": "white"
           },
           "zaxis": {
            "backgroundcolor": "#E5ECF6",
            "gridcolor": "white",
            "gridwidth": 2,
            "linecolor": "white",
            "showbackground": true,
            "ticks": "",
            "zerolinecolor": "white"
           }
          },
          "shapedefaults": {
           "line": {
            "color": "#2a3f5f"
           }
          },
          "ternary": {
           "aaxis": {
            "gridcolor": "white",
            "linecolor": "white",
            "ticks": ""
           },
           "baxis": {
            "gridcolor": "white",
            "linecolor": "white",
            "ticks": ""
           },
           "bgcolor": "#E5ECF6",
           "caxis": {
            "gridcolor": "white",
            "linecolor": "white",
            "ticks": ""
           }
          },
          "title": {
           "x": 0.05
          },
          "xaxis": {
           "automargin": true,
           "gridcolor": "white",
           "linecolor": "white",
           "ticks": "",
           "title": {
            "standoff": 15
           },
           "zerolinecolor": "white",
           "zerolinewidth": 2
          },
          "yaxis": {
           "automargin": true,
           "gridcolor": "white",
           "linecolor": "white",
           "ticks": "",
           "title": {
            "standoff": 15
           },
           "zerolinecolor": "white",
           "zerolinewidth": 2
          }
         }
        },
        "title": {
         "font": {
          "size": 20
         },
         "text": "Number of races in each country",
         "x": 0.5
        }
       }
      }
     },
     "metadata": {},
     "output_type": "display_data"
    }
   ],
   "source": [
    "merged_countries1 = race_results_view.merge(circuits[[\"name\",\"short_name\",\"country\"]],left_on= 'circuit_name', right_on= 'short_name')\n",
    "df_grouped = merged_countries1.groupby(['year', 'sequence']).first()\n",
    "country_counts = df_grouped['country_y'].value_counts()\n",
    "country_counts_df = country_counts.reset_index()\n",
    "country_counts_df.rename(columns={'country_y': 'iso_code'}, inplace=True)\n",
    "\n",
    "merged_countries = country_counts_df.merge(countries, on=\"iso_code\", how = 'left')\n",
    "\n",
    "\n",
    "fig = px.choropleth(merged_countries,\n",
    "                    locations=\"gp_code\",\n",
    "                    color = \"count\",\n",
    "                    labels = {\"country_y\" : \"Number of races\"}\n",
    "                   )\n",
    "\n",
    "fig.update_layout(\n",
    "    title_text = 'Number of races in each country',\n",
    "    title_x = 0.5,\n",
    "    title_font_size = 20\n",
    ")\n",
    "\n",
    "fig.show()"
   ]
  }
 ],
 "metadata": {
  "kernelspec": {
   "display_name": "Python 3 (ipykernel)",
   "language": "python",
   "name": "python3"
  },
  "language_info": {
   "codemirror_mode": {
    "name": "ipython",
    "version": 3
   },
   "file_extension": ".py",
   "mimetype": "text/x-python",
   "name": "python",
   "nbconvert_exporter": "python",
   "pygments_lexer": "ipython3",
   "version": "3.10.11"
  }
 },
 "nbformat": 4,
 "nbformat_minor": 5
}
